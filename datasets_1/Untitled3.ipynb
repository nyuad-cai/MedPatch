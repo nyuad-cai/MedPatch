{
 "cells": [
  {
   "cell_type": "code",
   "execution_count": 1,
   "id": "d7c4a0c0-ac7f-49d6-8270-4433acbb7407",
   "metadata": {},
   "outputs": [
    {
     "name": "stdout",
     "output_type": "stream",
     "text": [
      "Loading datasets...\n",
      "Tokenizing text in cxr_reports and mimic_notes...\n"
     ]
    },
    {
     "name": "stderr",
     "output_type": "stream",
     "text": [
      "100%|██████████| 227835/227835 [00:09<00:00, 24824.52it/s]\n",
      "100%|██████████| 2321355/2321355 [03:11<00:00, 12094.39it/s]\n"
     ]
    },
    {
     "name": "stdout",
     "output_type": "stream",
     "text": [
      "Generating MinHash signatures for cxr_reports...\n"
     ]
    },
    {
     "name": "stderr",
     "output_type": "stream",
     "text": [
      "CXR MinHash Generation: 100%|██████████| 227835/227835 [00:40<00:00, 5634.72it/s]\n"
     ]
    },
    {
     "name": "stdout",
     "output_type": "stream",
     "text": [
      "Completed MinHash signature generation for cxr_reports.\n",
      "Building the LSH index for cxr_reports...\n"
     ]
    },
    {
     "name": "stderr",
     "output_type": "stream",
     "text": [
      "Building LSH Index: 100%|██████████| 227835/227835 [00:35<00:00, 6495.70it/s] "
     ]
    },
    {
     "name": "stdout",
     "output_type": "stream",
     "text": [
      "LSH index built for cxr_reports.\n",
      "Generating MinHash signatures for mimic_notes...\n"
     ]
    },
    {
     "name": "stderr",
     "output_type": "stream",
     "text": [
      "\n",
      "MIMIC MinHash Generation: 100%|██████████| 2321355/2321355 [06:27<00:00, 5995.37it/s] \n"
     ]
    },
    {
     "name": "stdout",
     "output_type": "stream",
     "text": [
      "Completed MinHash signature generation for mimic_notes.\n",
      "Checking similarity of mimic_notes against cxr_reports in batches...\n"
     ]
    },
    {
     "name": "stderr",
     "output_type": "stream",
     "text": [
      "Similarity Check: 100%|██████████| 2321355/2321355 [02:33<00:00, 15143.60it/s]\n"
     ]
    },
    {
     "name": "stdout",
     "output_type": "stream",
     "text": [
      "Similarity check completed.\n",
      "Filtering unique mimic_notes that are not in cxr_reports...\n",
      "Displaying unique mimic_notes...\n",
      "          note_id  subject_id     hadm_id note_type  note_seq  \\\n",
      "2  10000032-RR-16    10000032  22595853.0        RR        16   \n",
      "3  10000032-RR-18    10000032         NaN        RR        18   \n",
      "5  10000032-RR-21    10000032         NaN        RR        21   \n",
      "6  10000032-RR-22    10000032  22841357.0        RR        22   \n",
      "7  10000032-RR-23    10000032  22841357.0        RR        23   \n",
      "\n",
      "             charttime            storetime  \\\n",
      "2  2180-05-07 09:55:00  2180-05-07 11:15:00   \n",
      "3  2180-06-03 12:46:00  2180-06-03 14:01:00   \n",
      "5  2180-06-30 08:16:00  2180-06-30 12:58:00   \n",
      "6  2180-06-26 17:15:00  2180-06-26 19:28:00   \n",
      "7  2180-06-26 17:17:00  2180-06-26 17:28:00   \n",
      "\n",
      "                                                text  \\\n",
      "2  INDICATION:  ___ HCV cirrhosis c/b ascites, hi...   \n",
      "3  EXAMINATION:  Ultrasound-guided paracentesis.\\...   \n",
      "5  EXAMINATION:  ULTRASOUND INTERVENTIONAL PROCED...   \n",
      "6  EXAMINATION:  LIVER OR GALLBLADDER US (SINGLE ...   \n",
      "7  EXAMINATION:  CHEST (PA AND LAT)\\n\\nINDICATION...   \n",
      "\n",
      "                                              tokens  \\\n",
      "2  {identifiers,, was, serosanguinous, protocol.,...   \n",
      "3  {ascitic, identifiers,, was, protocol., blood,...   \n",
      "5  {ascitic, reviewed., identifiers,, was, protoc...   \n",
      "6  {11.9, coarse, are, homogeneous, well, examina...   \n",
      "7  {hilar, clear., and, present., multiple, seen,...   \n",
      "\n",
      "                                             minhash  is_similar  \n",
      "2  <datasketch.minhash.MinHash object at 0x1550ae...       False  \n",
      "3  <datasketch.minhash.MinHash object at 0x1550ae...       False  \n",
      "5  <datasketch.minhash.MinHash object at 0x1550ae...       False  \n",
      "6  <datasketch.minhash.MinHash object at 0x1550ae...       False  \n",
      "7  <datasketch.minhash.MinHash object at 0x1550ae...       False  \n",
      "Unique mimic_notes saved to '/scratch/baj321/unique_mimic_radiology_notes.csv'.\n"
     ]
    }
   ],
   "source": [
    "from datasketch import MinHash, MinHashLSH\n",
    "from multiprocessing import Pool, cpu_count\n",
    "import pandas as pd\n",
    "from tqdm import tqdm  # For progress tracking\n",
    "tqdm.pandas() \n",
    "\n",
    "# Parameters\n",
    "NUM_PERMUTATIONS = 128 \n",
    "JACCARD_THRESHOLD = 0.75  \n",
    "BATCH_SIZE = 100000  # Adjust batch size based on available memory and CPU\n",
    "\n",
    "# MinHash signature creation function\n",
    "def create_minhash_signature(tokens):\n",
    "    m = MinHash(num_perm=NUM_PERMUTATIONS)\n",
    "    for token in tokens:\n",
    "        m.update(token.encode('utf8'))\n",
    "    return m\n",
    "\n",
    "# Preprocess and tokenize text\n",
    "def preprocess_and_tokenize(text):\n",
    "    if pd.isnull(text):\n",
    "        return set()\n",
    "    text = text.lower()\n",
    "    text = text.replace(\"\\n\", \" \").replace(\"final report\", \"\")\n",
    "    text = ' '.join(text.split())  # Removes extra spaces\n",
    "    tokens = text.split()\n",
    "    return set(tokens)\n",
    "\n",
    "# Helper function to process a batch of data\n",
    "def process_batch_min_hash(data):\n",
    "    return data.apply(create_minhash_signature)\n",
    "\n",
    "# Load datasets and apply tokenization\n",
    "print(\"Loading datasets...\")\n",
    "cxr_reports = pd.read_csv(\"/scratch/baj321/cxr_reports.csv\")  # Adjust path to file\n",
    "mimic_notes = pd.read_csv(\"/scratch/baj321/MIMIC-Note/physionet.org/files/mimic-iv-note/2.2/note/radiology.csv\")  # Adjust path to file\n",
    "\n",
    "print(\"Tokenizing text in cxr_reports and mimic_notes...\")\n",
    "cxr_reports['tokens'] = cxr_reports['cxr_report_text'].progress_apply(preprocess_and_tokenize)\n",
    "mimic_notes['tokens'] = mimic_notes['text'].progress_apply(preprocess_and_tokenize)\n",
    "\n",
    "# Generate MinHash signatures for cxr_reports with progress tracking\n",
    "print(\"Generating MinHash signatures for cxr_reports...\")\n",
    "cpu_cores = cpu_count()\n",
    "with Pool(cpu_cores) as pool:\n",
    "    cxr_reports['minhash'] = list(tqdm(pool.imap_unordered(create_minhash_signature, cxr_reports['tokens']), \n",
    "                                       total=len(cxr_reports), \n",
    "                                       desc=\"CXR MinHash Generation\"))\n",
    "print(\"Completed MinHash signature generation for cxr_reports.\")\n",
    "\n",
    "# Build the LSH index for cxr_reports\n",
    "print(\"Building the LSH index for cxr_reports...\")\n",
    "lsh = MinHashLSH(threshold=JACCARD_THRESHOLD, num_perm=NUM_PERMUTATIONS)\n",
    "for idx, minhash in tqdm(enumerate(cxr_reports['minhash']), total=len(cxr_reports), desc=\"Building LSH Index\"):\n",
    "    lsh.insert(f\"cxr_{idx}\", minhash)\n",
    "print(\"LSH index built for cxr_reports.\")\n",
    "\n",
    "# Generate MinHash signatures for mimic_notes in parallel with progress tracking\n",
    "print(\"Generating MinHash signatures for mimic_notes...\")\n",
    "with Pool(cpu_cores) as pool:\n",
    "    mimic_notes['minhash'] = list(tqdm(pool.imap_unordered(create_minhash_signature, mimic_notes['tokens']), \n",
    "                                       total=len(mimic_notes), \n",
    "                                       desc=\"MIMIC MinHash Generation\"))\n",
    "print(\"Completed MinHash signature generation for mimic_notes.\")\n",
    "\n",
    "# Function to check similarity for a single MinHash signature\n",
    "def is_similar(mimic_report_minhash):\n",
    "    return len(lsh.query(mimic_report_minhash)) > 0\n",
    "\n",
    "# Check for similarity in batches with progress tracking\n",
    "print(\"Checking similarity of mimic_notes against cxr_reports in batches...\")\n",
    "with Pool(cpu_cores) as pool:\n",
    "    mimic_notes['is_similar'] = list(tqdm(pool.imap_unordered(is_similar, mimic_notes['minhash']), \n",
    "                                          total=len(mimic_notes), \n",
    "                                          desc=\"Similarity Check\"))\n",
    "print(\"Similarity check completed.\")\n",
    "\n",
    "# Filter out similar reports to get unique reports in mimic_notes\n",
    "print(\"Filtering unique mimic_notes that are not in cxr_reports...\")\n",
    "unique_mimic_notes = mimic_notes[~mimic_notes['is_similar']]\n",
    "\n",
    "# Display or save results\n",
    "print(\"Displaying unique mimic_notes...\")\n",
    "print(unique_mimic_notes.head())  # Display the first few rows\n",
    "len(unique_mimic_notes)\n",
    "unique_mimic_notes.to_csv(\"/scratch/baj321/unique_mimic_notes.csv\", index=False)  # Save to a CSV file for further analysis\n",
    "print(\"Unique mimic_notes saved to '/scratch/baj321/unique_mimic_radiology_notes.csv'.\")\n"
   ]
  },
  {
   "cell_type": "code",
   "execution_count": null,
   "id": "eeef79ba-bc53-4c5a-85f7-212eb73512a7",
   "metadata": {},
   "outputs": [],
   "source": [
    "# Build the LSH index for cxr_reports\n",
    "print(\"Building the LSH index for cxr_reports...\")\n",
    "lsh = MinHashLSH(threshold=JACCARD_THRESHOLD, num_perm=NUM_PERMUTATIONS)\n",
    "for idx, minhash in tqdm(enumerate(cxr_reports['minhash']), total=len(cxr_reports), desc=\"Building LSH Index\"):\n",
    "    lsh.insert(f\"cxr_{idx}\", minhash)\n",
    "print(\"LSH index built for cxr_reports.\")"
   ]
  },
  {
   "cell_type": "code",
   "execution_count": 3,
   "id": "69b7da31-5c11-45c3-96eb-4347b7c715b3",
   "metadata": {},
   "outputs": [],
   "source": [
    "from datasketch import MinHash, MinHashLSH\n",
    "from multiprocessing import Pool, cpu_count\n",
    "import pandas as pd\n",
    "from tqdm import tqdm  # For progress tracking\n",
    "tqdm.pandas() \n",
    "unique_mimic_notes = pd.read_csv(\"/scratch/baj321/unique_mimic_notes.csv\")\n",
    "cxr_reports = pd.read_csv(\"/scratch/baj321/cxr_reports.csv\")"
   ]
  },
  {
   "cell_type": "code",
   "execution_count": 4,
   "id": "bfd6a3e2-4d8b-4e15-b5f5-49bfa743d63e",
   "metadata": {},
   "outputs": [
    {
     "data": {
      "text/plain": [
       "2081804"
      ]
     },
     "execution_count": 4,
     "metadata": {},
     "output_type": "execute_result"
    }
   ],
   "source": [
    "len(unique_mimic_notes)"
   ]
  },
  {
   "cell_type": "code",
   "execution_count": 87,
   "id": "4a81647f-958e-4fc3-a3bd-406389fc1ab9",
   "metadata": {},
   "outputs": [
    {
     "data": {
      "text/plain": [
       "2321355"
      ]
     },
     "execution_count": 87,
     "metadata": {},
     "output_type": "execute_result"
    }
   ],
   "source": [
    "#239551 duplicates detected\n",
    "len(mimic_notes)"
   ]
  },
  {
   "cell_type": "code",
   "execution_count": 5,
   "id": "fb32eca9-650a-40a1-8c1a-e4501c1ee814",
   "metadata": {},
   "outputs": [
    {
     "data": {
      "text/plain": [
       "227835"
      ]
     },
     "execution_count": 5,
     "metadata": {},
     "output_type": "execute_result"
    }
   ],
   "source": [
    "len(cxr_reports)"
   ]
  },
  {
   "cell_type": "code",
   "execution_count": 14,
   "id": "8b1a946d-e787-4962-aae1-554cc65c8e93",
   "metadata": {},
   "outputs": [
    {
     "name": "stdout",
     "output_type": "stream",
     "text": [
      "10000032\n"
     ]
    },
    {
     "data": {
      "text/plain": [
       "'EXAMINATION:  CHEST (PA AND LAT)\\n\\nINDICATION:  History: ___ with shortness of breath\\n\\nTECHNIQUE:  Chest PA and lateral\\n\\nCOMPARISON:  ___\\n\\nFINDINGS: \\n\\nThe cardiac, mediastinal and hilar contours are normal. Pulmonary vasculature\\nis normal.  Lungs are clear. No pleural effusion or pneumothorax is present.\\nMultiple clips are again seen projecting over the left breast.  Remote\\nleft-sided rib fractures are also re- demonstrated.\\n\\nIMPRESSION: \\n\\nNo acute cardiopulmonary abnormality.\\n'"
      ]
     },
     "execution_count": 14,
     "metadata": {},
     "output_type": "execute_result"
    }
   ],
   "source": [
    "num = 5\n",
    "print(unique_mimic_notes.iloc[num].subject_id)\n",
    "unique_mimic_notes.iloc[num].text"
   ]
  },
  {
   "cell_type": "code",
   "execution_count": 64,
   "id": "c781f2c0-a2d2-4e47-a9b6-0bef30f270fb",
   "metadata": {},
   "outputs": [
    {
     "data": {
      "text/plain": [
       "'EXAMINATION:CHEST(PAANDLAT)INDICATION:History:withshortnessofbreathTECHNIQUE:ChestPAandlateralCOMPARISON:___FINDINGS:Thecardiac,mediastinalandhilarcontoursarenormal.Pulmonaryvasculatureisnormal.Lungsareclear.Nopleuraleffusionorpneumothoraxispresent.Multipleclipsareagainseenprojectingovertheleftbreast.Remoteleft-sidedribfracturesarealsore-demonstrated.IMPRESSION:Noacutecardiopulmonaryabnormality.'"
      ]
     },
     "execution_count": 64,
     "metadata": {},
     "output_type": "execute_result"
    }
   ],
   "source": [
    "cxr_reports[cxr_reports[\"subject_id\"] == 10000032 ].new_text.iloc[0]"
   ]
  },
  {
   "cell_type": "code",
   "execution_count": 33,
   "id": "777b412b-b4b7-434b-980d-1bf0414a3d94",
   "metadata": {
    "scrolled": true
   },
   "outputs": [
    {
     "name": "stdout",
     "output_type": "stream",
     "text": [
      "14591045\n"
     ]
    },
    {
     "data": {
      "text/plain": [
       "' WET READ: ___ ___ 11:10 PM\\n  No pneumothorax.  Multiple pulmonary lesions most consistent with metastatic\\n  disease.\\n ______________________________________________________________________________\\n                                 FINAL REPORT\\n EXAMINATION:  CHEST (PORTABLE AP)\\n \\n INDICATION:  ___ year old man with small L PTX after lung biopsy today, has\\n chest tube in place, will switch to water seal at 20:00  // Any pneumothorax?\\n chest tube placement?*** PATIENT IS BEING TURNED TO WATER SEAL AT 20:00.\\n PLEASE DO CXR AROUND 20:30 ***\\n \\n TECHNIQUE:  Portable chest\\n \\n COMPARISON:  ___\\n \\n FINDINGS: \\n \\n Compared to the prior study there is no significant interval change.  There is\\n a tiny left lateral pneumothorax with left chest tube in place.  Again seen\\n are bilateral pulmonary lesions compatible with metastatic disease. \\n Mediastinal clips and sternal wires are unchanged.  Left-sided dual lead\\n pacemaker is unchanged.\\n \\n IMPRESSION: \\n \\n No change.\\n'"
      ]
     },
     "execution_count": 33,
     "metadata": {},
     "output_type": "execute_result"
    }
   ],
   "source": [
    "#4\n",
    "num = 6\n",
    "print(cxr_reports.iloc[num].subject_id)\n",
    "cxr_reports.iloc[num].cxr_report_text"
   ]
  },
  {
   "cell_type": "code",
   "execution_count": 40,
   "id": "2d674d66-1105-4f5e-b6c7-64784b60fb02",
   "metadata": {},
   "outputs": [
    {
     "data": {
      "text/plain": [
       "'EXAMINATION:  CHEST (PORTABLE AP)\\n\\nINDICATION:  ___ year old man with small L PTX after lung biopsy today, has\\nchest tube in place, will switch to water seal at 20:00  // Any pneumothorax?\\nchest tube placement?*** PATIENT IS BEING TURNED TO WATER SEAL AT 20:00.\\nPLEASE DO CXR AROUND 20:30 ***\\n\\nTECHNIQUE:  Portable chest\\n\\nCOMPARISON:  ___\\n\\nFINDINGS: \\n\\nCompared to the prior study there is no significant interval change.  There is\\na tiny left lateral pneumothorax with left chest tube in place.  Again seen\\nare bilateral pulmonary lesions compatible with metastatic disease. \\nMediastinal clips and sternal wires are unchanged.  Left-sided dual lead\\npacemaker is unchanged.\\n\\nIMPRESSION: \\n\\nNo change.\\n'"
      ]
     },
     "execution_count": 40,
     "metadata": {},
     "output_type": "execute_result"
    }
   ],
   "source": [
    "unique_mimic_notes[unique_mimic_notes[\"subject_id\"] == 14591045 ].text.iloc[6]"
   ]
  },
  {
   "cell_type": "code",
   "execution_count": 126,
   "id": "549823ef-71ca-46cb-b58f-c3aeb0c68c91",
   "metadata": {},
   "outputs": [
    {
     "name": "stdout",
     "output_type": "stream",
     "text": [
      "14591045\n",
      "EXAMINATIONCHEST(PORTABLEAP)INDICATIONyearoldmanwithrecentchesttubeforpneumothorax//PleaseassessLpneumothoraxchesttubeanyintervalchange?PleaseassessLpneumothoraxchesttubeanyintervalchange?IMPRESSIONIncomparisonwithstudyof,theleftchesttuberemainsinplaceandthereisnodefinitepneumothoraxMultiplepulmonarymetastasesareagainseenbilaterally\n",
      "                                 FINAL REPORT\n",
      " EXAMINATION:  CHEST (PORTABLE AP)\n",
      " \n",
      " INDICATION:  ___ year old man with recent chest tube for pneumothorax  //\n",
      " Please assess L pneumothorax   chest tube. any interval change?      Please\n",
      " assess L pneumothorax   chest tube. any interval change?\n",
      " \n",
      " IMPRESSION: \n",
      " \n",
      " In comparison with study of ___, the left chest tube remains in place\n",
      " and there is no definite pneumothorax.  Multiple pulmonary metastases are\n",
      " again seen bilaterally.\n",
      "\n"
     ]
    }
   ],
   "source": [
    "num = 2\n",
    "print(cxr_reports.iloc[num].subject_id)\n",
    "print(cxr_reports.iloc[num].new_text)\n",
    "print(cxr_reports.iloc[num].cxr_report_text)"
   ]
  },
  {
   "cell_type": "code",
   "execution_count": 139,
   "id": "5b1b58ba-5541-4bcd-9b33-5b769dbe3e62",
   "metadata": {},
   "outputs": [],
   "source": [
    "from datasketch import MinHash, MinHashLSH\n",
    "from multiprocessing import Pool, cpu_count\n",
    "import pandas as pd\n",
    "from tqdm import tqdm\n",
    "from sklearn.feature_extraction.text import CountVectorizer\n",
    "import re\n",
    "def preprocess(text):\n",
    "    if pd.isnull(text):\n",
    "        return set()\n",
    "    \n",
    "    # Step 1: Remove everything up to the literal string \"FINAL REPORT\\n\"\n",
    "    match = re.search(r\"FINAL REPORT\\n\", text, re.IGNORECASE)\n",
    "    if match:\n",
    "        text = text[match.end():]  # Keep only text after \"FINAL REPORT\\n\"\n",
    "    # else:\n",
    "    #     return set()  # If \"FINAL REPORT\\n\" is missing, return an empty set\n",
    "    \n",
    "    # Step 2: Remove unwanted special codes\n",
    "    #text = re.sub(r\"[^A-Za-z0-9]\", \"\", text)\n",
    "    text = re.sub(r\"___M|___F|___|[.,!?/:;\\\\]\", \"\", text)\n",
    "    # Step 3: Remove all formatting: no spaces, literal \"\\n\" strings, or newlines\n",
    "    text = re.sub(r\"\\s+|\\\\n\", \"\", text)  # Remove spaces and literal \"\\n\" strings\n",
    "    return text\n",
    "def preprocess_mimic_notes(text):\n",
    "    if pd.isnull(text):\n",
    "        return set()\n",
    "    \n",
    "    # Step 1: Remove unwanted special codes\n",
    "    #text = re.sub(r\"[^A-Za-z0-9]\", \"\", text)\n",
    "    text = re.sub(r\"___M|___F|___|[.,!?/:;\\\\]\", \"\", text)\n",
    "    \n",
    "    # Step 2: Remove all formatting: no spaces, literal \"\\n\" strings, or newlines\n",
    "    text = re.sub(r\"\\s+|\\\\n\", \"\", text)  # Remove spaces and literal \"\\n\" strings\n",
    "    return text"
   ]
  },
  {
   "cell_type": "code",
   "execution_count": 140,
   "id": "239d73b6-9375-472f-889b-b8868b0adbcc",
   "metadata": {},
   "outputs": [
    {
     "name": "stderr",
     "output_type": "stream",
     "text": [
      "100%|██████████| 227835/227835 [00:14<00:00, 15804.19it/s]\n"
     ]
    }
   ],
   "source": [
    "cxr_reports['new_text'] = cxr_reports['cxr_report_text'].progress_apply(preprocess)"
   ]
  },
  {
   "cell_type": "code",
   "execution_count": 135,
   "id": "38ff4378-03f2-43b6-9b44-d550f0c13b3e",
   "metadata": {},
   "outputs": [],
   "source": [
    "mimic_notes = pd.read_csv(\"/scratch/baj321/MIMIC-Note/physionet.org/files/mimic-iv-note/2.2/note/radiology.csv\")\n"
   ]
  },
  {
   "cell_type": "code",
   "execution_count": 141,
   "id": "6bb05577-3801-4c4e-aa67-8e298617fdcc",
   "metadata": {},
   "outputs": [
    {
     "name": "stderr",
     "output_type": "stream",
     "text": [
      "100%|██████████| 2321355/2321355 [04:38<00:00, 8339.93it/s]\n"
     ]
    }
   ],
   "source": [
    "mimic_notes['new_mimic_text'] = mimic_notes['text'].progress_apply(preprocess_mimic_notes)"
   ]
  },
  {
   "cell_type": "code",
   "execution_count": 137,
   "id": "4b31983f-e483-442b-93fb-8f3b6b7ec730",
   "metadata": {},
   "outputs": [
    {
     "data": {
      "text/plain": [
       "'EXAMINATIONCHESTPORTABLEAPINDICATIONFwithcoughacuteprocessCOMPARISONChestradiographFINDINGSSinglefrontalviewofthechestprovidedThereisnofocalconsolidationeffusionorpneumothoraxThecardiomediastinalsilhouetteisnormalAgainseenaremultipleclipsprojectingovertheleftbreastandremoteleftsidedribfracturesNofreeairbelowtherighthemidiaphragmisseenIMPRESSIONNoacuteintrathoracicprocess'"
      ]
     },
     "execution_count": 137,
     "metadata": {},
     "output_type": "execute_result"
    }
   ],
   "source": [
    "cxr_reports[cxr_reports[\"subject_id\"] == 10000032 ].new_text.iloc[1]"
   ]
  },
  {
   "cell_type": "code",
   "execution_count": 121,
   "id": "9c793650-3f0c-47ad-ac32-62a7c661a393",
   "metadata": {},
   "outputs": [
    {
     "name": "stdout",
     "output_type": "stream",
     "text": [
      "10000032\n",
      "EXAMINATIONCHEST(PAANDLAT)INDICATIONHistorywithshortnessofbreathTECHNIQUEChestPAandlateralCOMPARISONFINDINGSThecardiac,mediastinalandhilarcontoursarenormalPulmonaryvasculatureisnormalLungsareclearNopleuraleffusionorpneumothoraxispresentMultipleclipsareagainseenprojectingovertheleftbreastRemoteleft-sidedribfracturesarealsore-demonstratedIMPRESSIONNoacutecardiopulmonaryabnormality\n"
     ]
    }
   ],
   "source": [
    "num = 7\n",
    "print(mimic_notes.subject_id.iloc[num])\n",
    "print(mimic_notes.new_mimic_text.iloc[num])"
   ]
  },
  {
   "cell_type": "code",
   "execution_count": 142,
   "id": "1584058c-cc21-43e1-bfa2-52d41f7946fc",
   "metadata": {},
   "outputs": [
    {
     "data": {
      "text/plain": [
       "2157600"
      ]
     },
     "execution_count": 142,
     "metadata": {},
     "output_type": "execute_result"
    }
   ],
   "source": [
    "# Remove entries in mimic_notes where new_mimic_text matches any new_text in cxr_reports\n",
    "unique_mimic_notes = mimic_notes[~mimic_notes['new_mimic_text'].isin(cxr_reports['new_text'])]\n",
    "len(unique_mimic_notes)\n",
    "#163755 are removed, 64080 unmatched"
   ]
  },
  {
   "cell_type": "code",
   "execution_count": 156,
   "id": "73a35dfc-41cc-4e63-8cd8-db1adb96b569",
   "metadata": {},
   "outputs": [
    {
     "name": "stdout",
     "output_type": "stream",
     "text": [
      "10002013\n",
      "EXAMINATIONCTCHESTWOCONTRASTINDICATIONyearoldwomanwithpriorabdCTshowing3nodularpulmonarydensitiesintheleftbasilarregionmeasuringupto8x8mmThesefindingsmaymayrepresentareasofroundedatelectasishowevershort-termfollowupwithnonemergentCTchestisrecommendedfupulmonarynodulesTECHNIQUEMultidetectorhelicalscanningofthechestwasperformedwithoutintravenouscontrastagentreconstructedascontiguous5-and125-mmthickaxial25-mmthickcoronalandparasagittaland8x8mmMIPsaxialimagesDOSEAcquisitionsequence1)SpiralAcquisition43s335cmCTDIvol=232mGy(Body)DLP=7777mGy-cmTotalDLP(Body)=778mGy-cmCOMPARISONFINDINGSThethyroidisnormalSupraclavicularaxillarymediastinalandhilarlymphnodesarenotenlargedAortaandpulmonaryarteriesarenormalsizeCardiacconfigurationisnormalPatientisstatuspostCABGthereappearstobealsocoronarystentsThereisnopleuralorpericardialeffusionTherearescatteredtinycalcifiedgranulomasThereisminimalparaseptalemphysemaThereisa3mmrightperifissuralnodule(4106)representsanintrapulmonarylymphnode3mmsubpleuralnodulerightlowerlobeisstable(4113)Therearefewsubpleuralmicronodules(43163728195128)statisticallybenignSubpleuralminimalnodularityintheinferioraspectoftherightmiddlelobe(4146)isstableSubpleuralopacitiesintheleftlowerlobearestablefromabdomenCTnotevaluatedinduetothepresenceofleftpleuraleffusionThisexaminationisnottailoredforsubdiaphragmaticevaluationthereisfattyinfiltrationoftheliverTherearemultiplestoneswithinthegallbladderIMPRESSIONSubpleuralopacitiesintheleftlowerlobestablefromcorrespondtoroundedatelectasisMicronodulesarestatisticallybenignnorequirefollow-upEmphysemaFattyliverCholelithiasis\n"
     ]
    }
   ],
   "source": [
    "num = 400\n",
    "print(unique_mimic_notes.subject_id.iloc[num])\n",
    "print(unique_mimic_notes.new_mimic_text.iloc[num])"
   ]
  },
  {
   "cell_type": "code",
   "execution_count": 149,
   "id": "42895449-3505-4c6c-a7a1-e97fc2040f40",
   "metadata": {},
   "outputs": [
    {
     "name": "stdout",
     "output_type": "stream",
     "text": [
      "14841168\n",
      "INDICATION-year-oldfemalewithhypercapnicrespiratoryfailureCOMPARISONPORTABLECHESTEndotrachealtubeterminates43cmabovethecarinaNasogastrictubepassesintothestomachThereisaleft-sidedhemodialysiscatheterwhichextendstothelowSVCLungvolumesremainlowTherearebilateralpleuraleffusionsincreasedThereisdiffusehazyparenchymalopacitymostcompatiblewithpulmonaryedemainthesettingofcentralvascularcongestionandcardiomegalyThereisnonewfocalopacitytosuggestpneumoniaThereisnopneumothoraxIMPRESSIONIntervalworseningofpulmonaryedemacomparedtoonedaypriorPleuraleffusionsalsoincreasedNopneumonia\n"
     ]
    }
   ],
   "source": [
    "num = 229\n",
    "print(cxr_reports.subject_id.iloc[num])\n",
    "print(cxr_reports.new_text.iloc[num])"
   ]
  },
  {
   "cell_type": "code",
   "execution_count": 157,
   "id": "37ca080c-aedb-4703-80d7-f3d65f3b957e",
   "metadata": {},
   "outputs": [],
   "source": [
    "unique_mimic_notes_with_chest = unique_mimic_notes[unique_mimic_notes['new_mimic_text'].str.contains(r'\\bchest\\b', case=False, na=False)]"
   ]
  },
  {
   "cell_type": "code",
   "execution_count": 154,
   "id": "d59dc951-21e8-4a6b-88e8-4358b10860aa",
   "metadata": {},
   "outputs": [
    {
     "data": {
      "text/plain": [
       "'EXAMINATIONCHEST(PORTABLEAP)INDICATIONyearoldwomanwithdobhoffadvancementdobhoffplacementIMPRESSIONPortableradiographobtainedforthepurposeofDobbhofftubeassessmentdemonstratesthetipofaDobbhofftubeterminatinginthedistalstomach'"
      ]
     },
     "execution_count": 154,
     "metadata": {},
     "output_type": "execute_result"
    }
   ],
   "source": [
    "cxr_reports[cxr_reports[\"subject_id\"] == 14841168 ].new_text.iloc[4]"
   ]
  },
  {
   "cell_type": "code",
   "execution_count": 162,
   "id": "6a65612c-3846-497c-924a-81138b1de4c1",
   "metadata": {},
   "outputs": [
    {
     "ename": "IndexError",
     "evalue": "single positional indexer is out-of-bounds",
     "output_type": "error",
     "traceback": [
      "\u001b[0;31m---------------------------------------------------------------------------\u001b[0m",
      "\u001b[0;31mIndexError\u001b[0m                                Traceback (most recent call last)",
      "\u001b[0;32m/tmpdata/ipykernel_1822870/3254948437.py\u001b[0m in \u001b[0;36m<module>\u001b[0;34m\u001b[0m\n\u001b[0;32m----> 1\u001b[0;31m \u001b[0mprint\u001b[0m\u001b[0;34m(\u001b[0m\u001b[0mcxr_reports\u001b[0m\u001b[0;34m[\u001b[0m\u001b[0mcxr_reports\u001b[0m\u001b[0;34m[\u001b[0m\u001b[0;34m\"subject_id\"\u001b[0m\u001b[0;34m]\u001b[0m \u001b[0;34m==\u001b[0m \u001b[0;36m19958251\u001b[0m \u001b[0;34m]\u001b[0m\u001b[0;34m.\u001b[0m\u001b[0mnew_text\u001b[0m\u001b[0;34m.\u001b[0m\u001b[0miloc\u001b[0m\u001b[0;34m[\u001b[0m\u001b[0;36m4\u001b[0m\u001b[0;34m]\u001b[0m\u001b[0;34m)\u001b[0m\u001b[0;34m\u001b[0m\u001b[0;34m\u001b[0m\u001b[0m\n\u001b[0m\u001b[1;32m      2\u001b[0m \u001b[0mnum\u001b[0m \u001b[0;34m=\u001b[0m \u001b[0;36m1\u001b[0m\u001b[0;34m\u001b[0m\u001b[0;34m\u001b[0m\u001b[0m\n\u001b[1;32m      3\u001b[0m \u001b[0mprint\u001b[0m\u001b[0;34m(\u001b[0m\u001b[0munique_mimic_notes_with_chest\u001b[0m\u001b[0;34m.\u001b[0m\u001b[0msubject_id\u001b[0m\u001b[0;34m.\u001b[0m\u001b[0miloc\u001b[0m\u001b[0;34m[\u001b[0m\u001b[0mnum\u001b[0m\u001b[0;34m]\u001b[0m\u001b[0;34m)\u001b[0m\u001b[0;34m\u001b[0m\u001b[0;34m\u001b[0m\u001b[0m\n\u001b[1;32m      4\u001b[0m \u001b[0mprint\u001b[0m\u001b[0;34m(\u001b[0m\u001b[0munique_mimic_notes_with_chest\u001b[0m\u001b[0;34m.\u001b[0m\u001b[0mnew_mimic_text\u001b[0m\u001b[0;34m.\u001b[0m\u001b[0miloc\u001b[0m\u001b[0;34m[\u001b[0m\u001b[0mnum\u001b[0m\u001b[0;34m]\u001b[0m\u001b[0;34m)\u001b[0m\u001b[0;34m\u001b[0m\u001b[0;34m\u001b[0m\u001b[0m\n",
      "\u001b[0;32m/scratch/baj321/conda-envs/medfuse_py37/lib/python3.7/site-packages/pandas/core/indexing.py\u001b[0m in \u001b[0;36m__getitem__\u001b[0;34m(self, key)\u001b[0m\n\u001b[1;32m    929\u001b[0m \u001b[0;34m\u001b[0m\u001b[0m\n\u001b[1;32m    930\u001b[0m             \u001b[0mmaybe_callable\u001b[0m \u001b[0;34m=\u001b[0m \u001b[0mcom\u001b[0m\u001b[0;34m.\u001b[0m\u001b[0mapply_if_callable\u001b[0m\u001b[0;34m(\u001b[0m\u001b[0mkey\u001b[0m\u001b[0;34m,\u001b[0m \u001b[0mself\u001b[0m\u001b[0;34m.\u001b[0m\u001b[0mobj\u001b[0m\u001b[0;34m)\u001b[0m\u001b[0;34m\u001b[0m\u001b[0;34m\u001b[0m\u001b[0m\n\u001b[0;32m--> 931\u001b[0;31m             \u001b[0;32mreturn\u001b[0m \u001b[0mself\u001b[0m\u001b[0;34m.\u001b[0m\u001b[0m_getitem_axis\u001b[0m\u001b[0;34m(\u001b[0m\u001b[0mmaybe_callable\u001b[0m\u001b[0;34m,\u001b[0m \u001b[0maxis\u001b[0m\u001b[0;34m=\u001b[0m\u001b[0maxis\u001b[0m\u001b[0;34m)\u001b[0m\u001b[0;34m\u001b[0m\u001b[0;34m\u001b[0m\u001b[0m\n\u001b[0m\u001b[1;32m    932\u001b[0m \u001b[0;34m\u001b[0m\u001b[0m\n\u001b[1;32m    933\u001b[0m     \u001b[0;32mdef\u001b[0m \u001b[0m_is_scalar_access\u001b[0m\u001b[0;34m(\u001b[0m\u001b[0mself\u001b[0m\u001b[0;34m,\u001b[0m \u001b[0mkey\u001b[0m\u001b[0;34m:\u001b[0m \u001b[0mtuple\u001b[0m\u001b[0;34m)\u001b[0m\u001b[0;34m:\u001b[0m\u001b[0;34m\u001b[0m\u001b[0;34m\u001b[0m\u001b[0m\n",
      "\u001b[0;32m/scratch/baj321/conda-envs/medfuse_py37/lib/python3.7/site-packages/pandas/core/indexing.py\u001b[0m in \u001b[0;36m_getitem_axis\u001b[0;34m(self, key, axis)\u001b[0m\n\u001b[1;32m   1564\u001b[0m \u001b[0;34m\u001b[0m\u001b[0m\n\u001b[1;32m   1565\u001b[0m             \u001b[0;31m# validate the location\u001b[0m\u001b[0;34m\u001b[0m\u001b[0;34m\u001b[0m\u001b[0;34m\u001b[0m\u001b[0m\n\u001b[0;32m-> 1566\u001b[0;31m             \u001b[0mself\u001b[0m\u001b[0;34m.\u001b[0m\u001b[0m_validate_integer\u001b[0m\u001b[0;34m(\u001b[0m\u001b[0mkey\u001b[0m\u001b[0;34m,\u001b[0m \u001b[0maxis\u001b[0m\u001b[0;34m)\u001b[0m\u001b[0;34m\u001b[0m\u001b[0;34m\u001b[0m\u001b[0m\n\u001b[0m\u001b[1;32m   1567\u001b[0m \u001b[0;34m\u001b[0m\u001b[0m\n\u001b[1;32m   1568\u001b[0m             \u001b[0;32mreturn\u001b[0m \u001b[0mself\u001b[0m\u001b[0;34m.\u001b[0m\u001b[0mobj\u001b[0m\u001b[0;34m.\u001b[0m\u001b[0m_ixs\u001b[0m\u001b[0;34m(\u001b[0m\u001b[0mkey\u001b[0m\u001b[0;34m,\u001b[0m \u001b[0maxis\u001b[0m\u001b[0;34m=\u001b[0m\u001b[0maxis\u001b[0m\u001b[0;34m)\u001b[0m\u001b[0;34m\u001b[0m\u001b[0;34m\u001b[0m\u001b[0m\n",
      "\u001b[0;32m/scratch/baj321/conda-envs/medfuse_py37/lib/python3.7/site-packages/pandas/core/indexing.py\u001b[0m in \u001b[0;36m_validate_integer\u001b[0;34m(self, key, axis)\u001b[0m\n\u001b[1;32m   1498\u001b[0m         \u001b[0mlen_axis\u001b[0m \u001b[0;34m=\u001b[0m \u001b[0mlen\u001b[0m\u001b[0;34m(\u001b[0m\u001b[0mself\u001b[0m\u001b[0;34m.\u001b[0m\u001b[0mobj\u001b[0m\u001b[0;34m.\u001b[0m\u001b[0m_get_axis\u001b[0m\u001b[0;34m(\u001b[0m\u001b[0maxis\u001b[0m\u001b[0;34m)\u001b[0m\u001b[0;34m)\u001b[0m\u001b[0;34m\u001b[0m\u001b[0;34m\u001b[0m\u001b[0m\n\u001b[1;32m   1499\u001b[0m         \u001b[0;32mif\u001b[0m \u001b[0mkey\u001b[0m \u001b[0;34m>=\u001b[0m \u001b[0mlen_axis\u001b[0m \u001b[0;32mor\u001b[0m \u001b[0mkey\u001b[0m \u001b[0;34m<\u001b[0m \u001b[0;34m-\u001b[0m\u001b[0mlen_axis\u001b[0m\u001b[0;34m:\u001b[0m\u001b[0;34m\u001b[0m\u001b[0;34m\u001b[0m\u001b[0m\n\u001b[0;32m-> 1500\u001b[0;31m             \u001b[0;32mraise\u001b[0m \u001b[0mIndexError\u001b[0m\u001b[0;34m(\u001b[0m\u001b[0;34m\"single positional indexer is out-of-bounds\"\u001b[0m\u001b[0;34m)\u001b[0m\u001b[0;34m\u001b[0m\u001b[0;34m\u001b[0m\u001b[0m\n\u001b[0m\u001b[1;32m   1501\u001b[0m \u001b[0;34m\u001b[0m\u001b[0m\n\u001b[1;32m   1502\u001b[0m     \u001b[0;31m# -------------------------------------------------------------------\u001b[0m\u001b[0;34m\u001b[0m\u001b[0;34m\u001b[0m\u001b[0;34m\u001b[0m\u001b[0m\n",
      "\u001b[0;31mIndexError\u001b[0m: single positional indexer is out-of-bounds"
     ]
    }
   ],
   "source": [
    "print(cxr_reports[cxr_reports[\"subject_id\"] == 19958251 ].new_text.iloc[4])\n",
    "num = 1\n",
    "print(unique_mimic_notes_with_chest.subject_id.iloc[num])\n",
    "print(unique_mimic_notes_with_chest.new_mimic_text.iloc[num])"
   ]
  },
  {
   "cell_type": "code",
   "execution_count": 161,
   "id": "9e58a656-866f-4f94-9a44-992758338c98",
   "metadata": {},
   "outputs": [
    {
     "data": {
      "text/html": [
       "<div>\n",
       "<style scoped>\n",
       "    .dataframe tbody tr th:only-of-type {\n",
       "        vertical-align: middle;\n",
       "    }\n",
       "\n",
       "    .dataframe tbody tr th {\n",
       "        vertical-align: top;\n",
       "    }\n",
       "\n",
       "    .dataframe thead th {\n",
       "        text-align: right;\n",
       "    }\n",
       "</style>\n",
       "<table border=\"1\" class=\"dataframe\">\n",
       "  <thead>\n",
       "    <tr style=\"text-align: right;\">\n",
       "      <th></th>\n",
       "      <th>note_id</th>\n",
       "      <th>subject_id</th>\n",
       "      <th>hadm_id</th>\n",
       "      <th>note_type</th>\n",
       "      <th>note_seq</th>\n",
       "      <th>charttime</th>\n",
       "      <th>storetime</th>\n",
       "      <th>text</th>\n",
       "      <th>new_mimic_text</th>\n",
       "    </tr>\n",
       "  </thead>\n",
       "  <tbody>\n",
       "    <tr>\n",
       "      <th>2311537</th>\n",
       "      <td>19958251-RR-30</td>\n",
       "      <td>19958251</td>\n",
       "      <td>20526133.0</td>\n",
       "      <td>RR</td>\n",
       "      <td>30</td>\n",
       "      <td>2178-10-29 07:53:00</td>\n",
       "      <td>2178-10-29 11:00:00</td>\n",
       "      <td>EXAMINATION:  CHEST (PORTABLE AP)CHEST (PORTAB...</td>\n",
       "      <td>EXAMINATIONCHEST(PORTABLEAP)CHEST(PORTABLEAP)I...</td>\n",
       "    </tr>\n",
       "    <tr>\n",
       "      <th>2311538</th>\n",
       "      <td>19958251-RR-31</td>\n",
       "      <td>19958251</td>\n",
       "      <td>NaN</td>\n",
       "      <td>RR</td>\n",
       "      <td>31</td>\n",
       "      <td>2178-11-06 09:53:00</td>\n",
       "      <td>2178-11-06 12:06:00</td>\n",
       "      <td>EXAMINATION:  CHEST (PA AND LAT)CHEST (PA AND ...</td>\n",
       "      <td>EXAMINATIONCHEST(PAANDLAT)CHEST(PAANDLAT)INDIC...</td>\n",
       "    </tr>\n",
       "    <tr>\n",
       "      <th>2314553</th>\n",
       "      <td>19970470-RR-8</td>\n",
       "      <td>19970470</td>\n",
       "      <td>23848017.0</td>\n",
       "      <td>RR</td>\n",
       "      <td>8</td>\n",
       "      <td>2146-12-06 03:41:00</td>\n",
       "      <td>2146-12-06 09:28:00</td>\n",
       "      <td>EXAMINATION:  CHEST (PORTABLE AP)CHEST (PORTAB...</td>\n",
       "      <td>EXAMINATIONCHEST(PORTABLEAP)CHEST(PORTABLEAP)i...</td>\n",
       "    </tr>\n",
       "    <tr>\n",
       "      <th>2316005</th>\n",
       "      <td>19975898-RR-18</td>\n",
       "      <td>19975898</td>\n",
       "      <td>26447601.0</td>\n",
       "      <td>RR</td>\n",
       "      <td>18</td>\n",
       "      <td>2158-08-24 10:46:00</td>\n",
       "      <td>2158-08-24 15:20:00</td>\n",
       "      <td>EXAMINATION:  CHEST (PORTABLE AP)CHEST (PORTAB...</td>\n",
       "      <td>EXAMINATIONCHEST(PORTABLEAP)CHEST(PORTABLEAP)i...</td>\n",
       "    </tr>\n",
       "    <tr>\n",
       "      <th>2319758</th>\n",
       "      <td>19992875-RR-115</td>\n",
       "      <td>19992875</td>\n",
       "      <td>23327989.0</td>\n",
       "      <td>RR</td>\n",
       "      <td>115</td>\n",
       "      <td>2165-06-09 05:45:00</td>\n",
       "      <td>2165-06-09 09:35:00</td>\n",
       "      <td>EXAMINATION:\\n-CHEST (PORTABLE AP)\\n\\nINDICATI...</td>\n",
       "      <td>EXAMINATION-CHEST(PORTABLEAP)INDICATIONyearold...</td>\n",
       "    </tr>\n",
       "  </tbody>\n",
       "</table>\n",
       "</div>"
      ],
      "text/plain": [
       "                 note_id  subject_id     hadm_id note_type  note_seq  \\\n",
       "2311537   19958251-RR-30    19958251  20526133.0        RR        30   \n",
       "2311538   19958251-RR-31    19958251         NaN        RR        31   \n",
       "2314553    19970470-RR-8    19970470  23848017.0        RR         8   \n",
       "2316005   19975898-RR-18    19975898  26447601.0        RR        18   \n",
       "2319758  19992875-RR-115    19992875  23327989.0        RR       115   \n",
       "\n",
       "                   charttime            storetime  \\\n",
       "2311537  2178-10-29 07:53:00  2178-10-29 11:00:00   \n",
       "2311538  2178-11-06 09:53:00  2178-11-06 12:06:00   \n",
       "2314553  2146-12-06 03:41:00  2146-12-06 09:28:00   \n",
       "2316005  2158-08-24 10:46:00  2158-08-24 15:20:00   \n",
       "2319758  2165-06-09 05:45:00  2165-06-09 09:35:00   \n",
       "\n",
       "                                                      text  \\\n",
       "2311537  EXAMINATION:  CHEST (PORTABLE AP)CHEST (PORTAB...   \n",
       "2311538  EXAMINATION:  CHEST (PA AND LAT)CHEST (PA AND ...   \n",
       "2314553  EXAMINATION:  CHEST (PORTABLE AP)CHEST (PORTAB...   \n",
       "2316005  EXAMINATION:  CHEST (PORTABLE AP)CHEST (PORTAB...   \n",
       "2319758  EXAMINATION:\\n-CHEST (PORTABLE AP)\\n\\nINDICATI...   \n",
       "\n",
       "                                            new_mimic_text  \n",
       "2311537  EXAMINATIONCHEST(PORTABLEAP)CHEST(PORTABLEAP)I...  \n",
       "2311538  EXAMINATIONCHEST(PAANDLAT)CHEST(PAANDLAT)INDIC...  \n",
       "2314553  EXAMINATIONCHEST(PORTABLEAP)CHEST(PORTABLEAP)i...  \n",
       "2316005  EXAMINATIONCHEST(PORTABLEAP)CHEST(PORTABLEAP)i...  \n",
       "2319758  EXAMINATION-CHEST(PORTABLEAP)INDICATIONyearold...  "
      ]
     },
     "execution_count": 161,
     "metadata": {},
     "output_type": "execute_result"
    }
   ],
   "source": [
    "unique_mimic_notes_with_chest\n",
    "unique_mimic_notes_with_chest.tail()"
   ]
  },
  {
   "cell_type": "code",
   "execution_count": 2,
   "id": "8ba57dff-06a4-42c1-b559-9aed3acb30c4",
   "metadata": {},
   "outputs": [
    {
     "data": {
      "text/plain": [
       "249598"
      ]
     },
     "execution_count": 2,
     "metadata": {},
     "output_type": "execute_result"
    }
   ],
   "source": [
    "len(mimic_notes[mimic_notes['is_similar']])"
   ]
  },
  {
   "cell_type": "code",
   "execution_count": null,
   "id": "ac2178b4-4667-4439-bfd6-0b03da12ad69",
   "metadata": {},
   "outputs": [
    {
     "name": "stdout",
     "output_type": "stream",
     "text": [
      "Loading datasets...\n",
      "Tokenizing text in cxr_reports and mimic_notes...\n"
     ]
    },
    {
     "name": "stderr",
     "output_type": "stream",
     "text": [
      "100%|██████████| 227835/227835 [00:35<00:00, 6330.10it/s]\n",
      "100%|██████████| 2321355/2321355 [12:01<00:00, 3218.64it/s] \n"
     ]
    },
    {
     "name": "stdout",
     "output_type": "stream",
     "text": [
      "Generating MinHash signatures for cxr_reports...\n"
     ]
    }
   ],
   "source": [
    "from datasketch import MinHash, MinHashLSH\n",
    "from multiprocessing import Pool, cpu_count\n",
    "import pandas as pd\n",
    "from tqdm import tqdm\n",
    "from sklearn.feature_extraction.text import CountVectorizer\n",
    "import re\n",
    "\n",
    "tqdm.pandas() \n",
    "\n",
    "# Parameters\n",
    "NUM_PERMUTATIONS = 120\n",
    "JACCARD_THRESHOLD = 0.7  # Lowered for improved recall\n",
    "BATCH_SIZE = 80000\n",
    "\n",
    "# Enhanced Preprocessing\n",
    "def preprocess_and_tokenize(text):\n",
    "    if pd.isnull(text):\n",
    "        return set()\n",
    "    \n",
    "    text = text.lower()\n",
    "    text = re.sub(r\"\\b(final report|examination|indication|technique|comparison|findings|impression)\\b\", \"\", text)  # Remove common headers\n",
    "    text = re.sub(r\"[^\\w\\s]\", \"\", text)  # Remove punctuation\n",
    "    text = ' '.join(text.split())  # Remove extra spaces\n",
    "\n",
    "    # Use n-grams (e.g., bigrams) for more contextual similarity\n",
    "    vectorizer = CountVectorizer(ngram_range=(1, 2), analyzer='word').build_analyzer()\n",
    "    tokens = vectorizer(text)\n",
    "    return set(tokens)\n",
    "\n",
    "# MinHash signature creation function\n",
    "def create_minhash_signature(tokens):\n",
    "    m = MinHash(num_perm=NUM_PERMUTATIONS)\n",
    "    for token in tokens:\n",
    "        m.update(token.encode('utf8'))\n",
    "    return m\n",
    "\n",
    "# Load datasets and apply tokenization\n",
    "print(\"Loading datasets...\")\n",
    "cxr_reports = pd.read_csv(\"/scratch/baj321/cxr_reports.csv\")\n",
    "mimic_notes = pd.read_csv(\"/scratch/baj321/MIMIC-Note/physionet.org/files/mimic-iv-note/2.2/note/radiology.csv\")\n",
    "\n",
    "print(\"Tokenizing text in cxr_reports and mimic_notes...\")\n",
    "cxr_reports['tokens'] = cxr_reports['cxr_report_text'].progress_apply(preprocess_and_tokenize)\n",
    "mimic_notes['tokens'] = mimic_notes['text'].progress_apply(preprocess_and_tokenize)\n",
    "\n",
    "# Generate MinHash signatures for cxr_reports\n",
    "print(\"Generating MinHash signatures for cxr_reports...\")\n",
    "cpu_cores = cpu_count()\n",
    "with Pool(cpu_cores) as pool:\n",
    "    cxr_reports['minhash'] = list(tqdm(pool.imap_unordered(create_minhash_signature, cxr_reports['tokens']), \n",
    "                                       total=len(cxr_reports), \n",
    "                                       desc=\"CXR MinHash Generation\"))\n",
    "print(\"Completed MinHash signature generation for cxr_reports.\")\n",
    "\n",
    "# Build the LSH index for cxr_reports\n",
    "print(\"Building the LSH index for cxr_reports...\")\n",
    "lsh = MinHashLSH(threshold=JACCARD_THRESHOLD, num_perm=NUM_PERMUTATIONS)\n",
    "for idx, minhash in tqdm(enumerate(cxr_reports['minhash']), total=len(cxr_reports), desc=\"Building LSH Index\"):\n",
    "    lsh.insert(f\"cxr_{idx}\", minhash)\n",
    "print(\"LSH index built for cxr_reports.\")\n",
    "\n",
    "# Generate MinHash signatures for mimic_notes in parallel with progress tracking\n",
    "print(\"Generating MinHash signatures for mimic_notes...\")\n",
    "with Pool(cpu_cores) as pool:\n",
    "    mimic_notes['minhash'] = list(tqdm(pool.imap_unordered(create_minhash_signature, mimic_notes['tokens']), \n",
    "                                       total=len(mimic_notes), \n",
    "                                       desc=\"MIMIC MinHash Generation\"))\n",
    "print(\"Completed MinHash signature generation for mimic_notes.\")\n",
    "\n",
    "# Check for similarity in batches with progress tracking\n",
    "def is_similar(mimic_report_minhash):\n",
    "    return len(lsh.query(mimic_report_minhash)) > 0\n",
    "\n",
    "print(\"Checking similarity of mimic_notes against cxr_reports in batches...\")\n",
    "with Pool(cpu_cores) as pool:\n",
    "    mimic_notes['is_similar'] = list(tqdm(pool.imap_unordered(is_similar, mimic_notes['minhash']), \n",
    "                                          total=len(mimic_notes), \n",
    "                                          desc=\"Similarity Check\"))\n",
    "print(\"Similarity check completed.\")\n",
    "\n",
    "# Filter out similar reports to get unique reports in mimic_notes\n",
    "print(\"Filtering unique mimic_notes that are not in cxr_reports...\")\n",
    "unique_mimic_notes = mimic_notes[~mimic_notes['is_similar']]\n",
    "\n",
    "# Display or save results\n",
    "print('Num of Unique Notes:',len(mimic_notes[mimic_notes['is_similar']]) )\n",
    "print(\"Displaying unique mimic_notes...\")\n",
    "print(unique_mimic_notes.head())\n",
    "unique_mimic_notes.to_csv(\"/scratch/baj321/unique_mimic_notes.csv\", index=False)\n",
    "print(\"Unique mimic_notes saved to '/scratch/baj321/unique_mimic_radiology_notes.csv'.\")\n"
   ]
  },
  {
   "cell_type": "code",
   "execution_count": 3,
   "id": "e1dfb8f2-6508-47b8-a07a-7de7b5bd2a47",
   "metadata": {},
   "outputs": [
    {
     "name": "stdout",
     "output_type": "stream",
     "text": [
      "Collecting scikit-learn\n",
      "  Using cached scikit_learn-1.0.2-cp37-cp37m-manylinux_2_17_x86_64.manylinux2014_x86_64.whl (24.8 MB)\n",
      "Collecting joblib>=0.11\n",
      "  Using cached joblib-1.3.2-py3-none-any.whl (302 kB)\n",
      "Collecting threadpoolctl>=2.0.0\n",
      "  Using cached threadpoolctl-3.1.0-py3-none-any.whl (14 kB)\n",
      "Requirement already satisfied: numpy>=1.14.6 in /scratch/baj321/conda-envs/medfuse_py37/lib/python3.7/site-packages (from scikit-learn) (1.21.6)\n",
      "Requirement already satisfied: scipy>=1.1.0 in /scratch/baj321/conda-envs/medfuse_py37/lib/python3.7/site-packages (from scikit-learn) (1.7.3)\n",
      "Installing collected packages: threadpoolctl, joblib, scikit-learn\n",
      "Successfully installed joblib-1.3.2 scikit-learn-1.0.2 threadpoolctl-3.1.0\n",
      "Note: you may need to restart the kernel to use updated packages.\n"
     ]
    }
   ],
   "source": [
    "pip install scikit-learn"
   ]
  },
  {
   "cell_type": "code",
   "execution_count": null,
   "id": "a8af1b88-d43b-413a-8a11-3758ca449dbe",
   "metadata": {},
   "outputs": [],
   "source": []
  }
 ],
 "metadata": {
  "kernelspec": {
   "display_name": "medfuse_py37",
   "language": "python",
   "name": "medfuse_py37"
  },
  "language_info": {
   "codemirror_mode": {
    "name": "ipython",
    "version": 3
   },
   "file_extension": ".py",
   "mimetype": "text/x-python",
   "name": "python",
   "nbconvert_exporter": "python",
   "pygments_lexer": "ipython3",
   "version": "3.7.12"
  }
 },
 "nbformat": 4,
 "nbformat_minor": 5
}
