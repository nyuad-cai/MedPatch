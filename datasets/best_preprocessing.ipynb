{
 "cells": [
  {
   "cell_type": "code",
   "execution_count": 1,
   "id": "f71ebf97-5187-4ad8-bffd-090a2f25674e",
   "metadata": {},
   "outputs": [],
   "source": [
    "from datasketch import MinHash, MinHashLSH\n",
    "from multiprocessing import Pool, cpu_count\n",
    "import pandas as pd\n",
    "from tqdm import tqdm\n",
    "import re\n",
    "\n",
    "tqdm.pandas()"
   ]
  },
  {
   "cell_type": "code",
   "execution_count": 2,
   "id": "b909f9cc-c25e-4ea9-a03d-002a08f188cf",
   "metadata": {},
   "outputs": [],
   "source": [
    "cxr_reports = pd.read_csv(\"/scratch/baj321/cxr_reports.csv\")\n",
    "mimic_notes = pd.read_csv(\"/scratch/baj321/MIMIC-Note/physionet.org/files/mimic-iv-note/2.2/note/radiology.csv\")"
   ]
  },
  {
   "cell_type": "code",
   "execution_count": 3,
   "id": "179360d1-6c1c-4381-a31d-9e29044468bb",
   "metadata": {},
   "outputs": [
    {
     "name": "stdout",
     "output_type": "stream",
     "text": [
      "Number of subject_ids in mimic_notes but not in cxr_reports: 175710\n",
      "Number of subject_ids in cxr_reports but not in mimic_notes: 3662\n"
     ]
    }
   ],
   "source": [
    "# Finding subject_ids in mimic_notes but not in cxr_reports\n",
    "mimic_only_subject_ids = set(mimic_notes['subject_id'].unique()) - set(cxr_reports['subject_id'].unique())\n",
    "\n",
    "# Finding subject_ids in cxr_reports but not in mimic_notes\n",
    "cxr_only_subject_ids = set(cxr_reports['subject_id'].unique()) - set(mimic_notes['subject_id'].unique())\n",
    "\n",
    "mimic_only_subject_ids = list(mimic_only_subject_ids)\n",
    "cxr_only_subject_ids = list(cxr_only_subject_ids)\n",
    "\n",
    "print(\"Number of subject_ids in mimic_notes but not in cxr_reports:\", len(mimic_only_subject_ids))\n",
    "print(\"Number of subject_ids in cxr_reports but not in mimic_notes:\", len(cxr_only_subject_ids))\n"
   ]
  },
  {
   "cell_type": "code",
   "execution_count": 4,
   "id": "cc9230e6-15a0-4268-810a-7b49a98eebde",
   "metadata": {},
   "outputs": [],
   "source": [
    "def preprocess(text):\n",
    "    if pd.isnull(text):\n",
    "        print('text is', text)\n",
    "        return set()\n",
    "    \n",
    "    #Remove everything up to the literal string \"FINAL REPORT\\n\"\n",
    "    match = re.search(r\"FINAL REPORT\\n\", text, re.IGNORECASE)\n",
    "    if match:\n",
    "        text = text[match.end():]  # Keep only text after \"FINAL REPORT\\n\"\n",
    "    text = re.sub(r\"___M|___F|___|[.,!?/:;\\\\]\", \"\", text)\n",
    "    #Remove all formatting: no spaces, literal \"\\n\" strings, or newlines\n",
    "    text = re.sub(r\"\\s+|\\\\n\", \"\", text)  # Remove spaces and literal \"\\n\" strings\n",
    "    return text\n",
    "    \n",
    "def preprocess_mimic_notes(text):\n",
    "    if pd.isnull(text):\n",
    "        print('text is', text)\n",
    "        return set()\n",
    "        \n",
    "    text = re.sub(r\"___M|___F|___|[.,!?/:;\\\\]\", \"\", text)\n",
    "    \n",
    "    # Remove all formatting: no spaces, literal \"\\n\" strings, or newlines\n",
    "    text = re.sub(r\"\\s+|\\\\n\", \"\", text)  # Remove spaces and literal \"\\n\" strings\n",
    "    return text"
   ]
  },
  {
   "cell_type": "code",
   "execution_count": 14,
   "id": "534fd642-b941-4c1f-b621-d39f8f00c3ff",
   "metadata": {},
   "outputs": [
    {
     "data": {
      "text/plain": [
       "1097916"
      ]
     },
     "execution_count": 14,
     "metadata": {},
     "output_type": "execute_result"
    }
   ],
   "source": [
    "common_subject_mimic_notes = mimic_notes[~mimic_notes['subject_id'].isin(mimic_only_subject_ids)]\n",
    "len(common_subject_mimic_notes)"
   ]
  },
  {
   "cell_type": "code",
   "execution_count": 15,
   "id": "6a7e1c23-4b6c-4c6e-b4ad-f56529dc7884",
   "metadata": {},
   "outputs": [
    {
     "name": "stderr",
     "output_type": "stream",
     "text": [
      "100%|██████████| 1097916/1097916 [02:12<00:00, 8304.42it/s]\n",
      "/scratch/baj321/conda-envs/medfuse_py37/lib/python3.7/site-packages/ipykernel_launcher.py:1: SettingWithCopyWarning: \n",
      "A value is trying to be set on a copy of a slice from a DataFrame.\n",
      "Try using .loc[row_indexer,col_indexer] = value instead\n",
      "\n",
      "See the caveats in the documentation: https://pandas.pydata.org/pandas-docs/stable/user_guide/indexing.html#returning-a-view-versus-a-copy\n",
      "  \"\"\"Entry point for launching an IPython kernel.\n"
     ]
    }
   ],
   "source": [
    "common_subject_mimic_notes['processed_text'] = common_subject_mimic_notes['text'].progress_apply(preprocess_mimic_notes)"
   ]
  },
  {
   "cell_type": "code",
   "execution_count": 16,
   "id": "77be460e-1d1e-4740-9b5e-d44a17aeb022",
   "metadata": {},
   "outputs": [
    {
     "data": {
      "text/plain": [
       "215822"
      ]
     },
     "execution_count": 16,
     "metadata": {},
     "output_type": "execute_result"
    }
   ],
   "source": [
    "common_subject_cxr_reports = cxr_reports[~cxr_reports['subject_id'].isin(cxr_only_subject_ids)]\n",
    "len(common_subject_cxr_reports)"
   ]
  },
  {
   "cell_type": "code",
   "execution_count": 17,
   "id": "7860264d-6157-4123-9562-238ac0a0b0cd",
   "metadata": {},
   "outputs": [
    {
     "name": "stderr",
     "output_type": "stream",
     "text": [
      "100%|██████████| 215822/215822 [00:13<00:00, 15740.03it/s]\n",
      "/scratch/baj321/conda-envs/medfuse_py37/lib/python3.7/site-packages/ipykernel_launcher.py:1: SettingWithCopyWarning: \n",
      "A value is trying to be set on a copy of a slice from a DataFrame.\n",
      "Try using .loc[row_indexer,col_indexer] = value instead\n",
      "\n",
      "See the caveats in the documentation: https://pandas.pydata.org/pandas-docs/stable/user_guide/indexing.html#returning-a-view-versus-a-copy\n",
      "  \"\"\"Entry point for launching an IPython kernel.\n"
     ]
    }
   ],
   "source": [
    "common_subject_cxr_reports['processed_text'] = common_subject_cxr_reports['cxr_report_text'].progress_apply(preprocess)"
   ]
  },
  {
   "cell_type": "code",
   "execution_count": 18,
   "id": "3cb956e1-ebf5-46b2-8d8a-d357bd95ac95",
   "metadata": {},
   "outputs": [
    {
     "name": "stderr",
     "output_type": "stream",
     "text": [
      "Marking Matches by Subject ID: 100%|██████████| 61717/61717 [00:46<00:00, 1336.02it/s]\n"
     ]
    }
   ],
   "source": [
    "# Merge the two dataframes on 'subject_id'\n",
    "merged_common_df = common_subject_mimic_notes.merge(\n",
    "    common_subject_cxr_reports, on='subject_id', suffixes=('_mimic', '_cxr')\n",
    ")\n",
    "\n",
    "# Function to find and mark direct matches for each subject_id group\n",
    "def mark_direct_matches(group):\n",
    "    mimic_text_set = set(group['processed_text_mimic'].dropna().unique())\n",
    "    cxr_text_set = set(group['processed_text_cxr'].dropna().unique())\n",
    "    \n",
    "    # Find matches\n",
    "    mimic_matches = group['processed_text_mimic'].isin(cxr_text_set)\n",
    "    cxr_matches = group['processed_text_cxr'].isin(mimic_text_set)\n",
    "    \n",
    "    # Add match columns\n",
    "    group = group.assign(\n",
    "        mimic_match=mimic_matches,\n",
    "        cxr_match=cxr_matches\n",
    "    )\n",
    "    return group\n",
    "\n",
    "# Group by 'subject_id' and apply `mark_direct_matches` in parallel\n",
    "grouped = list(merged_common_df.groupby('subject_id'))\n",
    "num_cores = min(cpu_count(), 28)\n",
    "\n",
    "with Pool(num_cores) as pool:\n",
    "    results = list(tqdm(pool.imap(mark_direct_matches, [group for _, group in grouped]),\n",
    "                        total=len(grouped), desc=\"Marking Matches by Subject ID\"))\n",
    "\n",
    "# Concatenate the results into a single DataFrame\n",
    "marked_df = pd.concat(results, ignore_index=True)\n",
    "\n",
    "# Filter to get unique mimic_notes and cxr_reports\n",
    "unique_mimic_notes = marked_df.loc[\n",
    "    (~marked_df['mimic_match']) & marked_df['processed_text_mimic'].notnull()\n",
    "].drop_duplicates(subset=['note_id', 'processed_text_mimic'])\n",
    "\n",
    "unique_cxr_reports = marked_df.loc[\n",
    "    (~marked_df['cxr_match']) & marked_df['processed_text_cxr'].notnull()\n",
    "].drop_duplicates(subset=['study_id', 'processed_text_cxr'])\n",
    "\n",
    "# Extract only the relevant columns\n",
    "unique_mimic_notes = unique_mimic_notes[['note_id', 'subject_id', 'hadm_id', 'note_type', 'note_seq',\n",
    "       'charttime', 'storetime', 'text','processed_text_mimic' ]]\n",
    "unique_cxr_reports = unique_cxr_reports[['subject_id','study_id','cxr_report_text','processed_text_cxr']]\n",
    "\n",
    "# `unique_mimic_notes` and `unique_cxr_reports` now contain the lists of unique notes and reports based on direct equality\n"
   ]
  },
  {
   "cell_type": "code",
   "execution_count": 19,
   "id": "1dd6ad94-bec2-4230-8257-050b24c37c04",
   "metadata": {},
   "outputs": [
    {
     "name": "stdout",
     "output_type": "stream",
     "text": [
      "Unique Mimic Notes: 934430\n",
      "Unique CXR Reports: 52349\n"
     ]
    }
   ],
   "source": [
    "#163486 mimic notes removed\n",
    "#163473 cxr notes removed\n",
    "print('Unique Mimic Notes:', len(unique_mimic_notes))\n",
    "print('Unique CXR Reports:', len(unique_cxr_reports))"
   ]
  },
  {
   "cell_type": "code",
   "execution_count": 20,
   "id": "e8bc95af-c55c-4a2e-af10-e26a23958afd",
   "metadata": {},
   "outputs": [
    {
     "name": "stderr",
     "output_type": "stream",
     "text": [
      "Marking Matches by Subject ID: 100%|██████████| 61717/61717 [20:33<00:00, 50.05it/s] \n"
     ]
    }
   ],
   "source": [
    "# Merge the two dataframes on 'subject_id'\n",
    "merged_common_df = common_subject_mimic_notes.merge(common_subject_cxr_reports, on='subject_id', suffixes=('_mimic', '_cxr'))\n",
    "\n",
    "# Define a function to calculate Jaccard similarity between two sets of text\n",
    "def jaccard_similarity(text1, text2):\n",
    "    set1 = set(text1.split())\n",
    "    set2 = set(text2.split())\n",
    "    intersection = len(set1.intersection(set2))\n",
    "    union = len(set1.union(set2))\n",
    "    return intersection / union if union != 0 else 0\n",
    "\n",
    "# Define a function to process each group and mark matches\n",
    "def mark_similarities(group):\n",
    "    mimic_entries = group['text'].unique()\n",
    "    cxr_entries = group['cxr_report_text'].unique()\n",
    "\n",
    "    # Initialize columns for marking matches\n",
    "    group['mimic_match'] = False\n",
    "    group['cxr_match'] = False\n",
    "    group['jaccard_score'] = 0.0\n",
    "\n",
    "    # Loop through each row in the group\n",
    "    for idx, row in group.iterrows():\n",
    "        mimic_text = row['text']\n",
    "        cxr_text = row['cxr_report_text']\n",
    "\n",
    "        jaccard_score = jaccard_similarity(mimic_text, cxr_text)\n",
    "        group.at[idx, 'jaccard_score'] = jaccard_score\n",
    "\n",
    "        # Check for similarity\n",
    "        mimic_similar = any(jaccard_similarity(mimic_text, cxr) > 0.5 for cxr in cxr_entries)\n",
    "        cxr_similar = any(jaccard_similarity(cxr_text, mimic) > 0.5 for mimic in mimic_entries)\n",
    "\n",
    "        # Mark if a match is found\n",
    "        if mimic_similar:\n",
    "            group.at[idx, 'mimic_match'] = True\n",
    "        if cxr_similar:\n",
    "            group.at[idx, 'cxr_match'] = True\n",
    "\n",
    "    return group\n",
    "\n",
    "# Split the DataFrame by subject_id\n",
    "grouped = list(merged_common_df.groupby('subject_id'))\n",
    "\n",
    "# Use the number of available CPUs or a set number if desired\n",
    "num_cores = min(cpu_count(), 28)\n",
    "\n",
    "with Pool(num_cores) as pool:\n",
    "    # Process each group in parallel and combine the results\n",
    "    results = list(tqdm(pool.imap(mark_similarities, [group for _, group in grouped]), total=len(grouped), desc=\"Marking Matches by Subject ID\"))\n",
    "\n",
    "# Concatenate results into a single DataFrame\n",
    "marked_df = pd.concat(results, ignore_index=True)\n",
    "\n",
    "# Filter to get unique mimic_notes and cxr_reports\n",
    "unique_mimic_notes = marked_df[(~marked_df['mimic_match']) & marked_df['text'].notnull()].drop_duplicates(subset=['note_id', 'text'])\n",
    "unique_cxr_reports = marked_df[(~marked_df['cxr_match']) & marked_df['cxr_report_text'].notnull()].drop_duplicates(subset=['study_id', 'cxr_report_text'])\n",
    "\n",
    "# Optionally, extract only the relevant columns\n",
    "unique_mimic_notes = unique_mimic_notes[['note_id', 'subject_id', 'hadm_id', 'note_type', 'note_seq', 'charttime', 'storetime', 'text','processed_text_mimic' ]]\n",
    "unique_cxr_reports = unique_cxr_reports[['subject_id','study_id','cxr_report_text','processed_text_cxr']]\n",
    "# Now, `unique_mimic_notes` and `unique_cxr_reports` contain the lists of unique notes and reports\n"
   ]
  },
  {
   "cell_type": "code",
   "execution_count": 11,
   "id": "7082c124-4ed8-4632-a78c-1bdc2821e2ef",
   "metadata": {},
   "outputs": [
    {
     "name": "stdout",
     "output_type": "stream",
     "text": [
      "Collecting matplotlib\n",
      "  Using cached matplotlib-3.5.3-cp37-cp37m-manylinux_2_5_x86_64.manylinux1_x86_64.whl (11.2 MB)\n",
      "Collecting kiwisolver>=1.0.1\n",
      "  Using cached kiwisolver-1.4.5-cp37-cp37m-manylinux_2_5_x86_64.manylinux1_x86_64.whl (1.1 MB)\n",
      "Collecting fonttools>=4.22.0\n",
      "  Using cached fonttools-4.38.0-py3-none-any.whl (965 kB)\n",
      "Collecting cycler>=0.10\n",
      "  Using cached cycler-0.11.0-py3-none-any.whl (6.4 kB)\n",
      "Requirement already satisfied: python-dateutil>=2.7 in /scratch/baj321/conda-envs/medfuse_py37/lib/python3.7/site-packages (from matplotlib) (2.9.0.post0)\n",
      "Requirement already satisfied: numpy>=1.17 in /scratch/baj321/conda-envs/medfuse_py37/lib/python3.7/site-packages (from matplotlib) (1.21.6)\n",
      "Requirement already satisfied: packaging>=20.0 in /scratch/baj321/conda-envs/medfuse_py37/lib/python3.7/site-packages (from matplotlib) (23.2)\n",
      "Collecting pyparsing>=2.2.1\n",
      "  Downloading pyparsing-3.1.4-py3-none-any.whl (104 kB)\n",
      "\u001b[2K     \u001b[90m━━━━━━━━━━━━━━━━━━━━━━━━━━━━━━━━━━━━━━━\u001b[0m \u001b[32m104.1/104.1 kB\u001b[0m \u001b[31m5.7 MB/s\u001b[0m eta \u001b[36m0:00:00\u001b[0m\n",
      "\u001b[?25hCollecting pillow>=6.2.0\n",
      "  Using cached Pillow-9.5.0-cp37-cp37m-manylinux_2_28_x86_64.whl (3.4 MB)\n",
      "Collecting typing-extensions\n",
      "  Using cached typing_extensions-4.7.1-py3-none-any.whl (33 kB)\n",
      "Requirement already satisfied: six>=1.5 in /scratch/baj321/conda-envs/medfuse_py37/lib/python3.7/site-packages (from python-dateutil>=2.7->matplotlib) (1.16.0)\n",
      "Installing collected packages: typing-extensions, pyparsing, pillow, fonttools, cycler, kiwisolver, matplotlib\n",
      "Successfully installed cycler-0.11.0 fonttools-4.38.0 kiwisolver-1.4.5 matplotlib-3.5.3 pillow-9.5.0 pyparsing-3.1.4 typing-extensions-4.7.1\n",
      "Note: you may need to restart the kernel to use updated packages.\n"
     ]
    }
   ],
   "source": [
    "pip install matplotlib"
   ]
  },
  {
   "cell_type": "code",
   "execution_count": 5,
   "id": "dc138c39-17ac-406b-ab68-a288391cdf20",
   "metadata": {},
   "outputs": [],
   "source": [
    "marked_df = pd.read_csv(\"/scratch/baj321/marked_df.csv\")"
   ]
  },
  {
   "cell_type": "code",
   "execution_count": 6,
   "id": "d9e51f5a-5262-4d98-a7f7-8f6111c725ff",
   "metadata": {},
   "outputs": [
    {
     "data": {
      "image/png": "[encoded data removed]",
      "text/plain": [
       "<Figure size 1000x600 with 1 Axes>"
      ]
     },
     "metadata": {},
     "output_type": "display_data"
    }
   ],
   "source": [
    "import matplotlib.pyplot as plt\n",
    "import numpy as np\n",
    "\n",
    "# Define bin edges for intervals of 0.1 between 0 and 1\n",
    "bins = np.arange(0, 1.1, 0.1)  # Includes 1.0 as the end point\n",
    "\n",
    "# Plotting the histogram of Jaccard similarities in 'marked_df'\n",
    "plt.figure(figsize=(10, 6))\n",
    "plt.hist(marked_df['jaccard_score'], bins=bins, edgecolor='black')\n",
    "plt.title('Histogram of Jaccard Similarities in Marked DataFrame')\n",
    "plt.xlabel('Jaccard Similarity')\n",
    "plt.ylabel('Frequency')\n",
    "plt.xticks(bins)  # Ensures x-ticks align with bin edges\n",
    "plt.show()\n"
   ]
  },
  {
   "cell_type": "code",
   "execution_count": 11,
   "id": "f5001384-d6c9-4ed2-ab62-53ac8327393a",
   "metadata": {},
   "outputs": [
    {
     "name": "stdout",
     "output_type": "stream",
     "text": [
      "Basic Statistics for jaccard_score\n",
      "Min: 0.0\n",
      "Max: 0.990909090909091\n",
      "Mean: 0.14300364961442077\n",
      "Median: 0.1130434782608695\n",
      "Standard Deviation: 0.13805064619906116\n",
      "25th Percentile (Q1): 0.0851063829787234\n",
      "50th Percentile (Q2/Median): 0.1130434782608695\n",
      "75th Percentile (Q3): 0.1532846715328467\n",
      "90th Percentile: 0.209090909090909\n",
      "95th Percentile: 0.2625\n"
     ]
    }
   ],
   "source": [
    "# Basic statistics: min, max, mean, median, standard deviation, and quartiles for 'jaccard_score'\n",
    "stats = {\n",
    "    'Min': marked_df['jaccard_score'].min(),\n",
    "    'Max': marked_df['jaccard_score'].max(),\n",
    "    'Mean': marked_df['jaccard_score'].mean(),\n",
    "    'Median': marked_df['jaccard_score'].median(),\n",
    "    'Standard Deviation': marked_df['jaccard_score'].std(),\n",
    "    '25th Percentile (Q1)': marked_df['jaccard_score'].quantile(0.25),\n",
    "    '50th Percentile (Q2/Median)': marked_df['jaccard_score'].quantile(0.5),\n",
    "    '75th Percentile (Q3)': marked_df['jaccard_score'].quantile(0.75),\n",
    "    '90th Percentile': marked_df['jaccard_score'].quantile(0.9),\n",
    "    '95th Percentile': marked_df['jaccard_score'].quantile(0.95)\n",
    "}\n",
    "\n",
    "# Display basic statistics\n",
    "print(\"Basic Statistics for jaccard_score\")\n",
    "for stat, value in stats.items():\n",
    "    print(f\"{stat}: {value}\")\n"
   ]
  },
  {
   "cell_type": "code",
   "execution_count": 13,
   "id": "0ba65034-9ffb-460e-9129-0b5ade9b4641",
   "metadata": {},
   "outputs": [
    {
     "ename": "NameError",
     "evalue": "name 'value_counts' is not defined",
     "output_type": "error",
     "traceback": [
      "\u001b[0;31m---------------------------------------------------------------------------\u001b[0m",
      "\u001b[0;31mNameError\u001b[0m                                 Traceback (most recent call last)",
      "\u001b[0;32m/tmpdata/ipykernel_129335/1517263879.py\u001b[0m in \u001b[0;36m<module>\u001b[0;34m\u001b[0m\n\u001b[1;32m      1\u001b[0m \u001b[0;31m# Filter for values between 0.8 and 0.9\u001b[0m\u001b[0;34m\u001b[0m\u001b[0;34m\u001b[0m\u001b[0;34m\u001b[0m\u001b[0m\n\u001b[0;32m----> 2\u001b[0;31m \u001b[0mfiltered_value_counts\u001b[0m \u001b[0;34m=\u001b[0m \u001b[0mvalue_counts\u001b[0m\u001b[0;34m[\u001b[0m\u001b[0;34m(\u001b[0m\u001b[0mvalue_counts\u001b[0m\u001b[0;34m.\u001b[0m\u001b[0mindex\u001b[0m \u001b[0;34m>\u001b[0m \u001b[0;36m0.7\u001b[0m\u001b[0;34m)\u001b[0m \u001b[0;34m&\u001b[0m \u001b[0;34m(\u001b[0m\u001b[0mvalue_counts\u001b[0m\u001b[0;34m.\u001b[0m\u001b[0mindex\u001b[0m \u001b[0;34m<\u001b[0m \u001b[0;36m0.9\u001b[0m\u001b[0;34m)\u001b[0m\u001b[0;34m]\u001b[0m\u001b[0;34m\u001b[0m\u001b[0;34m\u001b[0m\u001b[0m\n\u001b[0m\u001b[1;32m      3\u001b[0m \u001b[0;34m\u001b[0m\u001b[0m\n\u001b[1;32m      4\u001b[0m \u001b[0mprint\u001b[0m\u001b[0;34m(\u001b[0m\u001b[0;34m\"\\nValue Counts for jaccard_score between 0.8 and 0.9:\"\u001b[0m\u001b[0;34m)\u001b[0m\u001b[0;34m\u001b[0m\u001b[0;34m\u001b[0m\u001b[0m\n\u001b[1;32m      5\u001b[0m \u001b[0mprint\u001b[0m\u001b[0;34m(\u001b[0m\u001b[0mfiltered_value_counts\u001b[0m\u001b[0;34m)\u001b[0m\u001b[0;34m\u001b[0m\u001b[0;34m\u001b[0m\u001b[0m\n",
      "\u001b[0;31mNameError\u001b[0m: name 'value_counts' is not defined"
     ]
    }
   ],
   "source": [
    "# Filter for values between 0.8 and 0.9\n",
    "filtered_value_counts = value_counts[(value_counts.index > 0.7) & (value_counts.index < 0.9)]\n",
    "\n",
    "print(\"\\nValue Counts for jaccard_score between 0.8 and 0.9:\")\n",
    "print(filtered_value_counts)\n"
   ]
  },
  {
   "cell_type": "code",
   "execution_count": 20,
   "id": "1feb2c84-7af2-4bc7-bb26-3ffce3280eb0",
   "metadata": {},
   "outputs": [],
   "source": [
    "file_path = '/scratch/baj321/marked_df.csv'\n",
    "marked_df.to_csv(file_path, index=False)"
   ]
  },
  {
   "cell_type": "code",
   "execution_count": 40,
   "id": "8e8879f6-1abe-4159-9577-64f09b3277d5",
   "metadata": {},
   "outputs": [],
   "source": [
    "# Sort the DataFrame by 'jaccard_score' in ascending order\n",
    "sorted_df = marked_df.sort_values(by='jaccard_score')\n",
    "\n",
    "# Filter rows with 'jaccard_score' between 0.8 and 0.9\n",
    "filtered_df = sorted_df[\n",
    "    (sorted_df['jaccard_score'] > 0.4) &\n",
    "    (sorted_df['jaccard_score'] < 0.9) &\n",
    "    (sorted_df['cxr_match'] == False) &\n",
    "    (sorted_df['mimic_match'] == False)\n",
    "]"
   ]
  },
  {
   "cell_type": "code",
   "execution_count": 47,
   "id": "76710601-dcda-4f9d-adfa-03ef9f812b9c",
   "metadata": {},
   "outputs": [
    {
     "name": "stdout",
     "output_type": "stream",
     "text": [
      "Jaccard: 0.4014084507042254\n",
      "Mimic Note: PA AND LATERAL VIEWS OF THE CHEST\n",
      "\n",
      "REASON FOR EXAM:  Asthma and cough.  Patient is status post radical\n",
      "prostatectomy.\n",
      "\n",
      "Comparison is made with CT ___.\n",
      "\n",
      "Cardiac size is normal. There is increase in the mediastinal fat at the left\n",
      "cardiophrenic angle. There is blunting of the left costophrenic angle and\n",
      "elevation of the left hemidiaphragm, likely chronic.  The lungs are grossly\n",
      "clear.  The lungs are hyperinflated consistent with emphysema.  \n",
      "\n",
      "IMPRESSION:\n",
      "No evidence of pneumonia.\n",
      "\n",
      "CXR REPORT:  WET READ: ___ ___ 9:06 PM\n",
      "  Opacity with angular margins at the left lung base anteriorly with elevated\n",
      "  left hemidiaphragm. Prior imaging studies are not available for viewing, but\n",
      "  reports from prior chest radiographs and CTs in the Atrius system describe\n",
      "  known chronic left pleural scarring from prior surgery. Given the angular\n",
      "  margins of this density and volume loss in this area, this most likely\n",
      "  corresponds to known chronic scarring. But in the absence of prior images,\n",
      "  consolidation cannot be excluded. Clinical correlation is recommended. Close\n",
      "  follow up imaging could be obtained to evaluate for change. If clinically\n",
      "  indicated, CT could be performed for further evaluation. Discussed with ___\n",
      "  ___ by phone at 9 p.m. on ___ at time of initial review of the study\n",
      "  in response to wet read request.\n",
      " ______________________________________________________________________________\n",
      "                                 FINAL REPORT\n",
      " PA AND LATERAL VIEWS OF THE CHEST\n",
      " \n",
      " REASON FOR EXAM:  Asthma and cough.  Patient is status post radical\n",
      " prostatectomy.\n",
      " \n",
      " Comparison is made with CT ___.\n",
      " \n",
      " Cardiac size is normal. There is increase in the mediastinal fat at the left\n",
      " cardiophrenic angle. There is blunting of the left costophrenic angle and\n",
      " elevation of the left hemidiaphragm, likely chronic.  The lungs are grossly\n",
      " clear.  The lungs are hyperinflated consistent with emphysema.  \n",
      " \n",
      " IMPRESSION:\n",
      " No evidence of pneumonia.\n",
      "\n",
      "17461\n"
     ]
    }
   ],
   "source": [
    "# Print the first matching row's details\n",
    "num=0\n",
    "print(\"Jaccard:\",filtered_df.iloc[num].jaccard_score)\n",
    "print(\"Mimic Note:\", filtered_df.iloc[num].text)\n",
    "print(\"CXR REPORT:\", filtered_df.iloc[num].cxr_report_text)\n",
    "print(len(filtered_df))"
   ]
  },
  {
   "cell_type": "code",
   "execution_count": 37,
   "id": "e292572a-daa4-41c5-ba5f-e1ed1571c569",
   "metadata": {},
   "outputs": [
    {
     "data": {
      "text/html": [
       "<div>\n",
       "<style scoped>\n",
       "    .dataframe tbody tr th:only-of-type {\n",
       "        vertical-align: middle;\n",
       "    }\n",
       "\n",
       "    .dataframe tbody tr th {\n",
       "        vertical-align: top;\n",
       "    }\n",
       "\n",
       "    .dataframe thead th {\n",
       "        text-align: right;\n",
       "    }\n",
       "</style>\n",
       "<table border=\"1\" class=\"dataframe\">\n",
       "  <thead>\n",
       "    <tr style=\"text-align: right;\">\n",
       "      <th></th>\n",
       "      <th>note_id</th>\n",
       "      <th>subject_id</th>\n",
       "      <th>hadm_id</th>\n",
       "      <th>note_type</th>\n",
       "      <th>note_seq</th>\n",
       "      <th>charttime</th>\n",
       "      <th>storetime</th>\n",
       "      <th>text</th>\n",
       "      <th>processed_text_mimic</th>\n",
       "      <th>study_id</th>\n",
       "      <th>cxr_report_text</th>\n",
       "      <th>processed_text_cxr</th>\n",
       "      <th>mimic_match</th>\n",
       "      <th>cxr_match</th>\n",
       "      <th>jaccard_score</th>\n",
       "    </tr>\n",
       "  </thead>\n",
       "  <tbody>\n",
       "    <tr>\n",
       "      <th>7599018</th>\n",
       "      <td>18581793-AR-24</td>\n",
       "      <td>18581793</td>\n",
       "      <td>29083316.0</td>\n",
       "      <td>AR</td>\n",
       "      <td>24</td>\n",
       "      <td>2146-08-24 13:08:00</td>\n",
       "      <td>2146-08-24 16:39:00</td>\n",
       "      <td>ADDENDUM  My initial review of more than a doz...</td>\n",
       "      <td>ADDENDUMMyinitialreviewofmorethanadozenofthisp...</td>\n",
       "      <td>51808073</td>\n",
       "      <td>FINAL ADDENDU...</td>\n",
       "      <td>EXAMINATIONCHEST(PORTABLEAP)INDICATIONyearoldm...</td>\n",
       "      <td>False</td>\n",
       "      <td>False</td>\n",
       "      <td>0.502439</td>\n",
       "    </tr>\n",
       "    <tr>\n",
       "      <th>421453</th>\n",
       "      <td>10541652-RR-102</td>\n",
       "      <td>10541652</td>\n",
       "      <td>26489597.0</td>\n",
       "      <td>RR</td>\n",
       "      <td>102</td>\n",
       "      <td>2168-08-29 22:27:00</td>\n",
       "      <td>2168-08-30 10:45:00</td>\n",
       "      <td>EXAMINATION:  CHEST (PORTABLE AP)\\n\\nINDICATIO...</td>\n",
       "      <td>EXAMINATIONCHEST(PORTABLEAP)INDICATIONyoMwcomp...</td>\n",
       "      <td>57922580</td>\n",
       "      <td>FINAL REPORT\\...</td>\n",
       "      <td>EXAMINATIONCHEST(PAANDLAT)INDICATIONyoMwcomple...</td>\n",
       "      <td>True</td>\n",
       "      <td>True</td>\n",
       "      <td>0.502825</td>\n",
       "    </tr>\n",
       "    <tr>\n",
       "      <th>5901309</th>\n",
       "      <td>16669225-RR-54</td>\n",
       "      <td>16669225</td>\n",
       "      <td>20887418.0</td>\n",
       "      <td>RR</td>\n",
       "      <td>54</td>\n",
       "      <td>2155-07-21 07:46:00</td>\n",
       "      <td>2155-07-21 15:12:00</td>\n",
       "      <td>EXAMINATION:  CHEST (PORTABLE AP)\\n\\nINDICATIO...</td>\n",
       "      <td>EXAMINATIONCHEST(PORTABLEAP)INDICATIONCADMRhtn...</td>\n",
       "      <td>53267724</td>\n",
       "      <td>FINAL REPORT\\...</td>\n",
       "      <td>EXAMINATIONCHEST(PORTABLEAP)INDICATIONCADMRhtn...</td>\n",
       "      <td>True</td>\n",
       "      <td>True</td>\n",
       "      <td>0.502890</td>\n",
       "    </tr>\n",
       "    <tr>\n",
       "      <th>5901245</th>\n",
       "      <td>16669225-RR-47</td>\n",
       "      <td>16669225</td>\n",
       "      <td>20887418.0</td>\n",
       "      <td>RR</td>\n",
       "      <td>47</td>\n",
       "      <td>2155-07-15 08:23:00</td>\n",
       "      <td>2155-07-15 10:34:00</td>\n",
       "      <td>EXAMINATION:  CHEST (PORTABLE AP)\\n\\nINDICATIO...</td>\n",
       "      <td>EXAMINATIONCHEST(PORTABLEAP)INDICATIONCADMRhtn...</td>\n",
       "      <td>54087614</td>\n",
       "      <td>FINAL REPORT\\...</td>\n",
       "      <td>EXAMINATIONCHEST(PORTABLEAP)INDICATIONCADMRhtn...</td>\n",
       "      <td>True</td>\n",
       "      <td>True</td>\n",
       "      <td>0.502890</td>\n",
       "    </tr>\n",
       "    <tr>\n",
       "      <th>8595431</th>\n",
       "      <td>19705230-RR-11</td>\n",
       "      <td>19705230</td>\n",
       "      <td>29218436.0</td>\n",
       "      <td>RR</td>\n",
       "      <td>11</td>\n",
       "      <td>2135-05-30 20:48:00</td>\n",
       "      <td>2135-05-31 10:41:00</td>\n",
       "      <td>EXAMINATION:  CHEST PORT. LINE PLACEMENT\\n\\nIN...</td>\n",
       "      <td>EXAMINATIONCHESTPORTLINEPLACEMENTINDICATIONyea...</td>\n",
       "      <td>59860087</td>\n",
       "      <td>FINAL REPORT\\...</td>\n",
       "      <td>EXAMINATIONCHEST(PORTABLEAP)INDICATIONyearoldm...</td>\n",
       "      <td>False</td>\n",
       "      <td>True</td>\n",
       "      <td>0.503106</td>\n",
       "    </tr>\n",
       "  </tbody>\n",
       "</table>\n",
       "</div>"
      ],
      "text/plain": [
       "                 note_id  subject_id     hadm_id note_type  note_seq  \\\n",
       "7599018   18581793-AR-24    18581793  29083316.0        AR        24   \n",
       "421453   10541652-RR-102    10541652  26489597.0        RR       102   \n",
       "5901309   16669225-RR-54    16669225  20887418.0        RR        54   \n",
       "5901245   16669225-RR-47    16669225  20887418.0        RR        47   \n",
       "8595431   19705230-RR-11    19705230  29218436.0        RR        11   \n",
       "\n",
       "                   charttime            storetime  \\\n",
       "7599018  2146-08-24 13:08:00  2146-08-24 16:39:00   \n",
       "421453   2168-08-29 22:27:00  2168-08-30 10:45:00   \n",
       "5901309  2155-07-21 07:46:00  2155-07-21 15:12:00   \n",
       "5901245  2155-07-15 08:23:00  2155-07-15 10:34:00   \n",
       "8595431  2135-05-30 20:48:00  2135-05-31 10:41:00   \n",
       "\n",
       "                                                      text  \\\n",
       "7599018  ADDENDUM  My initial review of more than a doz...   \n",
       "421453   EXAMINATION:  CHEST (PORTABLE AP)\\n\\nINDICATIO...   \n",
       "5901309  EXAMINATION:  CHEST (PORTABLE AP)\\n\\nINDICATIO...   \n",
       "5901245  EXAMINATION:  CHEST (PORTABLE AP)\\n\\nINDICATIO...   \n",
       "8595431  EXAMINATION:  CHEST PORT. LINE PLACEMENT\\n\\nIN...   \n",
       "\n",
       "                                      processed_text_mimic  study_id  \\\n",
       "7599018  ADDENDUMMyinitialreviewofmorethanadozenofthisp...  51808073   \n",
       "421453   EXAMINATIONCHEST(PORTABLEAP)INDICATIONyoMwcomp...  57922580   \n",
       "5901309  EXAMINATIONCHEST(PORTABLEAP)INDICATIONCADMRhtn...  53267724   \n",
       "5901245  EXAMINATIONCHEST(PORTABLEAP)INDICATIONCADMRhtn...  54087614   \n",
       "8595431  EXAMINATIONCHESTPORTLINEPLACEMENTINDICATIONyea...  59860087   \n",
       "\n",
       "                                           cxr_report_text  \\\n",
       "7599018                                   FINAL ADDENDU...   \n",
       "421453                                    FINAL REPORT\\...   \n",
       "5901309                                   FINAL REPORT\\...   \n",
       "5901245                                   FINAL REPORT\\...   \n",
       "8595431                                   FINAL REPORT\\...   \n",
       "\n",
       "                                        processed_text_cxr  mimic_match  \\\n",
       "7599018  EXAMINATIONCHEST(PORTABLEAP)INDICATIONyearoldm...        False   \n",
       "421453   EXAMINATIONCHEST(PAANDLAT)INDICATIONyoMwcomple...         True   \n",
       "5901309  EXAMINATIONCHEST(PORTABLEAP)INDICATIONCADMRhtn...         True   \n",
       "5901245  EXAMINATIONCHEST(PORTABLEAP)INDICATIONCADMRhtn...         True   \n",
       "8595431  EXAMINATIONCHEST(PORTABLEAP)INDICATIONyearoldm...        False   \n",
       "\n",
       "         cxr_match  jaccard_score  \n",
       "7599018      False       0.502439  \n",
       "421453        True       0.502825  \n",
       "5901309       True       0.502890  \n",
       "5901245       True       0.502890  \n",
       "8595431       True       0.503106  "
      ]
     },
     "execution_count": 37,
     "metadata": {},
     "output_type": "execute_result"
    }
   ],
   "source": [
    "filtered_df.head()"
   ]
  },
  {
   "cell_type": "code",
   "execution_count": 21,
   "id": "69c09215-67a0-4608-8c44-d7a2d45ee8f7",
   "metadata": {
    "scrolled": true
   },
   "outputs": [
    {
     "name": "stdout",
     "output_type": "stream",
     "text": [
      "Unique Mimic Notes: 884897\n",
      "Unique CXR Reports: 3493\n"
     ]
    }
   ],
   "source": [
    "# Filter to get unique mimic_notes and cxr_reports\n",
    "unique_mimic_notes = marked_df[(~marked_df['mimic_match']) & marked_df['text'].notnull()].drop_duplicates(subset=['subject_id','note_id', 'text'])\n",
    "unique_cxr_reports = marked_df[(~marked_df['cxr_match']) & marked_df['cxr_report_text'].notnull()].drop_duplicates(subset=['subject_id','study_id', 'cxr_report_text'])\n",
    "\n",
    "# Optionally, extract only the relevant columns\n",
    "unique_mimic_notes = unique_mimic_notes[['note_id', 'subject_id', 'hadm_id', 'note_type', 'note_seq', 'charttime', 'storetime', 'text','processed_text_mimic' ]]\n",
    "unique_cxr_reports = unique_cxr_reports[['subject_id','study_id','cxr_report_text','processed_text_cxr']]\n",
    "# Now, `unique_mimic_notes` and `unique_cxr_reports` contain the lists of unique notes and reports\n",
    "\n",
    "#no subject id\n",
    "#194984 mimic notes removed\n",
    "#194970 cxr reports removed\n",
    "\n",
    "#with subject id\n",
    "#194984 mimic notes removed\n",
    "#194970 cxr reports removed\n",
    "print('Unique Mimic Notes:', len(unique_mimic_notes))\n",
    "print('Unique CXR Reports:', len(unique_cxr_reports))"
   ]
  },
  {
   "cell_type": "code",
   "execution_count": 22,
   "id": "6b4b0870-29a2-4188-b43b-77700d3b1424",
   "metadata": {},
   "outputs": [],
   "source": [
    "#0.9 threshold\n",
    "# we have 20852 cxr reports in mimic-cxr that belong to patients represented in mimic-note but that are not included in the mimic-note radiology dataset\n",
    "# we have 12013 cxr reports in mimic-cxr that belong to patients not represented in mimic-note\n",
    "\n",
    "# USABLE: we have 902932 reports in mimic-note that belong to patients who are represented in mimic-cxr but that are not copies of the reports there\n",
    "# we have 1223439 reports in mimic-note that belong to patients not represented in mimic-cxr"
   ]
  },
  {
   "cell_type": "code",
   "execution_count": 21,
   "id": "a74ba649-69fb-4d42-8678-17e7e1ac4617",
   "metadata": {},
   "outputs": [],
   "source": [
    "# Write the DataFrame to a CSV file\n",
    "cxr_file_path = '/scratch/baj321/unique_cxr_reports.csv'\n",
    "unique_cxr_reports.to_csv(cxr_file_path, index=False)\n",
    "file_path = '/scratch/baj321/unique_mimic_notes.csv'\n",
    "unique_mimic_notes.to_csv(file_path, index=False)"
   ]
  },
  {
   "cell_type": "code",
   "execution_count": null,
   "id": "542c03de-e6a7-4428-adbe-972dd9a8a5b8",
   "metadata": {},
   "outputs": [],
   "source": [
    "#0.3 threshold\n",
    "# we have 3493 cxr reports in mimic-cxr that belong to patients represented in mimic-note but that are not included in the mimic-note radiology dataset\n",
    "# we have 12013 cxr reports in mimic-cxr that belong to patients not represented in mimic-note\n",
    "\n",
    "# USABLE: we have 884897 reports in mimic-note that belong to patients who are represented in mimic-cxr but that are not copies of the reports there\n",
    "# we have 1223439 reports in mimic-note that belong to patients not represented in mimic-cxr"
   ]
  },
  {
   "cell_type": "code",
   "execution_count": 22,
   "id": "cd68c60e-27b6-4403-8236-30ff5114558f",
   "metadata": {},
   "outputs": [
    {
     "name": "stderr",
     "output_type": "stream",
     "text": [
      "/scratch/baj321/conda-envs/medfuse_py37/lib/python3.7/site-packages/ipykernel_launcher.py:1: UserWarning: This pattern has match groups. To actually get the groups, use str.extract.\n",
      "  \"\"\"Entry point for launching an IPython kernel.\n"
     ]
    },
    {
     "name": "stdout",
     "output_type": "stream",
     "text": [
      "445854\n",
      "            note_id  subject_id  hadm_id note_type  note_seq  \\\n",
      "127  10000935-RR-45    10000935      NaN        RR        45   \n",
      "133  10000935-RR-46    10000935      NaN        RR        46   \n",
      "139  10000935-RR-47    10000935      NaN        RR        47   \n",
      "181  10000935-RR-58    10000935      NaN        RR        58   \n",
      "193  10000935-RR-60    10000935      NaN        RR        60   \n",
      "\n",
      "               charttime            storetime  \\\n",
      "127  2182-10-06 11:24:00  2182-10-06 15:20:00   \n",
      "133  2182-11-28 10:45:00  2182-11-28 17:23:00   \n",
      "139  2182-11-28 10:45:00  2182-11-28 17:22:00   \n",
      "181  2184-11-25 09:27:00  2184-11-25 13:46:00   \n",
      "193  2185-12-24 19:33:00  2185-12-24 20:51:00   \n",
      "\n",
      "                                                  text  \\\n",
      "127  PA AND LATERAL CHEST, ___\\n\\nHISTORY:  Status ...   \n",
      "133  HISTORY:  ___ female with osteoarthritis of bi...   \n",
      "139  HISTORY:  ___ female with history of herniated...   \n",
      "181  INDICATION:  Right knee osteoarthritis.\\n\\nCOM...   \n",
      "193  RIGHT ANKLE AND FOOT RADIOGRAPH PERFORMED ON _...   \n",
      "\n",
      "                                  processed_text_mimic  \n",
      "127  PAANDLATERALCHESTHISTORYStatuspostrightlowerlo...  \n",
      "133  HISTORYfemalewithosteoarthritisofbilateralknee...  \n",
      "139  HISTORYfemalewithhistoryofherniatedC5-6discnow...  \n",
      "181  INDICATIONRightkneeosteoarthritisCOMPARISONAPL...  \n",
      "193  RIGHTANKLEANDFOOTRADIOGRAPHPERFORMEDONCOMPARIS...  \n"
     ]
    }
   ],
   "source": [
    "filtered_df = unique_mimic_notes[unique_mimic_notes['text'].str.contains(r'\\b(chest|radiograph|AP|lateral)\\b', case=False, na=False)]\n",
    "print(len(filtered_df))\n",
    "print(filtered_df.head())"
   ]
  },
  {
   "cell_type": "code",
   "execution_count": 24,
   "id": "ff7fac38-5951-4fa0-aac0-347fe6a98661",
   "metadata": {},
   "outputs": [
    {
     "name": "stdout",
     "output_type": "stream",
     "text": [
      "10000935\n",
      "PA AND LATERAL CHEST, ___\n",
      "\n",
      "HISTORY:  Status post right lower lobe resection for carcinoid.  Now short of\n",
      "breath.\n",
      "\n",
      "IMPRESSION:  PA and lateral chest compared to ___:\n",
      "\n",
      "There has been no interval radiographic change.  Lung volumes are small and\n",
      "the right hemidiaphragm is moderately elevated.  Pleural thickening joins the\n",
      "left lower costal pleural margin, unchanged.  No focal pulmonary abnormality\n",
      "is seen.  There is no left pleural effusion.  The right hemidiaphragm remains\n",
      "elevated.  Heart size normal.  Upper mediastinum has normal contours. \n",
      "Granulomatous calcifications are seen in hilar nodes.\n",
      "\n",
      "Periosteal regrowth does not fully bridge surgical fracture of the right\n",
      "posterior sixth rib.\n",
      "\n"
     ]
    }
   ],
   "source": [
    "num = 0\n",
    "print(filtered_df['subject_id'].iloc[num])\n",
    "print(filtered_df['text'].iloc[num])"
   ]
  },
  {
   "cell_type": "code",
   "execution_count": 44,
   "id": "7990f829-cfe2-40c2-9c63-9207f5b411ac",
   "metadata": {},
   "outputs": [
    {
     "name": "stdout",
     "output_type": "stream",
     "text": [
      "                                 FINAL REPORT\n",
      " CHEST RADIOGRAPHS\n",
      " \n",
      " HISTORY:  Metastatic disease with known pulmonary metastases, presenting with\n",
      " fever and leukocytosis.\n",
      " \n",
      " COMPARISONS:  Radiographs from ___ as well as CT of the abdomen\n",
      " and pelvis from that same day.  Radiographs are also available from ___.\n",
      " \n",
      " FINDINGS:  The lung volumes are low.  The cardiac, mediastinal and hilar\n",
      " contours appear unchanged, allowing for differences in technique.  There are a\n",
      " number of round nodular densities projecting over each upper lung, but more\n",
      " numerous and discretely visualized in the left upper lobe, similar to prior\n",
      " study.  However, in addition, there is a more hazy widespread opacity\n",
      " projecting over the left mid upper lung which could be compatible with a\n",
      " coinciding pneumonia.  Pulmonary nodules in the left upper lobe are also not\n",
      " completely characterized on this study.  There is no pleural effusion or\n",
      " pneumothorax.  Post-operative changes are similar along the right chest wall.\n",
      " \n",
      " IMPRESSION:  Increasing left lung opacification which may reflect pneumonia\n",
      " superimposed on metastatic disease, although other etiologies such as\n",
      " lymphangitic pattern of metastatic spread could be considered.  CT may be\n",
      " helpful to evaluate further if needed clinically.\n",
      "\n"
     ]
    }
   ],
   "source": [
    "# all 6 available cxr's for patient 10000935 do not match the cxr report in mimic-note\n",
    "print(cxr_reports[cxr_reports['subject_id']==10000935].iloc[5].cxr_report_text)"
   ]
  },
  {
   "cell_type": "code",
   "execution_count": 60,
   "id": "989c02b3-375d-4778-b9f6-c92f80a57e2f",
   "metadata": {},
   "outputs": [
    {
     "name": "stdout",
     "output_type": "stream",
     "text": [
      "Number of entries where `mimic_match` is True and `text` is null: 0\n",
      "2765\n",
      "       subject_id         note_id  \\\n",
      "28143    10027100  10027100-RR-17   \n",
      "28144    10027100  10027100-RR-17   \n",
      "28145    10027100  10027100-RR-17   \n",
      "28146    10027100  10027100-RR-17   \n",
      "28147    10027100  10027100-RR-17   \n",
      "\n",
      "                                                    text  \\\n",
      "28143  INDICATION:  Chest pain.\\n\\nCOMPARISON:  Chest...   \n",
      "28144  INDICATION:  Chest pain.\\n\\nCOMPARISON:  Chest...   \n",
      "28145  INDICATION:  Chest pain.\\n\\nCOMPARISON:  Chest...   \n",
      "28146  INDICATION:  Chest pain.\\n\\nCOMPARISON:  Chest...   \n",
      "28147  INDICATION:  Chest pain.\\n\\nCOMPARISON:  Chest...   \n",
      "\n",
      "                                         cxr_report_text  mimic_match  \\\n",
      "28143                                   FINAL REPORT\\...         True   \n",
      "28144                                   FINAL REPORT\\...         True   \n",
      "28145                                   FINAL REPORT\\...         True   \n",
      "28146                                   FINAL REPORT\\...         True   \n",
      "28147                                   FINAL REPORT\\...         True   \n",
      "\n",
      "       cxr_match                                 processed_text_cxr  \\\n",
      "28143       True  EXAMINATIONChestFrontalandlateralviewsINDICATI...   \n",
      "28144       True  INDICATIONChestpainCOMPARISONChestradiographon...   \n",
      "28145       True  INDICATION-year-oldmanwithchestpainEvaluatefor...   \n",
      "28146       True  INDICATIONBackpainandcoughEvaluateforpneumonia...   \n",
      "28147       True  EXAMINATIONChestFrontalandlateralviewsINDICATI...   \n",
      "\n",
      "                                    processed_text_mimic  \n",
      "28143  INDICATIONChestpainCOMPARISONChestradiographon...  \n",
      "28144  INDICATIONChestpainCOMPARISONChestradiographon...  \n",
      "28145  INDICATIONChestpainCOMPARISONChestradiographon...  \n",
      "28146  INDICATIONChestpainCOMPARISONChestradiographon...  \n",
      "28147  INDICATIONChestpainCOMPARISONChestradiographon...  \n"
     ]
    }
   ],
   "source": [
    "# Step 1: Count entries in `marked_df` where `mimic_match` is True and `text` is null\n",
    "null_text_count = marked_df[(marked_df['mimic_match']) & marked_df['text'].isnull()].shape[0]\n",
    "print(f\"Number of entries where `mimic_match` is True and `text` is null: {null_text_count}\")\n",
    "\n",
    "# Step 2: Identify subjects with multiple matches\n",
    "# Filter rows with `mimic_match` as True\n",
    "matched_mimic_notes = marked_df[marked_df['mimic_match']]\n",
    "\n",
    "# Group by `subject_id` to count the number of matches per subject\n",
    "subject_match_counts = matched_mimic_notes.groupby('subject_id').size().reset_index(name='match_count')\n",
    "\n",
    "# Filter for subjects with more than one match\n",
    "subjects_with_multiple_matches = subject_match_counts[subject_match_counts['match_count'] > 1]\n",
    "\n",
    "# Display details for subjects with multiple matches to inspect\n",
    "# Filter original dataframe to get all rows for these subjects\n",
    "detailed_subject_matches = matched_mimic_notes[matched_mimic_notes['subject_id'].isin(subjects_with_multiple_matches['subject_id'])]\n",
    "\n",
    "# Display details of these multiple matches\n",
    "detailed_subject_matches = detailed_subject_matches[['subject_id', 'note_id', 'text', 'cxr_report_text', 'mimic_match', 'cxr_match', 'processed_text_cxr', 'processed_text_mimic']]\n",
    "\n",
    "processed_mimic_groups = detailed_subject_matches.groupby('processed_text_mimic').filter(lambda x: x['note_id'].nunique() > 1)\n",
    "\n",
    "# Display the filtered DataFrame\n",
    "print(len(processed_mimic_groups))\n",
    "print(processed_mimic_groups.head())"
   ]
  },
  {
   "cell_type": "code",
   "execution_count": 72,
   "id": "aee8fac7-ce71-42ac-8461-3d0d12e5bb89",
   "metadata": {},
   "outputs": [
    {
     "name": "stdout",
     "output_type": "stream",
     "text": [
      "71\n"
     ]
    }
   ],
   "source": [
    "# Filter entries where 'processed_text_mimic' and 'subject_id' match, but 'note_id' is different\n",
    "processed_mimic_groups = detailed_subject_matches.groupby(['processed_text_mimic', 'subject_id']).filter(lambda x: x['note_id'].nunique() > 1).drop_duplicates(subset=['note_id'])\n",
    "\n",
    "# Display the filtered DataFrame\n",
    "print(len(processed_mimic_groups))"
   ]
  },
  {
   "cell_type": "code",
   "execution_count": 78,
   "id": "6f9d196d-ca81-47f3-ad8b-ef5d0e9ed4a2",
   "metadata": {},
   "outputs": [
    {
     "data": {
      "text/plain": [
       "32"
      ]
     },
     "execution_count": 78,
     "metadata": {},
     "output_type": "execute_result"
    }
   ],
   "source": [
    "processed_mimic_groups['subject_id'].nunique()"
   ]
  },
  {
   "cell_type": "code",
   "execution_count": 67,
   "id": "c36bf5ed-4a8b-46e5-980f-df330d9cd574",
   "metadata": {},
   "outputs": [],
   "source": [
    "processed_mimic_groups = processed_mimic_groups[processed_mimic_groups['subject_id']==19891680]"
   ]
  },
  {
   "cell_type": "code",
   "execution_count": 68,
   "id": "4d369c0f-8eda-4880-82bd-ee068b0dc1b6",
   "metadata": {},
   "outputs": [
    {
     "name": "stdout",
     "output_type": "stream",
     "text": [
      "2\n",
      "2\n",
      "         subject_id        note_id  \\\n",
      "8759840    19891680  19891680-RR-2   \n",
      "8759841    19891680  19891680-RR-3   \n",
      "\n",
      "                                                      text  \\\n",
      "8759840  INDICATION:  ___ man with vagus nerve stimulat...   \n",
      "8759841  INDICATION:  ___ man with vagus nerve stimulat...   \n",
      "\n",
      "                                           cxr_report_text  mimic_match  \\\n",
      "8759840                                   FINAL REPORT\\...         True   \n",
      "8759841                                   FINAL REPORT\\...         True   \n",
      "\n",
      "         cxr_match                                 processed_text_cxr  \\\n",
      "8759840       True  INDICATION-year-oldmanwithvagusnervestimulator...   \n",
      "8759841       True  INDICATION-year-oldmanwithvagusnervestimulator...   \n",
      "\n",
      "                                      processed_text_mimic  \n",
      "8759840  INDICATIONmanwithvagusnervestimulatorwhichhasb...  \n",
      "8759841  INDICATIONmanwithvagusnervestimulatorwhichhasb...  \n"
     ]
    }
   ],
   "source": [
    "print(len(processed_mimic_groups))\n",
    "print(processed_mimic_groups['note_id'].nunique())\n",
    "print(processed_mimic_groups.head(7))"
   ]
  },
  {
   "cell_type": "code",
   "execution_count": 69,
   "id": "2dd8f3e7-8e3b-4183-9722-0576c8ab2d9b",
   "metadata": {},
   "outputs": [
    {
     "name": "stdout",
     "output_type": "stream",
     "text": [
      "INDICATION:  ___ man with vagus nerve stimulator which has been\n",
      "disconnected, but the ED lead remains in place.  Evaluate lead to determine\n",
      "whether it is safe to have spine MRI.\n",
      "\n",
      "TECHNIQUE:  Chest PA and lateral.  Soft tissue neck AP and lateral.\n",
      "\n",
      "COMPARISON:  None available.\n",
      "\n",
      "FINDINGS: \n",
      "\n",
      "A disconnected left vagus nerve stimulator lead is in place.\n",
      "\n",
      "Chest: Cardiac, mediastinal, and hilar contours are within normal limits. \n",
      "There is no evidence for pulmonary consolidation, pulmonary edema, pleural\n",
      "effusion, or pneumothorax.  There are endplate degenerative changes in the\n",
      "thoracic spine and a mild dextroconvex curvature in the upper thoracic spine.\n",
      "\n",
      "Neck:  The contours of the aerodigestive tract are unremarkable.  There are\n",
      "multilevel degenerative changes in the cervical spine, including minimal\n",
      "retrolisthesis at C3-C4 and C4-C5, and bilateral uncovertebral spurring from\n",
      "C4-C5 through C6-C7.\n",
      "\n",
      "IMPRESSION:\n",
      "\n",
      "\n",
      "1. A disconnected left vagus nerve stimulator lead is in place.\n",
      "2. Degenerative changes in the cervical and thoracic spine.\n",
      "\n",
      "INDICATION:  ___ man with vagus nerve stimulator which has been\n",
      "disconnected, but the ED lead remains in place.  Evaluate lead to determine\n",
      "whether it is safe to have spine MRI.\n",
      "\n",
      "TECHNIQUE:  Chest PA and lateral.  Soft tissue neck AP and lateral.\n",
      "\n",
      "COMPARISON:  None available.\n",
      "\n",
      "FINDINGS: \n",
      "\n",
      "A disconnected left vagus nerve stimulator lead is in place.\n",
      "\n",
      "Chest: Cardiac, mediastinal, and hilar contours are within normal limits. \n",
      "There is no evidence for pulmonary consolidation, pulmonary edema, pleural\n",
      "effusion, or pneumothorax.  There are endplate degenerative changes in the\n",
      "thoracic spine and a mild dextroconvex curvature in the upper thoracic spine.\n",
      "\n",
      "Neck:  The contours of the aerodigestive tract are unremarkable.  There are\n",
      "multilevel degenerative changes in the cervical spine, including minimal\n",
      "retrolisthesis at C3-C4 and C4-C5, and bilateral uncovertebral spurring from\n",
      "C4-C5 through C6-C7.\n",
      "\n",
      "IMPRESSION:\n",
      "\n",
      "\n",
      "1. A disconnected left vagus nerve stimulator lead is in place.\n",
      "2. Degenerative changes in the cervical and thoracic spine.\n",
      "\n"
     ]
    }
   ],
   "source": [
    "print(processed_mimic_groups.text.iloc[0])\n",
    "print(processed_mimic_groups.text.iloc[1])"
   ]
  },
  {
   "cell_type": "code",
   "execution_count": 46,
   "id": "c2016104-b3dc-4839-81d0-e631bd794a45",
   "metadata": {},
   "outputs": [
    {
     "data": {
      "text/html": [
       "<div>\n",
       "<style scoped>\n",
       "    .dataframe tbody tr th:only-of-type {\n",
       "        vertical-align: middle;\n",
       "    }\n",
       "\n",
       "    .dataframe tbody tr th {\n",
       "        vertical-align: top;\n",
       "    }\n",
       "\n",
       "    .dataframe thead th {\n",
       "        text-align: right;\n",
       "    }\n",
       "</style>\n",
       "<table border=\"1\" class=\"dataframe\">\n",
       "  <thead>\n",
       "    <tr style=\"text-align: right;\">\n",
       "      <th></th>\n",
       "      <th>subject_id</th>\n",
       "      <th>note_id</th>\n",
       "      <th>text</th>\n",
       "      <th>cxr_report_text</th>\n",
       "      <th>mimic_match</th>\n",
       "      <th>cxr_match</th>\n",
       "    </tr>\n",
       "  </thead>\n",
       "  <tbody>\n",
       "    <tr>\n",
       "      <th>0</th>\n",
       "      <td>10000032</td>\n",
       "      <td>10000032-RR-14</td>\n",
       "      <td>EXAMINATION:  CHEST (PA AND LAT)\\n\\nINDICATION...</td>\n",
       "      <td>FINAL REPORT\\...</td>\n",
       "      <td>True</td>\n",
       "      <td>True</td>\n",
       "    </tr>\n",
       "    <tr>\n",
       "      <th>1</th>\n",
       "      <td>10000032</td>\n",
       "      <td>10000032-RR-14</td>\n",
       "      <td>EXAMINATION:  CHEST (PA AND LAT)\\n\\nINDICATION...</td>\n",
       "      <td>FINAL REPORT\\...</td>\n",
       "      <td>True</td>\n",
       "      <td>True</td>\n",
       "    </tr>\n",
       "    <tr>\n",
       "      <th>2</th>\n",
       "      <td>10000032</td>\n",
       "      <td>10000032-RR-14</td>\n",
       "      <td>EXAMINATION:  CHEST (PA AND LAT)\\n\\nINDICATION...</td>\n",
       "      <td>FINAL REPORT\\...</td>\n",
       "      <td>True</td>\n",
       "      <td>True</td>\n",
       "    </tr>\n",
       "    <tr>\n",
       "      <th>3</th>\n",
       "      <td>10000032</td>\n",
       "      <td>10000032-RR-14</td>\n",
       "      <td>EXAMINATION:  CHEST (PA AND LAT)\\n\\nINDICATION...</td>\n",
       "      <td>FINAL REPORT\\...</td>\n",
       "      <td>True</td>\n",
       "      <td>True</td>\n",
       "    </tr>\n",
       "    <tr>\n",
       "      <th>28</th>\n",
       "      <td>10000032</td>\n",
       "      <td>10000032-RR-23</td>\n",
       "      <td>EXAMINATION:  CHEST (PA AND LAT)\\n\\nINDICATION...</td>\n",
       "      <td>FINAL REPORT\\...</td>\n",
       "      <td>True</td>\n",
       "      <td>True</td>\n",
       "    </tr>\n",
       "  </tbody>\n",
       "</table>\n",
       "</div>"
      ],
      "text/plain": [
       "    subject_id         note_id  \\\n",
       "0     10000032  10000032-RR-14   \n",
       "1     10000032  10000032-RR-14   \n",
       "2     10000032  10000032-RR-14   \n",
       "3     10000032  10000032-RR-14   \n",
       "28    10000032  10000032-RR-23   \n",
       "\n",
       "                                                 text  \\\n",
       "0   EXAMINATION:  CHEST (PA AND LAT)\\n\\nINDICATION...   \n",
       "1   EXAMINATION:  CHEST (PA AND LAT)\\n\\nINDICATION...   \n",
       "2   EXAMINATION:  CHEST (PA AND LAT)\\n\\nINDICATION...   \n",
       "3   EXAMINATION:  CHEST (PA AND LAT)\\n\\nINDICATION...   \n",
       "28  EXAMINATION:  CHEST (PA AND LAT)\\n\\nINDICATION...   \n",
       "\n",
       "                                      cxr_report_text  mimic_match  cxr_match  \n",
       "0                                    FINAL REPORT\\...         True       True  \n",
       "1                                    FINAL REPORT\\...         True       True  \n",
       "2                                    FINAL REPORT\\...         True       True  \n",
       "3                                    FINAL REPORT\\...         True       True  \n",
       "28                                   FINAL REPORT\\...         True       True  "
      ]
     },
     "execution_count": 46,
     "metadata": {},
     "output_type": "execute_result"
    }
   ],
   "source": [
    "detailed_subject_matches.head()"
   ]
  },
  {
   "cell_type": "code",
   "execution_count": 54,
   "id": "f8bc17b5-9b4b-42df-8615-4b331070e889",
   "metadata": {},
   "outputs": [
    {
     "name": "stdout",
     "output_type": "stream",
     "text": [
      "10000032-RR-14\n",
      "MIMIC: EXAMINATION:  CHEST (PA AND LAT)\n",
      "\n",
      "INDICATION:  ___ with new onset ascites  // eval for infection\n",
      "\n",
      "TECHNIQUE:  Chest PA and lateral\n",
      "\n",
      "COMPARISON:  None.\n",
      "\n",
      "FINDINGS: \n",
      "\n",
      "There is no focal consolidation, pleural effusion or pneumothorax.  Bilateral\n",
      "nodular opacities that most likely represent nipple shadows. The\n",
      "cardiomediastinal silhouette is normal.  Clips project over the left lung,\n",
      "potentially within the breast. The imaged upper abdomen is unremarkable.\n",
      "Chronic deformity of the posterior left sixth and seventh ribs are noted.\n",
      "\n",
      "IMPRESSION: \n",
      "\n",
      "No acute cardiopulmonary process.\n",
      "\n"
     ]
    }
   ],
   "source": [
    "num = 0\n",
    "print(detailed_subject_matches['note_id'].iloc[num])\n",
    "print('MIMIC:',detailed_subject_matches['text'].iloc[num])"
   ]
  },
  {
   "cell_type": "code",
   "execution_count": 55,
   "id": "99d7cb93-ddd3-43d9-a09f-31cebe70dde7",
   "metadata": {},
   "outputs": [
    {
     "name": "stdout",
     "output_type": "stream",
     "text": [
      "10000032-RR-23\n",
      "MIMIC: EXAMINATION:  CHEST (PA AND LAT)\n",
      "\n",
      "INDICATION:  History: ___ with shortness of breath\n",
      "\n",
      "TECHNIQUE:  Chest PA and lateral\n",
      "\n",
      "COMPARISON:  ___\n",
      "\n",
      "FINDINGS: \n",
      "\n",
      "The cardiac, mediastinal and hilar contours are normal. Pulmonary vasculature\n",
      "is normal.  Lungs are clear. No pleural effusion or pneumothorax is present.\n",
      "Multiple clips are again seen projecting over the left breast.  Remote\n",
      "left-sided rib fractures are also re- demonstrated.\n",
      "\n",
      "IMPRESSION: \n",
      "\n",
      "No acute cardiopulmonary abnormality.\n",
      "\n"
     ]
    }
   ],
   "source": [
    "num = 6\n",
    "print(detailed_subject_matches['note_id'].iloc[num])\n",
    "print('MIMIC:',detailed_subject_matches['text'].iloc[num])"
   ]
  },
  {
   "cell_type": "code",
   "execution_count": 80,
   "id": "e13d5476-6583-47ee-8b62-50c7adfa939e",
   "metadata": {},
   "outputs": [
    {
     "name": "stdout",
     "output_type": "stream",
     "text": [
      "Number of entries where `mimic_match` is True and `text` is null: 0\n",
      "44\n",
      "         subject_id  study_id  \\\n",
      "94781      10136619  53291008   \n",
      "94788      10136619  54015202   \n",
      "351542     10452075  52975838   \n",
      "351543     10452075  54072033   \n",
      "1853508    12102463  59631800   \n",
      "\n",
      "                                                      text  \\\n",
      "94781    EXAMINATION:  LUMBO-SACRAL SPINE (AP AND LAT)\\...   \n",
      "94788    EXAMINATION:  LUMBO-SACRAL SPINE (AP AND LAT)\\...   \n",
      "351542   ADDENDUM  To clarify, 3 SPDA branches were cat...   \n",
      "351543   ADDENDUM  To clarify, 3 SPDA branches were cat...   \n",
      "1853508  ADDENDUM:  Findings were discussed with Dr. __...   \n",
      "\n",
      "                                           cxr_report_text  mimic_match  \\\n",
      "94781                                     FINAL REPORT\\...        False   \n",
      "94788                                     FINAL REPORT\\...        False   \n",
      "351542                                    FINAL REPORT\\...        False   \n",
      "351543                                    FINAL REPORT\\...        False   \n",
      "1853508                                   FINAL REPORT\\...        False   \n",
      "\n",
      "         cxr_match                                 processed_text_cxr  \\\n",
      "94781         True  EXAMINATIONCHEST(PORTABLEAP)INDICATIONyearoldw...   \n",
      "94788         True  EXAMINATIONCHEST(PORTABLEAP)INDICATIONyearoldw...   \n",
      "351542        True  EXAMINATIONChestradiographINDICATION-year-oldm...   \n",
      "351543        True  EXAMINATIONChestradiographINDICATION-year-oldm...   \n",
      "1853508       True  EXAMINATIONCHEST(PORTABLEAP)INDICATIONhoESRDon...   \n",
      "\n",
      "                                      processed_text_mimic  \n",
      "94781    EXAMINATIONLUMBO-SACRALSPINE(APANDLAT)INDICATI...  \n",
      "94788    EXAMINATIONLUMBO-SACRALSPINE(APANDLAT)INDICATI...  \n",
      "351542   ADDENDUMToclarify3SPDAbrancheswerecatheterized...  \n",
      "351543   ADDENDUMToclarify3SPDAbrancheswerecatheterized...  \n",
      "1853508  ADDENDUMFindingswerediscussedwithDrthephonebyD...  \n"
     ]
    }
   ],
   "source": [
    "# Step 1: Count entries in `marked_df` where `mimic_match` is True and `text` is null\n",
    "null_text_count = marked_df[(marked_df['cxr_match']) & marked_df['cxr_report_text'].isnull()].shape[0]\n",
    "print(f\"Number of entries where `mimic_match` is True and `text` is null: {null_text_count}\")\n",
    "\n",
    "# Step 2: Identify subjects with multiple matches\n",
    "# Filter rows with `mimic_match` as True\n",
    "matched_mimic_notes = marked_df[marked_df['cxr_match']]\n",
    "\n",
    "# Group by `subject_id` to count the number of matches per subject\n",
    "subject_match_counts = matched_mimic_notes.groupby('subject_id').size().reset_index(name='match_count')\n",
    "\n",
    "# Filter for subjects with more than one match\n",
    "subjects_with_multiple_matches = subject_match_counts[subject_match_counts['match_count'] > 1]\n",
    "\n",
    "# Display details for subjects with multiple matches to inspect\n",
    "# Filter original dataframe to get all rows for these subjects\n",
    "detailed_subject_matches = matched_mimic_notes[matched_mimic_notes['subject_id'].isin(subjects_with_multiple_matches['subject_id'])]\n",
    "\n",
    "# Display details of these multiple matches\n",
    "detailed_subject_matches = detailed_subject_matches[['subject_id', 'study_id', 'text', 'cxr_report_text', 'mimic_match', 'cxr_match', 'processed_text_cxr', 'processed_text_mimic']]\n",
    "\n",
    "processed_cxr_groups = detailed_subject_matches.groupby(['processed_text_cxr', 'subject_id']).filter(lambda x: x['study_id'].nunique() > 1).drop_duplicates(subset=['study_id'])\n",
    "\n",
    "# Display the filtered DataFrame\n",
    "print(len(processed_cxr_groups))\n",
    "print(processed_cxr_groups.head())"
   ]
  },
  {
   "cell_type": "code",
   "execution_count": null,
   "id": "d8d17a50-2d5f-4baf-a22b-d447256af6d7",
   "metadata": {},
   "outputs": [],
   "source": []
  }
 ],
 "metadata": {
  "kernelspec": {
   "display_name": "medfuse_py37",
   "language": "python",
   "name": "medfuse_py37"
  },
  "language_info": {
   "codemirror_mode": {
    "name": "ipython",
    "version": 3
   },
   "file_extension": ".py",
   "mimetype": "text/x-python",
   "name": "python",
   "nbconvert_exporter": "python",
   "pygments_lexer": "ipython3",
   "version": "3.7.12"
  }
 },
 "nbformat": 4,
 "nbformat_minor": 5
}
