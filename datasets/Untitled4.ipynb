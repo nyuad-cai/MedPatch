{
 "cells": [
  {
   "cell_type": "code",
   "execution_count": 1,
   "id": "4d5b4556-4a15-48e2-8b02-50837af1f81f",
   "metadata": {},
   "outputs": [],
   "source": [
    "from datasketch import MinHash, MinHashLSH\n",
    "from multiprocessing import Pool, cpu_count\n",
    "import pandas as pd\n",
    "from tqdm import tqdm  # For progress tracking\n",
    "tqdm.pandas() \n",
    "cxr_reports = pd.read_csv(\"/scratch/baj321/cxr_reports.csv\")\n",
    "mimic_notes = pd.read_csv(\"/scratch/baj321/MIMIC-Note/physionet.org/files/mimic-iv-note/2.2/note/radiology.csv\")"
   ]
  },
  {
   "cell_type": "code",
   "execution_count": 112,
   "id": "91e0d246-cc39-41e7-a9d7-7502ed241f49",
   "metadata": {},
   "outputs": [
    {
     "data": {
      "text/plain": [
       "2321355"
      ]
     },
     "execution_count": 112,
     "metadata": {},
     "output_type": "execute_result"
    }
   ],
   "source": [
    "len(mimic_notes)"
   ]
  },
  {
   "cell_type": "code",
   "execution_count": 2,
   "id": "ab6d1c6e-38f0-414c-ac0b-97c81675790a",
   "metadata": {},
   "outputs": [],
   "source": [
    "from datasketch import MinHash, MinHashLSH\n",
    "from multiprocessing import Pool, cpu_count\n",
    "import pandas as pd\n",
    "from tqdm import tqdm\n",
    "from sklearn.feature_extraction.text import CountVectorizer\n",
    "import re\n",
    "def preprocess(text):\n",
    "    if pd.isnull(text):\n",
    "        return set()\n",
    "    \n",
    "    # Step 1: Remove everything up to the literal string \"FINAL REPORT\\n\"\n",
    "    match = re.search(r\"FINAL REPORT\\n\", text, re.IGNORECASE)\n",
    "    if match:\n",
    "        text = text[match.end():]  # Keep only text after \"FINAL REPORT\\n\"\n",
    "    # else:\n",
    "    #     return set()  # If \"FINAL REPORT\\n\" is missing, return an empty set\n",
    "    \n",
    "    # Step 2: Remove unwanted special codes\n",
    "    #text = re.sub(r\"[^A-Za-z0-9]\", \"\", text)\n",
    "    text = re.sub(r\"___M|___F|___|[.,!?/:;\\\\]\", \"\", text)\n",
    "    # Step 3: Remove all formatting: no spaces, literal \"\\n\" strings, or newlines\n",
    "    text = re.sub(r\"\\s+|\\\\n\", \"\", text)  # Remove spaces and literal \"\\n\" strings\n",
    "    return text\n",
    "def preprocess_mimic_notes(text):\n",
    "    if pd.isnull(text):\n",
    "        return set()\n",
    "    \n",
    "    # Step 1: Remove unwanted special codes\n",
    "    #text = re.sub(r\"[^A-Za-z0-9]\", \"\", text)\n",
    "    text = re.sub(r\"___M|___F|___|[.,!?/:;\\\\]\", \"\", text)\n",
    "    \n",
    "    # Step 2: Remove all formatting: no spaces, literal \"\\n\" strings, or newlines\n",
    "    text = re.sub(r\"\\s+|\\\\n\", \"\", text)  # Remove spaces and literal \"\\n\" strings\n",
    "    return text"
   ]
  },
  {
   "cell_type": "code",
   "execution_count": 3,
   "id": "26d39e5d-c60a-45fb-814b-97b8897e1f7b",
   "metadata": {},
   "outputs": [
    {
     "name": "stderr",
     "output_type": "stream",
     "text": [
      "100%|██████████| 227835/227835 [00:15<00:00, 15168.57it/s]\n"
     ]
    }
   ],
   "source": [
    "cxr_reports['new_text'] = cxr_reports['cxr_report_text'].progress_apply(preprocess)"
   ]
  },
  {
   "cell_type": "code",
   "execution_count": 4,
   "id": "e6649bf3-7927-44f3-89bd-4eac5ab3be30",
   "metadata": {},
   "outputs": [
    {
     "name": "stderr",
     "output_type": "stream",
     "text": [
      "100%|██████████| 2321355/2321355 [04:37<00:00, 8373.94it/s]\n"
     ]
    }
   ],
   "source": [
    "mimic_notes['new_mimic_text'] = mimic_notes['text'].progress_apply(preprocess_mimic_notes)"
   ]
  },
  {
   "cell_type": "code",
   "execution_count": 5,
   "id": "219d4907-2d59-47e5-918f-9ca5afa9b4c0",
   "metadata": {},
   "outputs": [
    {
     "data": {
      "text/plain": [
       "2157600"
      ]
     },
     "execution_count": 5,
     "metadata": {},
     "output_type": "execute_result"
    }
   ],
   "source": [
    "unique_mimic_notes = mimic_notes[~mimic_notes['new_mimic_text'].isin(cxr_reports['new_text'])]\n",
    "len(unique_mimic_notes)"
   ]
  },
  {
   "cell_type": "code",
   "execution_count": 6,
   "id": "9621300f-1a6f-4afa-9d1a-cae21fdaf936",
   "metadata": {},
   "outputs": [
    {
     "data": {
      "text/plain": [
       "64266"
      ]
     },
     "execution_count": 6,
     "metadata": {},
     "output_type": "execute_result"
    }
   ],
   "source": [
    "# Find unique notes from mimic_cxr that are not found in mimic_notes\n",
    "unique_mimic_cxr_notes = cxr_reports[~cxr_reports['new_text'].isin(mimic_notes['new_mimic_text'])]\n",
    "len(unique_mimic_cxr_notes)"
   ]
  },
  {
   "cell_type": "code",
   "execution_count": 9,
   "id": "303fe811-3241-48cc-a7a9-3901318d62f9",
   "metadata": {},
   "outputs": [
    {
     "name": "stdout",
     "output_type": "stream",
     "text": [
      "14591045\n",
      "EXAMINATIONChestradiographINDICATIONyearoldmanwithlowgradetempsandcoughhypoxiaalsometastaticcancerunknownprimarywlungnodulesevalforpneumoniaTECHNIQUEChestPAandlateralCOMPARISONRadiographFINDINGSAcardiacconductiondeviceiscontiguouswithleadswhichappeartoterminateinrightventricleandbilateralatriaMediansternotomywiresappearintactSurgicalappearunchangedInnumerableroundedpulmonarynodulesareunchangedandconsistentwithmetastaticdiseaseAssessmentforaconsolidationislimitedbynumerousmetastaseshoweverthereappearstobealossofthecardiacsilhouetteandincreasedopacityatthecardiacapexconcerningforpneumoniaVertebralbodyheightsarepreservedIMPRESSIONAssessmentforpneumoniaissomewhatlimitedgiventhepatient'swidespreadmetastaticdiseasehoweverincreasedconsolidationatthecardiacapexandlossofcardiacsilhouetteisconcerningforpneumonia\n",
      "                                 FINAL REPORT\n",
      " EXAMINATION:  Chest radiograph\n",
      " \n",
      " INDICATION:  ___ year old man with low grade temps and cough/hypoxia, also\n",
      " metastatic cancer unknown primary w/ lung nodules  // eval for pneumonia\n",
      " \n",
      " TECHNIQUE:  Chest PA and lateral\n",
      " \n",
      " COMPARISON:  Radiograph ___\n",
      " \n",
      " FINDINGS: \n",
      " \n",
      " A cardiac conduction device is contiguous with leads which appear to terminate\n",
      " in right ventricle and bilateral atria.  Median sternotomy wires appear\n",
      " intact.  Surgical ___ appear unchanged.  Innumerable rounded pulmonary\n",
      " nodules are unchanged and consistent with metastatic disease.  Assessment for\n",
      " a consolidation is limited by numerous metastases, however there appears to be\n",
      " a loss of the cardiac silhouette and increased opacity at the cardiac apex,\n",
      " concerning for pneumonia.    Vertebral body heights are preserved.\n",
      " \n",
      " IMPRESSION: \n",
      " \n",
      " Assessment for pneumonia is somewhat limited given the patient's widespread\n",
      " metastatic disease, however increased consolidation at the cardiac apex and\n",
      " loss of cardiac silhouette is concerning for pneumonia.\n",
      "\n"
     ]
    }
   ],
   "source": [
    "num = 0\n",
    "print(unique_mimic_cxr_notes.iloc[num].subject_id)\n",
    "print(unique_mimic_cxr_notes.iloc[num].new_text)\n",
    "print(unique_mimic_cxr_notes.iloc[num].cxr_report_text)"
   ]
  },
  {
   "cell_type": "code",
   "execution_count": 23,
   "id": "5265d246-c096-4999-a8f8-8409abecad6a",
   "metadata": {},
   "outputs": [
    {
     "name": "stdout",
     "output_type": "stream",
     "text": [
      "EXAMINATIONChestradiographINDICATIONyearoldmanwithlowgradetempsandcoughhypoxiaalsometastaticcancerunknownprimarywlungnodulesevalforpneumoniaTECHNIQUEChestPAandlateralCOMPARISONRadiographFINDINGSAcardiacconductiondeviceiscontiguouswithleadswhichappeartoterminateinrightventricleandbilateralatriaMediansternotomywiresappearintactSurgicalstaplesappearunchangedInnumerableroundedpulmonarynodulesareunchangedandconsistentwithmetastaticdiseaseAssessmentforaconsolidationislimitedbynumerousmetastaseshoweverthereappearstobealossofthecardiacsilhouetteandincreasedopacityatthecardiacapexconcerningforpneumoniaVertebralbodyheightsarepreservedIMPRESSIONAssessmentforpneumoniaissomewhatlimitedgiventhepatient'swidespreadmetastaticdiseasehoweverincreasedconsolidationatthecardiacapexandlossofcardiacsilhouetteisconcerningforpneumonia\n"
     ]
    }
   ],
   "source": [
    "print(unique_mimic_notes[unique_mimic_notes[\"subject_id\"] == 14591045 ].new_mimic_text.iloc[12])"
   ]
  },
  {
   "cell_type": "code",
   "execution_count": 13,
   "id": "88496dba-0e7b-4d21-b866-26490ed128bf",
   "metadata": {
    "scrolled": true
   },
   "outputs": [
    {
     "name": "stdout",
     "output_type": "stream",
     "text": [
      "EXAMINATIONChestradiographINDICATIONyearoldmanwithlowgradetempsandcoughhypoxiaalsometastaticcancerunknownprimarywlungnodulesevalforpneumoniaTECHNIQUEChestPAandlateralCOMPARISONRadiographFINDINGSAcardiacconductiondeviceiscontiguouswithleadswhichappeartoterminateinrightventricleandbilateralatriaMediansternotomywiresappearintactSurgicalstaplesappearunchangedInnumerableroundedpulmonarynodulesareunchangedandconsistentwithmetastaticdiseaseAssessmentforaconsolidationislimitedbynumerousmetastaseshoweverthereappearstobealossofthecardiacsilhouetteandincreasedopacityatthecardiacapexconcerningforpneumoniaVertebralbodyheightsarepreservedIMPRESSIONAssessmentforpneumoniaissomewhatlimitedgiventhepatient'swidespreadmetastaticdiseasehoweverincreasedconsolidationatthecardiacapexandlossofcardiacsilhouetteisconcerningforpneumonia \n",
      " EXAMINATIONChestradiographINDICATIONyearoldmanwithlowgradetempsandcoughhypoxiaalsometastaticcancerunknownprimarywlungnodulesevalforpneumoniaTECHNIQUEChestPAandlateralCOMPARISONRadiographFINDINGSAcardiacconductiondeviceiscontiguouswithleadswhichappeartoterminateinrightventricleandbilateralatriaMediansternotomywiresappearintactSurgicalappearunchangedInnumerableroundedpulmonarynodulesareunchangedandconsistentwithmetastaticdiseaseAssessmentforaconsolidationislimitedbynumerousmetastaseshoweverthereappearstobealossofthecardiacsilhouetteandincreasedopacityatthecardiacapexconcerningforpneumoniaVertebralbodyheightsarepreservedIMPRESSIONAssessmentforpneumoniaissomewhatlimitedgiventhepatient'swidespreadmetastaticdiseasehoweverincreasedconsolidationatthecardiacapexandlossofcardiacsilhouetteisconcerningforpneumonia\n",
      "Differing indices: [335, 336, 337, 338, 339, 340, 341, 342, 343, 344, 345, 346, 347, 348, 349, 350, 351, 352, 353, 354, 356, 357, 358, 359, 360, 361, 362, 363, 364, 365, 366, 367, 368, 369, 370, 371, 372, 373, 374, 375, 376, 377, 378, 379, 380, 381, 382, 383, 384, 385, 386, 388, 389, 390, 392, 393, 394, 395, 396, 397, 398, 399, 400, 401, 402, 403, 404, 405, 406, 407, 408, 409, 411, 412, 413, 414, 416, 417, 419, 420, 421, 422, 423, 424, 425, 426, 427, 428, 429, 430, 431, 434, 436, 437, 438, 439, 440, 441, 442, 443, 444, 445, 446, 447, 449, 450, 451, 452, 453, 454, 456, 458, 459, 460, 461, 462, 463, 464, 465, 466, 467, 468, 469, 470, 472, 473, 474, 475, 476, 477, 478, 479, 480, 481, 482, 483, 485, 486, 487, 488, 489, 490, 492, 493, 494, 495, 496, 497, 498, 499, 500, 501, 502, 504, 505, 506, 507, 510, 511, 512, 513, 514, 515, 516, 517, 518, 519, 520, 521, 522, 523, 524, 525, 526, 527, 528, 529, 530, 531, 532, 533, 534, 535, 536, 537, 538, 539, 540, 541, 542, 543, 544, 545, 546, 547, 548, 549, 550, 551, 552, 553, 554, 555, 556, 557, 558, 559, 560, 561, 562, 563, 564, 565, 566, 567, 568, 569, 570, 571, 572, 573, 574, 575, 576, 577, 578, 579, 580, 581, 582, 584, 585, 586, 587, 588, 590, 591, 592, 593, 594, 595, 596, 597, 598, 599, 600, 601, 602, 603, 604, 605, 606, 607, 608, 609, 610, 611, 612, 613, 614, 615, 616, 617, 618, 620, 622, 623, 624, 625, 626, 627, 628, 629, 630, 631, 633, 634, 635, 636, 637, 638, 639, 640, 641, 642, 643, 644, 645, 646, 647, 648, 649, 650, 651, 652, 654, 655, 656, 657, 658, 659, 661, 662, 663, 664, 665, 666, 667, 668, 669, 670, 671, 672, 673, 674, 676, 677, 678, 679, 680, 681, 682, 683, 684, 685, 686, 687, 688, 689, 690, 691, 693, 694, 695, 696, 697, 698, 699, 701, 702, 703, 704, 705, 706, 707, 708, 709, 710, 711, 712, 713, 714, 715, 716, 717, 718, 719, 720, 722, 723, 724, 725, 726, 727, 728, 729, 730, 731, 732, 733, 735, 736, 737, 738, 739, 740, 741, 742, 743, 744, 746, 747, 748, 749, 750, 751, 752, 753, 754, 755, 756, 757, 758, 759, 760, 761, 762, 763, 764, 765, 766, 767, 768, 769, 770, 771, 772, 773, 774, 775, 776, 777, 778, 779, 780, 781, 782, 783, 784, 785, 786, 787, 788, 789, 790, 791, 792, 793, 794, 796, 797, 798, 799, 800, 801, 802, 804, 805, 806, 807, 808, 810, 811, 812, 813, 814, 815, 816, 817, 818, 819]\n"
     ]
    }
   ],
   "source": [
    "def find_differences(string1, string2):\n",
    "    # Find the minimum length to avoid index errors\n",
    "    min_length = min(len(string1), len(string2))\n",
    "    \n",
    "    # List to store indices where characters differ\n",
    "    differing_indices = []\n",
    "    \n",
    "    # Compare characters up to the length of the shorter string\n",
    "    for i in range(min_length):\n",
    "        if string1[i] != string2[i]:\n",
    "            differing_indices.append(i)\n",
    "    \n",
    "    # If one string is longer, record the remaining indices as differing\n",
    "    if len(string1) != len(string2):\n",
    "        differing_indices.extend(range(min_length, max(len(string1), len(string2))))\n",
    "    \n",
    "    return differing_indices\n",
    "\n",
    "# Example usage\n",
    "string1 = unique_mimic_notes[unique_mimic_notes[\"subject_id\"] == 14591045 ].new_mimic_text.iloc[12]\n",
    "string2 = unique_mimic_cxr_notes.iloc[0].new_text\n",
    "differences = find_differences(string1, string2)\n",
    "print(string1, '\\n', string2)\n",
    "print(\"Differing indices:\", differences)\n"
   ]
  },
  {
   "cell_type": "code",
   "execution_count": 28,
   "id": "d67fd0fa-5729-470e-8801-d6f8a34737df",
   "metadata": {},
   "outputs": [
    {
     "name": "stdout",
     "output_type": "stream",
     "text": [
      "EXAMINATIONChestradiographINDICATIONyearoldmanwithlowgradetempsandcoughhypoxiaalsometastaticcancerunknownprimarywlungnodulesevalforpneumoniaTECHNIQUEChestPAandlateralCOMPARISONRadiographFINDINGSAcardiacconductiondeviceiscontiguouswithleadswhichappeartoterminateinrightventricleandbilateralatriaMediansternotomywiresappearintactSurgical\n"
     ]
    }
   ],
   "source": [
    "print(string1[0:335])"
   ]
  },
  {
   "cell_type": "code",
   "execution_count": 29,
   "id": "37bd4575-0c23-4a42-a47e-9598b7e4e047",
   "metadata": {},
   "outputs": [
    {
     "name": "stdout",
     "output_type": "stream",
     "text": [
      "EXAMINATIONChestradiographINDICATIONyearoldmanwithlowgradetempsandcoughhypoxiaalsometastaticcancerunknownprimarywlungnodulesevalforpneumoniaTECHNIQUEChestPAandlateralCOMPARISONRadiographFINDINGSAcardiacconductiondeviceiscontiguouswithleadswhichappeartoterminateinrightventricleandbilateralatriaMediansternotomywiresappearintactSurgical\n"
     ]
    }
   ],
   "source": [
    "print(string2[0:335])"
   ]
  },
  {
   "cell_type": "code",
   "execution_count": 35,
   "id": "c4e86840-7430-4c2f-88de-db6853692c3b",
   "metadata": {},
   "outputs": [
    {
     "name": "stdout",
     "output_type": "stream",
     "text": [
      "taplesappearunchangedInnumerableroundedpulmonarynodulesareunchangedandconsistentwithmetastaticdiseaseAssessmentforaconsolidationislimitedbynumerousmetastaseshoweverthereappearstobealossofthecardiacsilhouetteandincreasedopacityatthecardiacapexconcerningforpneumoniaVertebralbodyheightsarepreservedIMPRESSIONAssessmentforpneumoniaissomewhatlimitedgiventhepatient'swidespreadmetastaticdiseasehoweverincreasedconsolidationatthecardiacapexandlossofcardiacsilhouetteisconcerningforpneumonia\n"
     ]
    }
   ],
   "source": [
    "print(string1[336:])"
   ]
  },
  {
   "cell_type": "code",
   "execution_count": 34,
   "id": "cfe0aeca-8937-4480-9971-582b4f0e625f",
   "metadata": {},
   "outputs": [
    {
     "name": "stdout",
     "output_type": "stream",
     "text": [
      "ppearunchangedInnumerableroundedpulmonarynodulesareunchangedandconsistentwithmetastaticdiseaseAssessmentforaconsolidationislimitedbynumerousmetastaseshoweverthereappearstobealossofthecardiacsilhouetteandincreasedopacityatthecardiacapexconcerningforpneumoniaVertebralbodyheightsarepreservedIMPRESSIONAssessmentforpneumoniaissomewhatlimitedgiventhepatient'swidespreadmetastaticdiseasehoweverincreasedconsolidationatthecardiacapexandlossofcardiacsilhouetteisconcerningforpneumonia\n"
     ]
    }
   ],
   "source": [
    "print(string2[336:])"
   ]
  },
  {
   "cell_type": "code",
   "execution_count": 36,
   "id": "daa3746b-bbd3-4a78-8657-3ca72d0f554f",
   "metadata": {},
   "outputs": [
    {
     "data": {
      "text/plain": [
       "\"EXAMINATION:  Chest radiograph\\n\\nINDICATION:  ___ year old man with low grade temps and cough/hypoxia, also\\nmetastatic cancer unknown primary w/ lung nodules  // eval for pneumonia\\n\\nTECHNIQUE:  Chest PA and lateral\\n\\nCOMPARISON:  Radiograph ___\\n\\nFINDINGS: \\n\\nA cardiac conduction device is contiguous with leads which appear to terminate\\nin right ventricle and bilateral atria.  Median sternotomy wires appear\\nintact.  Surgical staples appear unchanged.  Innumerable rounded pulmonary\\nnodules are unchanged and consistent with metastatic disease.  Assessment for\\na consolidation is limited by numerous metastases, however there appears to be\\na loss of the cardiac silhouette and increased opacity at the cardiac apex,\\nconcerning for pneumonia.    Vertebral body heights are preserved.\\n\\nIMPRESSION: \\n\\nAssessment for pneumonia is somewhat limited given the patient's widespread\\nmetastatic disease, however increased consolidation at the cardiac apex and\\nloss of cardiac silhouette is concerning for pneumonia.\\n\""
      ]
     },
     "execution_count": 36,
     "metadata": {},
     "output_type": "execute_result"
    }
   ],
   "source": [
    "unique_mimic_notes[unique_mimic_notes[\"subject_id\"] == 14591045 ].text.iloc[12]"
   ]
  },
  {
   "cell_type": "code",
   "execution_count": 37,
   "id": "ced20f05-38c3-4691-99a4-5726b1ac6cb5",
   "metadata": {},
   "outputs": [
    {
     "data": {
      "text/plain": [
       "\"                                 FINAL REPORT\\n EXAMINATION:  Chest radiograph\\n \\n INDICATION:  ___ year old man with low grade temps and cough/hypoxia, also\\n metastatic cancer unknown primary w/ lung nodules  // eval for pneumonia\\n \\n TECHNIQUE:  Chest PA and lateral\\n \\n COMPARISON:  Radiograph ___\\n \\n FINDINGS: \\n \\n A cardiac conduction device is contiguous with leads which appear to terminate\\n in right ventricle and bilateral atria.  Median sternotomy wires appear\\n intact.  Surgical ___ appear unchanged.  Innumerable rounded pulmonary\\n nodules are unchanged and consistent with metastatic disease.  Assessment for\\n a consolidation is limited by numerous metastases, however there appears to be\\n a loss of the cardiac silhouette and increased opacity at the cardiac apex,\\n concerning for pneumonia.    Vertebral body heights are preserved.\\n \\n IMPRESSION: \\n \\n Assessment for pneumonia is somewhat limited given the patient's widespread\\n metastatic disease, however increased consolidation at the cardiac apex and\\n loss of cardiac silhouette is concerning for pneumonia.\\n\""
      ]
     },
     "execution_count": 37,
     "metadata": {},
     "output_type": "execute_result"
    }
   ],
   "source": [
    "unique_mimic_cxr_notes.iloc[0].cxr_report_text"
   ]
  },
  {
   "cell_type": "code",
   "execution_count": 10,
   "id": "b7548582-9bf3-4465-a0a8-38632bb36545",
   "metadata": {},
   "outputs": [
    {
     "data": {
      "text/plain": [
       "64266"
      ]
     },
     "execution_count": 10,
     "metadata": {},
     "output_type": "execute_result"
    }
   ],
   "source": [
    "len(unique_cxr_mimic_notes_filtered)"
   ]
  },
  {
   "cell_type": "code",
   "execution_count": 7,
   "id": "ac8c5a58-1d77-4185-ab5a-ba0c1add1d69",
   "metadata": {},
   "outputs": [],
   "source": [
    "from datasketch import MinHash, MinHashLSH\n",
    "from tqdm import tqdm\n",
    "from concurrent.futures import ProcessPoolExecutor, as_completed\n",
    "import pandas as pd\n",
    "\n",
    "# Parameters\n",
    "similarity_threshold = 0.9  # 90% similarity threshold for MinHashing\n",
    "num_perm = 128  # Number of permutations for MinHashing\n",
    "\n",
    "# Function to generate MinHash for a given string\n",
    "def get_minhash(text, num_perm=num_perm):\n",
    "    m = MinHash(num_perm=num_perm)\n",
    "    for i in range(len(text) - 2):  # Using 3-character shingles\n",
    "        shingle = text[i:i + 3]\n",
    "        m.update(shingle.encode('utf8'))\n",
    "    return m\n",
    "\n",
    "# Initialize LSH for efficient similarity search\n",
    "lsh = MinHashLSH(threshold=similarity_threshold, num_perm=num_perm)"
   ]
  },
  {
   "cell_type": "code",
   "execution_count": 11,
   "id": "057acee9-db57-4f6f-b95a-53d973b10b50",
   "metadata": {},
   "outputs": [
    {
     "name": "stderr",
     "output_type": "stream",
     "text": [
      "Inserting into LSH: 100%|██████████| 64266/64266 [00:25<00:00, 2555.78it/s]\n"
     ]
    },
    {
     "name": "stdout",
     "output_type": "stream",
     "text": [
      "Keys in LSH: []\n"
     ]
    }
   ],
   "source": [
    "# Parallel function to insert MinHash into LSH\n",
    "def insert_to_lsh(i, cxr_text):\n",
    "    minhash = get_minhash(cxr_text)\n",
    "    lsh.insert(f\"cxr_{i}\", minhash)\n",
    "\n",
    "# Add entries from unique_cxr_mimic_notes to LSH with MinHash signatures in parallel\n",
    "with ProcessPoolExecutor() as executor:\n",
    "    futures = [executor.submit(insert_to_lsh, i, cxr_text) \n",
    "               for i, cxr_text in unique_mimic_cxr_notes['new_text'].iteritems()]\n",
    "    for future in tqdm(as_completed(futures), total=len(futures), desc=\"Inserting into LSH\"):\n",
    "        pass  # Wait for all tasks to complete\n",
    "print(\"Keys in LSH:\", list(lsh.keys))"
   ]
  },
  {
   "cell_type": "code",
   "execution_count": null,
   "id": "14eec9d6-2556-49cf-a8e6-d95e2ea7d487",
   "metadata": {},
   "outputs": [],
   "source": [
    "from concurrent.futures import ThreadPoolExecutor\n",
    "\n",
    "with ThreadPoolExecutor() as executor:\n",
    "    futures = [executor.submit(insert_to_lsh, i, cxr_text) \n",
    "               for i, cxr_text in unique_mimic_cxr_notes['new_text'].iteritems()]\n",
    "    for future in tqdm(as_completed(futures), total=len(futures), desc=\"Inserting into LSH\"):\n",
    "        pass\n",
    "\n",
    "print(\"Keys in LSH:\", len(list(lsh.keys)))\n"
   ]
  },
  {
   "cell_type": "code",
   "execution_count": 13,
   "id": "92bba289-26ea-4855-8705-f719c7f3b5be",
   "metadata": {},
   "outputs": [
    {
     "name": "stdout",
     "output_type": "stream",
     "text": [
      "Original DataFrame length: 64266\n",
      "Keys in LSH: 64266\n"
     ]
    }
   ],
   "source": [
    "print(\"Original DataFrame length:\", len(unique_mimic_cxr_notes))\n",
    "print(\"Keys in LSH:\", len(list(lsh.keys)))"
   ]
  },
  {
   "cell_type": "code",
   "execution_count": 14,
   "id": "edf53663-4afe-471e-a7b1-3a07f8e414f8",
   "metadata": {},
   "outputs": [
    {
     "name": "stderr",
     "output_type": "stream",
     "text": [
      "Finding similar entries: 100%|██████████| 2157600/2157600 [24:57<00:00, 1440.74it/s]\n"
     ]
    }
   ],
   "source": [
    "# Lists to store indices to remove\n",
    "remove_indices_mimic_notes = []\n",
    "remove_indices_cxr_mimic_notes = set()\n",
    "\n",
    "# Parallel function to find similar entries\n",
    "def find_similar_entries(i, mimic_text):\n",
    "    minhash = get_minhash(mimic_text)\n",
    "    similar_cxr_ids = lsh.query(minhash)\n",
    "    return i, similar_cxr_ids\n",
    "\n",
    "# Use parallel processing to find similar entries and track indices to remove\n",
    "with ProcessPoolExecutor() as executor:\n",
    "    futures = [executor.submit(find_similar_entries, i, mimic_text) \n",
    "               for i, mimic_text in enumerate(unique_mimic_notes['new_mimic_text'])]\n",
    "    for future in tqdm(as_completed(futures), total=len(futures), desc=\"Finding similar entries\"):\n",
    "        i, similar_cxr_ids = future.result()\n",
    "        if similar_cxr_ids:\n",
    "            remove_indices_mimic_notes.append(i)\n",
    "            for cxr_id in similar_cxr_ids:\n",
    "                remove_indices_cxr_mimic_notes.add(int(cxr_id.split('_')[1]))"
   ]
  },
  {
   "cell_type": "code",
   "execution_count": 26,
   "id": "b8d66868-a75c-4863-8698-30cf85cabe1d",
   "metadata": {},
   "outputs": [
    {
     "name": "stdout",
     "output_type": "stream",
     "text": [
      "2157600\n"
     ]
    }
   ],
   "source": [
    "# Drop the marked rows from each DataFrame\n",
    "print(len(unique_mimic_notes))\n",
    "unique_mimic_notes = unique_mimic_notes.reset_index(drop=True)\n",
    "unique_mimic_notes_filtered = unique_mimic_notes.drop(index=remove_indices_mimic_notes).reset_index(drop=True)\n",
    "unique_cxr_mimic_notes_filtered = unique_mimic_cxr_notes.drop(index=remove_indices_cxr_mimic_notes).reset_index(drop=True)\n",
    "\n",
    "# Display the filtered DataFrames\n",
    "unique_mimic_notes_filtered.reset_index(drop=True, inplace=True)\n",
    "unique_cxr_mimic_notes_filtered.reset_index(drop=True, inplace=True)"
   ]
  },
  {
   "cell_type": "code",
   "execution_count": 27,
   "id": "3aff2cd6-8fe2-4c06-baeb-d9fa803541a4",
   "metadata": {},
   "outputs": [
    {
     "data": {
      "text/plain": [
       "19394"
      ]
     },
     "execution_count": 27,
     "metadata": {},
     "output_type": "execute_result"
    }
   ],
   "source": [
    "len(unique_cxr_mimic_notes_filtered)"
   ]
  },
  {
   "cell_type": "code",
   "execution_count": 62,
   "id": "1c58c42a-0919-4f17-9170-4585d4f4d06f",
   "metadata": {},
   "outputs": [
    {
     "name": "stdout",
     "output_type": "stream",
     "text": [
      "14797982\n",
      "HISTORY-year-oldfemalewithcoughandwheezingEvaluateforpneumoniaCOMPARISONRadiographsofthechestdatedonandFINDINGSFrontalandlateralradiographsofthechestdemonstratewellexpandedclearlungsThecardiomediastinalandhilarcontoursareunremarkableThereisnopleuraleffusionorpneumothoraxIMPRESSIONNoevidenceofpneumonia\n",
      "                                 FINAL REPORT\n",
      " HISTORY:  ___-year-old female with cough and wheezing.  Evaluate for pneumonia.\n",
      " \n",
      " COMPARISON:  Radiographs of the chest dated on ___, ___,\n",
      " and ___.\n",
      " \n",
      " FINDINGS:\n",
      " \n",
      " Frontal and lateral radiographs of the chest demonstrate well expanded, clear\n",
      " lungs.  The cardiomediastinal and hilar contours are unremarkable.  There is\n",
      " no pleural effusion or pneumothorax.\n",
      " \n",
      " IMPRESSION:\n",
      " \n",
      " No evidence of pneumonia.\n",
      "\n"
     ]
    }
   ],
   "source": [
    "num = 9\n",
    "print(unique_cxr_mimic_notes_filtered.iloc[num].subject_id)\n",
    "print(unique_cxr_mimic_notes_filtered.iloc[num].new_text)\n",
    "print(unique_cxr_mimic_notes_filtered.iloc[num].cxr_report_text)"
   ]
  },
  {
   "cell_type": "code",
   "execution_count": 110,
   "id": "4c5ce5d0-eb9d-42f3-b0b9-67b15289724a",
   "metadata": {},
   "outputs": [
    {
     "ename": "IndexError",
     "evalue": "single positional indexer is out-of-bounds",
     "output_type": "error",
     "traceback": [
      "\u001b[0;31m---------------------------------------------------------------------------\u001b[0m",
      "\u001b[0;31mIndexError\u001b[0m                                Traceback (most recent call last)",
      "\u001b[0;32m/tmpdata/ipykernel_2249667/2086186987.py\u001b[0m in \u001b[0;36m<module>\u001b[0;34m\u001b[0m\n\u001b[0;32m----> 1\u001b[0;31m \u001b[0mprint\u001b[0m\u001b[0;34m(\u001b[0m\u001b[0munique_mimic_notes_filtered\u001b[0m\u001b[0;34m[\u001b[0m\u001b[0munique_mimic_notes_filtered\u001b[0m\u001b[0;34m[\u001b[0m\u001b[0;34m\"subject_id\"\u001b[0m\u001b[0;34m]\u001b[0m \u001b[0;34m==\u001b[0m \u001b[0;36m14797982\u001b[0m \u001b[0;34m]\u001b[0m\u001b[0;34m.\u001b[0m\u001b[0mnew_mimic_text\u001b[0m\u001b[0;34m.\u001b[0m\u001b[0miloc\u001b[0m\u001b[0;34m[\u001b[0m\u001b[0;36m39\u001b[0m\u001b[0;34m]\u001b[0m\u001b[0;34m)\u001b[0m\u001b[0;34m\u001b[0m\u001b[0;34m\u001b[0m\u001b[0m\n\u001b[0m",
      "\u001b[0;32m/scratch/baj321/conda-envs/medfuse_py37/lib/python3.7/site-packages/pandas/core/indexing.py\u001b[0m in \u001b[0;36m__getitem__\u001b[0;34m(self, key)\u001b[0m\n\u001b[1;32m    929\u001b[0m \u001b[0;34m\u001b[0m\u001b[0m\n\u001b[1;32m    930\u001b[0m             \u001b[0mmaybe_callable\u001b[0m \u001b[0;34m=\u001b[0m \u001b[0mcom\u001b[0m\u001b[0;34m.\u001b[0m\u001b[0mapply_if_callable\u001b[0m\u001b[0;34m(\u001b[0m\u001b[0mkey\u001b[0m\u001b[0;34m,\u001b[0m \u001b[0mself\u001b[0m\u001b[0;34m.\u001b[0m\u001b[0mobj\u001b[0m\u001b[0;34m)\u001b[0m\u001b[0;34m\u001b[0m\u001b[0;34m\u001b[0m\u001b[0m\n\u001b[0;32m--> 931\u001b[0;31m             \u001b[0;32mreturn\u001b[0m \u001b[0mself\u001b[0m\u001b[0;34m.\u001b[0m\u001b[0m_getitem_axis\u001b[0m\u001b[0;34m(\u001b[0m\u001b[0mmaybe_callable\u001b[0m\u001b[0;34m,\u001b[0m \u001b[0maxis\u001b[0m\u001b[0;34m=\u001b[0m\u001b[0maxis\u001b[0m\u001b[0;34m)\u001b[0m\u001b[0;34m\u001b[0m\u001b[0;34m\u001b[0m\u001b[0m\n\u001b[0m\u001b[1;32m    932\u001b[0m \u001b[0;34m\u001b[0m\u001b[0m\n\u001b[1;32m    933\u001b[0m     \u001b[0;32mdef\u001b[0m \u001b[0m_is_scalar_access\u001b[0m\u001b[0;34m(\u001b[0m\u001b[0mself\u001b[0m\u001b[0;34m,\u001b[0m \u001b[0mkey\u001b[0m\u001b[0;34m:\u001b[0m \u001b[0mtuple\u001b[0m\u001b[0;34m)\u001b[0m\u001b[0;34m:\u001b[0m\u001b[0;34m\u001b[0m\u001b[0;34m\u001b[0m\u001b[0m\n",
      "\u001b[0;32m/scratch/baj321/conda-envs/medfuse_py37/lib/python3.7/site-packages/pandas/core/indexing.py\u001b[0m in \u001b[0;36m_getitem_axis\u001b[0;34m(self, key, axis)\u001b[0m\n\u001b[1;32m   1564\u001b[0m \u001b[0;34m\u001b[0m\u001b[0m\n\u001b[1;32m   1565\u001b[0m             \u001b[0;31m# validate the location\u001b[0m\u001b[0;34m\u001b[0m\u001b[0;34m\u001b[0m\u001b[0;34m\u001b[0m\u001b[0m\n\u001b[0;32m-> 1566\u001b[0;31m             \u001b[0mself\u001b[0m\u001b[0;34m.\u001b[0m\u001b[0m_validate_integer\u001b[0m\u001b[0;34m(\u001b[0m\u001b[0mkey\u001b[0m\u001b[0;34m,\u001b[0m \u001b[0maxis\u001b[0m\u001b[0;34m)\u001b[0m\u001b[0;34m\u001b[0m\u001b[0;34m\u001b[0m\u001b[0m\n\u001b[0m\u001b[1;32m   1567\u001b[0m \u001b[0;34m\u001b[0m\u001b[0m\n\u001b[1;32m   1568\u001b[0m             \u001b[0;32mreturn\u001b[0m \u001b[0mself\u001b[0m\u001b[0;34m.\u001b[0m\u001b[0mobj\u001b[0m\u001b[0;34m.\u001b[0m\u001b[0m_ixs\u001b[0m\u001b[0;34m(\u001b[0m\u001b[0mkey\u001b[0m\u001b[0;34m,\u001b[0m \u001b[0maxis\u001b[0m\u001b[0;34m=\u001b[0m\u001b[0maxis\u001b[0m\u001b[0;34m)\u001b[0m\u001b[0;34m\u001b[0m\u001b[0;34m\u001b[0m\u001b[0m\n",
      "\u001b[0;32m/scratch/baj321/conda-envs/medfuse_py37/lib/python3.7/site-packages/pandas/core/indexing.py\u001b[0m in \u001b[0;36m_validate_integer\u001b[0;34m(self, key, axis)\u001b[0m\n\u001b[1;32m   1498\u001b[0m         \u001b[0mlen_axis\u001b[0m \u001b[0;34m=\u001b[0m \u001b[0mlen\u001b[0m\u001b[0;34m(\u001b[0m\u001b[0mself\u001b[0m\u001b[0;34m.\u001b[0m\u001b[0mobj\u001b[0m\u001b[0;34m.\u001b[0m\u001b[0m_get_axis\u001b[0m\u001b[0;34m(\u001b[0m\u001b[0maxis\u001b[0m\u001b[0;34m)\u001b[0m\u001b[0;34m)\u001b[0m\u001b[0;34m\u001b[0m\u001b[0;34m\u001b[0m\u001b[0m\n\u001b[1;32m   1499\u001b[0m         \u001b[0;32mif\u001b[0m \u001b[0mkey\u001b[0m \u001b[0;34m>=\u001b[0m \u001b[0mlen_axis\u001b[0m \u001b[0;32mor\u001b[0m \u001b[0mkey\u001b[0m \u001b[0;34m<\u001b[0m \u001b[0;34m-\u001b[0m\u001b[0mlen_axis\u001b[0m\u001b[0;34m:\u001b[0m\u001b[0;34m\u001b[0m\u001b[0;34m\u001b[0m\u001b[0m\n\u001b[0;32m-> 1500\u001b[0;31m             \u001b[0;32mraise\u001b[0m \u001b[0mIndexError\u001b[0m\u001b[0;34m(\u001b[0m\u001b[0;34m\"single positional indexer is out-of-bounds\"\u001b[0m\u001b[0;34m)\u001b[0m\u001b[0;34m\u001b[0m\u001b[0;34m\u001b[0m\u001b[0m\n\u001b[0m\u001b[1;32m   1501\u001b[0m \u001b[0;34m\u001b[0m\u001b[0m\n\u001b[1;32m   1502\u001b[0m     \u001b[0;31m# -------------------------------------------------------------------\u001b[0m\u001b[0;34m\u001b[0m\u001b[0;34m\u001b[0m\u001b[0;34m\u001b[0m\u001b[0m\n",
      "\u001b[0;31mIndexError\u001b[0m: single positional indexer is out-of-bounds"
     ]
    }
   ],
   "source": [
    "print(unique_mimic_notes_filtered[unique_mimic_notes_filtered[\"subject_id\"] == 14797982 ].new_mimic_text.iloc[39])"
   ]
  },
  {
   "cell_type": "code",
   "execution_count": 25,
   "id": "ea384f47-5ba5-415f-b767-81cfa830c327",
   "metadata": {},
   "outputs": [
    {
     "name": "stdout",
     "output_type": "stream",
     "text": [
      "Index type: int64\n",
      "First 10 index values: Int64Index([1, 2, 3, 4, 5, 6, 8, 9, 10, 11], dtype='int64')\n",
      "Last 10 index values: Int64Index([2321343, 2321344, 2321345, 2321346, 2321347, 2321348, 2321350,\n",
      "            2321351, 2321352, 2321354],\n",
      "           dtype='int64')\n",
      "Is index monotonically increasing? True\n",
      "Missing indices (if any): 3308\n"
     ]
    }
   ],
   "source": [
    "# Check the type and range of the index in unique_mimic_notes\n",
    "print(\"Index type:\", unique_mimic_notes.index.dtype)\n",
    "print(\"First 10 index values:\", unique_mimic_notes.index[:10])\n",
    "print(\"Last 10 index values:\", unique_mimic_notes.index[-10:])\n",
    "print(\"Is index monotonically increasing?\", unique_mimic_notes.index.is_monotonic_increasing)\n",
    "\n",
    "# Convert remove_indices_mimic_notes to a set for faster comparison\n",
    "remove_indices_set = set(remove_indices_mimic_notes)\n",
    "# Find any indices in remove_indices_mimic_notes that are missing in unique_mimic_notes.index\n",
    "missing_indices = [idx for idx in remove_indices_set if idx not in unique_mimic_notes.index]\n",
    "print(\"Missing indices (if any):\", len(missing_indices))\n"
   ]
  },
  {
   "cell_type": "code",
   "execution_count": 14,
   "id": "0782d5d0-5099-40d3-8824-200780002dc1",
   "metadata": {},
   "outputs": [
    {
     "data": {
      "text/plain": [
       "1.0"
      ]
     },
     "execution_count": 14,
     "metadata": {},
     "output_type": "execute_result"
    }
   ],
   "source": [
    "# Calculate Jaccard similarity for the provided strings using 3-character shingles\n",
    "from datasketch import MinHash\n",
    "from sklearn.metrics import jaccard_score\n",
    "import numpy as np\n",
    "\n",
    "# Provided strings\n",
    "text1 = (\"EXAMINATIONChestradiographINDICATIONyearoldmanwithlowgradetempsandcoughhypoxiaalsometastaticcancer\"\n",
    "         \"unknownprimarywlungnodulesevalforpneumoniaTECHNIQUEChestPAandlateralCOMPARISONRadiographFINDINGS\"\n",
    "         \"Acardiacconductiondeviceiscontiguouswithleadswhichappeartoterminateinrightventricleandbilateralatria\"\n",
    "         \"MediansternotomywiresappearintactSurgicalstaplesappearunchangedInnumerableroundedpulmonarynodules\"\n",
    "         \"areunchangedandconsistentwithmetastaticdiseaseAssessmentforaconsolidationislimitedbynumerous\"\n",
    "         \"metastaseshoweverthereappearstobealossofthecardiacsilhouetteandincreasedopacityatthecardiacapex\"\n",
    "         \"concerningforpneumoniaVertebralbodyheightsarepreservedIMPRESSIONAssessmentforpneumoniaissomewhat\"\n",
    "         \"limitedgiventhepatient'swidespreadmetastaticdiseasehoweverincreasedconsolidationatthecardiacapex\"\n",
    "         \"andlossofcardiacsilhouetteisconcerningforpneumonia\")\n",
    "\n",
    "text2 = (\"EXAMINATIONChestradiographINDICATIONyearoldmanwithlowgradetempsandcoughhypoxiaalsometastaticcancer\"\n",
    "         \"unknownprimarywlungnodulesevalforpneumoniaTECHNIQUEChestPAandlateralCOMPARISONRadiographFINDINGS\"\n",
    "         \"Acardiacconductiondeviceiscontiguouswithleadswhichappeartoterminateinrightventricleandbilateralatria\"\n",
    "         \"MediansternotomywiresappearintactSurgicalappearunchangedInnumerableroundedpulmonarynodulesareunchanged\"\n",
    "         \"andconsistentwithmetastaticdiseaseAssessmentforaconsolidationislimitedbynumerousmetastaseshowever\"\n",
    "         \"thereappearstobealossofthecardiacsilhouetteandincreasedopacityatthecardiacapexconcerningforpneumonia\"\n",
    "         \"VertebralbodyheightsarepreservedIMPRESSIONAssessmentforpneumoniaissomewhatlimitedgiventhepatient's\"\n",
    "         \"widespreadmetastaticdiseasehoweverincreasedconsolidationatthecardiacapexandlossofcardiacsilhouette\"\n",
    "         \"isconcerningforpneumonia\")\n",
    "\n",
    "# Function to create shingles and MinHash for a text\n",
    "def create_minhash(text, num_perm=128, shingle_len=3):\n",
    "    m = MinHash(num_perm=num_perm)\n",
    "    for i in range(len(text) - shingle_len + 1):  # Generate shingles of length 3\n",
    "        shingle = text[i:i + shingle_len]\n",
    "        m.update(shingle.encode('utf8'))\n",
    "    return m\n",
    "\n",
    "# Create MinHashes for both texts\n",
    "minhash1 = create_minhash(string1)\n",
    "minhash2 = create_minhash(string2)\n",
    "\n",
    "# Estimate Jaccard similarity using MinHash similarity\n",
    "jaccard_similarity = minhash1.jaccard(minhash2)\n",
    "jaccard_similarity\n"
   ]
  },
  {
   "cell_type": "code",
   "execution_count": 20,
   "id": "349fd699-6c55-43a0-8cea-5150e36862ce",
   "metadata": {},
   "outputs": [
    {
     "name": "stdout",
     "output_type": "stream",
     "text": [
      "46657\n",
      "46657\n"
     ]
    }
   ],
   "source": [
    "print(len(remove_indices_mimic_notes))\n",
    "print(len(set(remove_indices_mimic_notes)))"
   ]
  },
  {
   "cell_type": "code",
   "execution_count": 21,
   "id": "e5b3fbdc-a66c-4f8a-b5de-cf46b93354ac",
   "metadata": {},
   "outputs": [
    {
     "name": "stdout",
     "output_type": "stream",
     "text": [
      "44872\n",
      "44872\n"
     ]
    }
   ],
   "source": [
    "print(len(remove_indices_cxr_mimic_notes))\n",
    "print(len(set(remove_indices_cxr_mimic_notes)))"
   ]
  },
  {
   "cell_type": "code",
   "execution_count": 9,
   "id": "a854c5d2-a934-4288-b2fa-8a08b33041f2",
   "metadata": {},
   "outputs": [
    {
     "name": "stdout",
     "output_type": "stream",
     "text": [
      "Keys in LSH: []\n"
     ]
    }
   ],
   "source": [
    "print(\"Keys in LSH:\", list(lsh.keys))\n"
   ]
  },
  {
   "cell_type": "code",
   "execution_count": null,
   "id": "d57cd2c9-7203-4608-87cb-76d932f92fd1",
   "metadata": {},
   "outputs": [],
   "source": [
    "def insert_to_lsh(i, cxr_text):\n",
    "    minhash = get_minhash(cxr_text)\n",
    "    lsh.insert(f\"cxr_{i}\", minhash)\n",
    "    print(f\"Inserted cxr_{i} with MinHash values: {minhash.hashvalues}\")\n",
    "with ProcessPoolExecutor() as executor:\n",
    "    futures = [executor.submit(insert_to_lsh, i, cxr_text) \n",
    "               for i, cxr_text in unique_mimic_cxr_notes['new_text'].iteritems()]\n",
    "    for future in tqdm(as_completed(futures), total=len(futures), desc=\"Inserting into LSH\"):\n",
    "        pass  # Wait for all tasks to complete"
   ]
  },
  {
   "cell_type": "code",
   "execution_count": null,
   "id": "690e7a0a-b2cf-40ad-85ff-5a803f75db54",
   "metadata": {},
   "outputs": [],
   "source": []
  }
 ],
 "metadata": {
  "kernelspec": {
   "display_name": "medfuse_py37",
   "language": "python",
   "name": "medfuse_py37"
  },
  "language_info": {
   "codemirror_mode": {
    "name": "ipython",
    "version": 3
   },
   "file_extension": ".py",
   "mimetype": "text/x-python",
   "name": "python",
   "nbconvert_exporter": "python",
   "pygments_lexer": "ipython3",
   "version": "3.7.12"
  }
 },
 "nbformat": 4,
 "nbformat_minor": 5
}
