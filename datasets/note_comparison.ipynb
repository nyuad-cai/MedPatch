{
 "cells": [
  {
   "cell_type": "code",
   "execution_count": 1,
   "id": "468388e2-23e1-4056-876a-4a99f4cb2d1f",
   "metadata": {},
   "outputs": [],
   "source": [
    "from datasketch import MinHash, MinHashLSH\n",
    "from multiprocessing import Pool, cpu_count\n",
    "import pandas as pd\n",
    "from tqdm import tqdm  # For progress tracking\n",
    "import re\n",
    "\n",
    "tqdm.pandas()"
   ]
  },
  {
   "cell_type": "code",
   "execution_count": 2,
   "id": "67caea5d-c07a-44fd-92e1-e9cd4082c8e6",
   "metadata": {},
   "outputs": [],
   "source": [
    " cxr_reports = pd.read_csv(\"/scratch/baj321/cxr_reports.csv\")\n",
    "mimic_notes = pd.read_csv(\"/scratch/baj321/MIMIC-Note/physionet.org/files/mimic-iv-note/2.2/note/radiology.csv\")"
   ]
  },
  {
   "cell_type": "code",
   "execution_count": 3,
   "id": "74f7ba0f-8e1a-4157-823a-cdb0fc221881",
   "metadata": {},
   "outputs": [
    {
     "data": {
      "text/plain": [
       "Index(['subject_id', 'study_id', 'cxr_report_text'], dtype='object')"
      ]
     },
     "execution_count": 3,
     "metadata": {},
     "output_type": "execute_result"
    }
   ],
   "source": [
    "cxr_reports.columns"
   ]
  },
  {
   "cell_type": "code",
   "execution_count": 4,
   "id": "f491dcf4-4317-493c-9cec-26fd93ab0cfe",
   "metadata": {},
   "outputs": [
    {
     "name": "stdout",
     "output_type": "stream",
     "text": [
      "65379\n",
      "227835\n"
     ]
    }
   ],
   "source": [
    "print(len(cxr_reports.subject_id.unique()))\n",
    "print(len(cxr_reports))"
   ]
  },
  {
   "cell_type": "code",
   "execution_count": 5,
   "id": "1412753b-d6bd-4243-a001-46a63b558627",
   "metadata": {},
   "outputs": [
    {
     "name": "stdout",
     "output_type": "stream",
     "text": [
      "237427\n",
      "2321355\n"
     ]
    }
   ],
   "source": [
    "print(len(mimic_notes.subject_id.unique()))\n",
    "print(len(mimic_notes))"
   ]
  },
  {
   "cell_type": "code",
   "execution_count": 6,
   "id": "2b277739-ec5e-4fcb-bb9b-53876ea5f74d",
   "metadata": {},
   "outputs": [
    {
     "name": "stdout",
     "output_type": "stream",
     "text": [
      "Number of subject_ids in mimic_notes but not in cxr_reports: 175710\n",
      "Number of subject_ids in cxr_reports but not in mimic_notes: 3662\n"
     ]
    }
   ],
   "source": [
    "# Finding subject_ids in mimic_notes but not in cxr_reports\n",
    "mimic_only_subject_ids = set(mimic_notes['subject_id'].unique()) - set(cxr_reports['subject_id'].unique())\n",
    "\n",
    "# Finding subject_ids in cxr_reports but not in mimic_notes\n",
    "cxr_only_subject_ids = set(cxr_reports['subject_id'].unique()) - set(mimic_notes['subject_id'].unique())\n",
    "\n",
    "mimic_only_subject_ids = list(mimic_only_subject_ids)\n",
    "cxr_only_subject_ids = list(cxr_only_subject_ids)\n",
    "\n",
    "print(\"Number of subject_ids in mimic_notes but not in cxr_reports:\", len(mimic_only_subject_ids))\n",
    "print(\"Number of subject_ids in cxr_reports but not in mimic_notes:\", len(cxr_only_subject_ids))\n"
   ]
  },
  {
   "cell_type": "code",
   "execution_count": 7,
   "id": "bbb0ca24-3e1d-4622-8bcc-3b65f832107a",
   "metadata": {},
   "outputs": [
    {
     "name": "stdout",
     "output_type": "stream",
     "text": [
      "Number of reports in cxr_reports for patients with no mimic notes: 12013\n"
     ]
    }
   ],
   "source": [
    "\n",
    "cxr_only_reports = cxr_reports[cxr_reports['subject_id'].isin(cxr_only_subject_ids)]\n",
    "\n",
    "num_cxr_only_reports = len(cxr_only_reports)\n",
    "\n",
    "print(\"Number of reports in cxr_reports for patients with no mimic notes:\", num_cxr_only_reports)\n"
   ]
  },
  {
   "cell_type": "code",
   "execution_count": 8,
   "id": "9612f972-a2a6-4e36-97f6-e2e566c4cf2b",
   "metadata": {},
   "outputs": [
    {
     "name": "stdout",
     "output_type": "stream",
     "text": [
      "Number of reports in mimic notes for patients with no cxr reports: 1223439\n"
     ]
    }
   ],
   "source": [
    "mimic_only_notes = mimic_notes[mimic_notes['subject_id'].isin(mimic_only_subject_ids)]\n",
    "\n",
    "num_mimic_only_reports = len(mimic_only_notes)\n",
    "\n",
    "print(\"Number of reports in mimic notes for patients with no cxr reports:\", num_mimic_only_reports)"
   ]
  },
  {
   "cell_type": "code",
   "execution_count": 9,
   "id": "b930f600-3051-407e-8d86-27c7d1d83917",
   "metadata": {},
   "outputs": [],
   "source": [
    "def preprocess(text):\n",
    "    if pd.isnull(text):\n",
    "        print('text is', text)\n",
    "        return set()\n",
    "    \n",
    "    # Step 1: Remove everything up to the literal string \"FINAL REPORT\\n\"\n",
    "    match = re.search(r\"FINAL REPORT\\n\", text, re.IGNORECASE)\n",
    "    if match:\n",
    "        text = text[match.end():]  # Keep only text after \"FINAL REPORT\\n\"\n",
    "    text = re.sub(r\"___M|___F|___|[.,!?/:;\\\\]\", \"\", text)\n",
    "    # Step 3: Remove all formatting: no spaces, literal \"\\n\" strings, or newlines\n",
    "    text = re.sub(r\"\\s+|\\\\n\", \"\", text)  # Remove spaces and literal \"\\n\" strings\n",
    "    return text\n",
    "    \n",
    "def preprocess_mimic_notes(text):\n",
    "    if pd.isnull(text):\n",
    "        print('text is', text)\n",
    "        return set()\n",
    "        \n",
    "    text = re.sub(r\"___M|___F|___|[.,!?/:;\\\\]\", \"\", text)\n",
    "    \n",
    "    # Step 2: Remove all formatting: no spaces, literal \"\\n\" strings, or newlines\n",
    "    text = re.sub(r\"\\s+|\\\\n\", \"\", text)  # Remove spaces and literal \"\\n\" strings\n",
    "    return text"
   ]
  },
  {
   "cell_type": "code",
   "execution_count": 26,
   "id": "a4f03ac3-3f8e-4cfa-ac51-a38d594323f5",
   "metadata": {},
   "outputs": [
    {
     "name": "stderr",
     "output_type": "stream",
     "text": [
      "100%|██████████| 227835/227835 [00:14<00:00, 15262.13it/s]\n"
     ]
    }
   ],
   "source": [
    "cxr_reports['processed_text'] = cxr_reports['cxr_report_text'].progress_apply(preprocess)"
   ]
  },
  {
   "cell_type": "code",
   "execution_count": 11,
   "id": "b1c25245-a00a-4bc2-8424-ca240071f340",
   "metadata": {},
   "outputs": [
    {
     "name": "stderr",
     "output_type": "stream",
     "text": [
      "100%|██████████| 1223439/1223439 [02:26<00:00, 8373.65it/s]\n",
      "/scratch/baj321/conda-envs/medfuse_py37/lib/python3.7/site-packages/ipykernel_launcher.py:1: SettingWithCopyWarning: \n",
      "A value is trying to be set on a copy of a slice from a DataFrame.\n",
      "Try using .loc[row_indexer,col_indexer] = value instead\n",
      "\n",
      "See the caveats in the documentation: https://pandas.pydata.org/pandas-docs/stable/user_guide/indexing.html#returning-a-view-versus-a-copy\n",
      "  \"\"\"Entry point for launching an IPython kernel.\n"
     ]
    }
   ],
   "source": [
    "mimic_only_notes['processed_text'] = mimic_only_notes['text'].progress_apply(preprocess_mimic_notes)"
   ]
  },
  {
   "cell_type": "code",
   "execution_count": 13,
   "id": "5c99716a-85a9-4d13-b07f-395be926b3ff",
   "metadata": {},
   "outputs": [
    {
     "data": {
      "text/plain": [
       "1223254"
      ]
     },
     "execution_count": 13,
     "metadata": {},
     "output_type": "execute_result"
    }
   ],
   "source": [
    "unique_mimic_notes = mimic_only_notes[~mimic_only_notes['processed_text'].isin(cxr_reports['processed_text'])]\n",
    "len(unique_mimic_notes)\n",
    "#185 notes whose processed text matches across both even though they have differing patient ID"
   ]
  },
  {
   "cell_type": "code",
   "execution_count": 15,
   "id": "ddda1350-9dfe-4a1f-a853-ba2bdc5ee440",
   "metadata": {},
   "outputs": [
    {
     "data": {
      "text/plain": [
       "185"
      ]
     },
     "execution_count": 15,
     "metadata": {},
     "output_type": "execute_result"
    }
   ],
   "source": [
    "repeated_text_mimic = mimic_only_notes[mimic_only_notes['processed_text'].isin(cxr_reports['processed_text'])]\n",
    "len(repeated_text_mimic)"
   ]
  },
  {
   "cell_type": "code",
   "execution_count": 16,
   "id": "039978c7-fff6-4fef-b3d7-01c956a68daa",
   "metadata": {},
   "outputs": [
    {
     "data": {
      "text/html": [
       "<div>\n",
       "<style scoped>\n",
       "    .dataframe tbody tr th:only-of-type {\n",
       "        vertical-align: middle;\n",
       "    }\n",
       "\n",
       "    .dataframe tbody tr th {\n",
       "        vertical-align: top;\n",
       "    }\n",
       "\n",
       "    .dataframe thead th {\n",
       "        text-align: right;\n",
       "    }\n",
       "</style>\n",
       "<table border=\"1\" class=\"dataframe\">\n",
       "  <thead>\n",
       "    <tr style=\"text-align: right;\">\n",
       "      <th></th>\n",
       "      <th>note_id</th>\n",
       "      <th>subject_id</th>\n",
       "      <th>hadm_id</th>\n",
       "      <th>note_type</th>\n",
       "      <th>note_seq</th>\n",
       "      <th>charttime</th>\n",
       "      <th>storetime</th>\n",
       "      <th>text</th>\n",
       "      <th>processed_text</th>\n",
       "    </tr>\n",
       "  </thead>\n",
       "  <tbody>\n",
       "    <tr>\n",
       "      <th>8033</th>\n",
       "      <td>10033312-RR-72</td>\n",
       "      <td>10033312</td>\n",
       "      <td>NaN</td>\n",
       "      <td>RR</td>\n",
       "      <td>72</td>\n",
       "      <td>2156-01-18 13:11:00</td>\n",
       "      <td>2156-01-18 13:40:00</td>\n",
       "      <td>HISTORY:  Preoperative.\\n\\nFINDINGS:  In compa...</td>\n",
       "      <td>HISTORYPreoperativeFINDINGSIncomparisonwiththe...</td>\n",
       "    </tr>\n",
       "    <tr>\n",
       "      <th>13567</th>\n",
       "      <td>10061517-RR-24</td>\n",
       "      <td>10061517</td>\n",
       "      <td>NaN</td>\n",
       "      <td>RR</td>\n",
       "      <td>24</td>\n",
       "      <td>2147-07-15 15:32:00</td>\n",
       "      <td>2147-07-15 16:10:00</td>\n",
       "      <td>PA AND LATERAL VIEWS OF THE CHEST\\n\\nREASON FO...</td>\n",
       "      <td>PAANDLATERALVIEWSOFTHECHESTREASONFOREXAMCougha...</td>\n",
       "    </tr>\n",
       "    <tr>\n",
       "      <th>18622</th>\n",
       "      <td>10089210-RR-10</td>\n",
       "      <td>10089210</td>\n",
       "      <td>NaN</td>\n",
       "      <td>RR</td>\n",
       "      <td>10</td>\n",
       "      <td>2172-06-26 19:23:00</td>\n",
       "      <td>2172-06-26 19:54:00</td>\n",
       "      <td>EXAMINATION:\\nChest:  Frontal and lateral view...</td>\n",
       "      <td>EXAMINATIONChestFrontalandlateralviewsINDICATI...</td>\n",
       "    </tr>\n",
       "    <tr>\n",
       "      <th>27750</th>\n",
       "      <td>10127166-RR-42</td>\n",
       "      <td>10127166</td>\n",
       "      <td>NaN</td>\n",
       "      <td>RR</td>\n",
       "      <td>42</td>\n",
       "      <td>2152-06-04 11:47:00</td>\n",
       "      <td>2152-06-04 12:26:00</td>\n",
       "      <td>PA AND LATERAL VIEWS OF THE CHEST\\n\\nREASON FO...</td>\n",
       "      <td>PAANDLATERALVIEWSOFTHECHESTREASONFOREXAMCoughC...</td>\n",
       "    </tr>\n",
       "    <tr>\n",
       "      <th>41303</th>\n",
       "      <td>10186987-RR-67</td>\n",
       "      <td>10186987</td>\n",
       "      <td>NaN</td>\n",
       "      <td>RR</td>\n",
       "      <td>67</td>\n",
       "      <td>2190-10-30 09:45:00</td>\n",
       "      <td>2190-10-30 10:58:00</td>\n",
       "      <td>HISTORY:  Positive PPD.\\n\\nFINDINGS:  In compa...</td>\n",
       "      <td>HISTORYPositivePPDFINDINGSIncomparisonwithstud...</td>\n",
       "    </tr>\n",
       "  </tbody>\n",
       "</table>\n",
       "</div>"
      ],
      "text/plain": [
       "              note_id  subject_id  hadm_id note_type  note_seq  \\\n",
       "8033   10033312-RR-72    10033312      NaN        RR        72   \n",
       "13567  10061517-RR-24    10061517      NaN        RR        24   \n",
       "18622  10089210-RR-10    10089210      NaN        RR        10   \n",
       "27750  10127166-RR-42    10127166      NaN        RR        42   \n",
       "41303  10186987-RR-67    10186987      NaN        RR        67   \n",
       "\n",
       "                 charttime            storetime  \\\n",
       "8033   2156-01-18 13:11:00  2156-01-18 13:40:00   \n",
       "13567  2147-07-15 15:32:00  2147-07-15 16:10:00   \n",
       "18622  2172-06-26 19:23:00  2172-06-26 19:54:00   \n",
       "27750  2152-06-04 11:47:00  2152-06-04 12:26:00   \n",
       "41303  2190-10-30 09:45:00  2190-10-30 10:58:00   \n",
       "\n",
       "                                                    text  \\\n",
       "8033   HISTORY:  Preoperative.\\n\\nFINDINGS:  In compa...   \n",
       "13567  PA AND LATERAL VIEWS OF THE CHEST\\n\\nREASON FO...   \n",
       "18622  EXAMINATION:\\nChest:  Frontal and lateral view...   \n",
       "27750  PA AND LATERAL VIEWS OF THE CHEST\\n\\nREASON FO...   \n",
       "41303  HISTORY:  Positive PPD.\\n\\nFINDINGS:  In compa...   \n",
       "\n",
       "                                          processed_text  \n",
       "8033   HISTORYPreoperativeFINDINGSIncomparisonwiththe...  \n",
       "13567  PAANDLATERALVIEWSOFTHECHESTREASONFOREXAMCougha...  \n",
       "18622  EXAMINATIONChestFrontalandlateralviewsINDICATI...  \n",
       "27750  PAANDLATERALVIEWSOFTHECHESTREASONFOREXAMCoughC...  \n",
       "41303  HISTORYPositivePPDFINDINGSIncomparisonwithstud...  "
      ]
     },
     "execution_count": 16,
     "metadata": {},
     "output_type": "execute_result"
    }
   ],
   "source": [
    "repeated_text_mimic.head()"
   ]
  },
  {
   "cell_type": "code",
   "execution_count": 17,
   "id": "ee5184c3-539e-4c8a-bd77-71660c6d76a0",
   "metadata": {},
   "outputs": [
    {
     "data": {
      "text/plain": [
       "284"
      ]
     },
     "execution_count": 17,
     "metadata": {},
     "output_type": "execute_result"
    }
   ],
   "source": [
    "repeated_text_cxr = cxr_reports[cxr_reports['processed_text'].isin(mimic_only_notes['processed_text'])]\n",
    "len(repeated_text_cxr)"
   ]
  },
  {
   "cell_type": "code",
   "execution_count": 18,
   "id": "f0b10aba-f6b1-4a9b-8883-8a876738f841",
   "metadata": {},
   "outputs": [
    {
     "data": {
      "text/html": [
       "<div>\n",
       "<style scoped>\n",
       "    .dataframe tbody tr th:only-of-type {\n",
       "        vertical-align: middle;\n",
       "    }\n",
       "\n",
       "    .dataframe tbody tr th {\n",
       "        vertical-align: top;\n",
       "    }\n",
       "\n",
       "    .dataframe thead th {\n",
       "        text-align: right;\n",
       "    }\n",
       "</style>\n",
       "<table border=\"1\" class=\"dataframe\">\n",
       "  <thead>\n",
       "    <tr style=\"text-align: right;\">\n",
       "      <th></th>\n",
       "      <th>subject_id</th>\n",
       "      <th>study_id</th>\n",
       "      <th>cxr_report_text</th>\n",
       "      <th>processed_text</th>\n",
       "    </tr>\n",
       "  </thead>\n",
       "  <tbody>\n",
       "    <tr>\n",
       "      <th>253</th>\n",
       "      <td>14061701</td>\n",
       "      <td>58631426</td>\n",
       "      <td>FINAL REPORT\\...</td>\n",
       "      <td>HISTORYPositivePPDFINDINGSNopreviousimagesNoev...</td>\n",
       "    </tr>\n",
       "    <tr>\n",
       "      <th>2592</th>\n",
       "      <td>14085712</td>\n",
       "      <td>53320221</td>\n",
       "      <td>FINAL REPORT\\...</td>\n",
       "      <td>EXAMINATIONCHEST(PAANDLAT)INDICATIONHistorywit...</td>\n",
       "    </tr>\n",
       "    <tr>\n",
       "      <th>2637</th>\n",
       "      <td>14003716</td>\n",
       "      <td>58874157</td>\n",
       "      <td>FINAL REPORT\\...</td>\n",
       "      <td>EXAMINATIONCHEST(PAANDLAT)INDICATIONwithchestp...</td>\n",
       "    </tr>\n",
       "    <tr>\n",
       "      <th>3501</th>\n",
       "      <td>14463099</td>\n",
       "      <td>54168089</td>\n",
       "      <td>FINAL REPORT\\n</td>\n",
       "      <td></td>\n",
       "    </tr>\n",
       "    <tr>\n",
       "      <th>3530</th>\n",
       "      <td>14738657</td>\n",
       "      <td>57614441</td>\n",
       "      <td>FINAL REPORT\\...</td>\n",
       "      <td>EXAMINATIONChestFrontalandlateralviewsINDICATI...</td>\n",
       "    </tr>\n",
       "  </tbody>\n",
       "</table>\n",
       "</div>"
      ],
      "text/plain": [
       "      subject_id  study_id                                    cxr_report_text  \\\n",
       "253     14061701  58631426                                   FINAL REPORT\\...   \n",
       "2592    14085712  53320221                                   FINAL REPORT\\...   \n",
       "2637    14003716  58874157                                   FINAL REPORT\\...   \n",
       "3501    14463099  54168089                                     FINAL REPORT\\n   \n",
       "3530    14738657  57614441                                   FINAL REPORT\\...   \n",
       "\n",
       "                                         processed_text  \n",
       "253   HISTORYPositivePPDFINDINGSNopreviousimagesNoev...  \n",
       "2592  EXAMINATIONCHEST(PAANDLAT)INDICATIONHistorywit...  \n",
       "2637  EXAMINATIONCHEST(PAANDLAT)INDICATIONwithchestp...  \n",
       "3501                                                     \n",
       "3530  EXAMINATIONChestFrontalandlateralviewsINDICATI...  "
      ]
     },
     "execution_count": 18,
     "metadata": {},
     "output_type": "execute_result"
    }
   ],
   "source": [
    "repeated_text_cxr.head()"
   ]
  },
  {
   "cell_type": "code",
   "execution_count": 21,
   "id": "ff4e41a5-e822-45e6-b28a-1b460676cdbd",
   "metadata": {},
   "outputs": [
    {
     "name": "stdout",
     "output_type": "stream",
     "text": [
      "Number of reports with empty processed_text: 1\n"
     ]
    },
    {
     "data": {
      "text/html": [
       "<div>\n",
       "<style scoped>\n",
       "    .dataframe tbody tr th:only-of-type {\n",
       "        vertical-align: middle;\n",
       "    }\n",
       "\n",
       "    .dataframe tbody tr th {\n",
       "        vertical-align: top;\n",
       "    }\n",
       "\n",
       "    .dataframe thead th {\n",
       "        text-align: right;\n",
       "    }\n",
       "</style>\n",
       "<table border=\"1\" class=\"dataframe\">\n",
       "  <thead>\n",
       "    <tr style=\"text-align: right;\">\n",
       "      <th></th>\n",
       "      <th>subject_id</th>\n",
       "      <th>study_id</th>\n",
       "      <th>cxr_report_text</th>\n",
       "      <th>processed_text</th>\n",
       "    </tr>\n",
       "  </thead>\n",
       "  <tbody>\n",
       "    <tr>\n",
       "      <th>3501</th>\n",
       "      <td>14463099</td>\n",
       "      <td>54168089</td>\n",
       "      <td>FINAL REPORT\\n</td>\n",
       "      <td></td>\n",
       "    </tr>\n",
       "  </tbody>\n",
       "</table>\n",
       "</div>"
      ],
      "text/plain": [
       "      subject_id  study_id                                  cxr_report_text  \\\n",
       "3501    14463099  54168089                                   FINAL REPORT\\n   \n",
       "\n",
       "     processed_text  \n",
       "3501                 "
      ]
     },
     "execution_count": 21,
     "metadata": {},
     "output_type": "execute_result"
    }
   ],
   "source": [
    "# Filter cxr_reports where processed_text is empty\n",
    "empty_processed_text_reports = cxr_reports[cxr_reports['processed_text'].isna() | (cxr_reports['processed_text'] == '')]\n",
    "\n",
    "# Display or print the results\n",
    "print(\"Number of reports with empty processed_text:\", len(empty_processed_text_reports))\n",
    "empty_processed_text_reports\n",
    "#1 report only has the words FINAL REPORT"
   ]
  },
  {
   "cell_type": "code",
   "execution_count": 24,
   "id": "f9f9587e-4618-4f26-bd10-f71499627d15",
   "metadata": {},
   "outputs": [
    {
     "name": "stdout",
     "output_type": "stream",
     "text": [
      "Number of reports with empty original text: 0\n"
     ]
    },
    {
     "data": {
      "text/html": [
       "<div>\n",
       "<style scoped>\n",
       "    .dataframe tbody tr th:only-of-type {\n",
       "        vertical-align: middle;\n",
       "    }\n",
       "\n",
       "    .dataframe tbody tr th {\n",
       "        vertical-align: top;\n",
       "    }\n",
       "\n",
       "    .dataframe thead th {\n",
       "        text-align: right;\n",
       "    }\n",
       "</style>\n",
       "<table border=\"1\" class=\"dataframe\">\n",
       "  <thead>\n",
       "    <tr style=\"text-align: right;\">\n",
       "      <th></th>\n",
       "      <th>subject_id</th>\n",
       "      <th>study_id</th>\n",
       "      <th>cxr_report_text</th>\n",
       "      <th>processed_text</th>\n",
       "    </tr>\n",
       "  </thead>\n",
       "  <tbody>\n",
       "  </tbody>\n",
       "</table>\n",
       "</div>"
      ],
      "text/plain": [
       "Empty DataFrame\n",
       "Columns: [subject_id, study_id, cxr_report_text, processed_text]\n",
       "Index: []"
      ]
     },
     "execution_count": 24,
     "metadata": {},
     "output_type": "execute_result"
    }
   ],
   "source": [
    "# Filter cxr_reports where processed_text is empty\n",
    "empty_og_text_reports = cxr_reports[cxr_reports['cxr_report_text'].isna() | (cxr_reports['cxr_report_text'] == '')]\n",
    "\n",
    "# Display or print the results\n",
    "print(\"Number of reports with empty original text:\", len(empty_og_text_reports))\n",
    "empty_og_text_reports\n"
   ]
  },
  {
   "cell_type": "code",
   "execution_count": 27,
   "id": "7c55c2ec-b203-401c-8c8a-7e4793f50c18",
   "metadata": {},
   "outputs": [
    {
     "name": "stdout",
     "output_type": "stream",
     "text": [
      "Number of matched rows based on processed_text: 522\n"
     ]
    },
    {
     "data": {
      "text/html": [
       "<div>\n",
       "<style scoped>\n",
       "    .dataframe tbody tr th:only-of-type {\n",
       "        vertical-align: middle;\n",
       "    }\n",
       "\n",
       "    .dataframe tbody tr th {\n",
       "        vertical-align: top;\n",
       "    }\n",
       "\n",
       "    .dataframe thead th {\n",
       "        text-align: right;\n",
       "    }\n",
       "</style>\n",
       "<table border=\"1\" class=\"dataframe\">\n",
       "  <thead>\n",
       "    <tr style=\"text-align: right;\">\n",
       "      <th></th>\n",
       "      <th>note_id</th>\n",
       "      <th>subject_id_mimic</th>\n",
       "      <th>hadm_id</th>\n",
       "      <th>note_type</th>\n",
       "      <th>note_seq</th>\n",
       "      <th>charttime</th>\n",
       "      <th>storetime</th>\n",
       "      <th>text</th>\n",
       "      <th>processed_text</th>\n",
       "      <th>subject_id_cxr</th>\n",
       "      <th>study_id</th>\n",
       "      <th>cxr_report_text</th>\n",
       "    </tr>\n",
       "  </thead>\n",
       "  <tbody>\n",
       "    <tr>\n",
       "      <th>0</th>\n",
       "      <td>10033312-RR-72</td>\n",
       "      <td>10033312</td>\n",
       "      <td>NaN</td>\n",
       "      <td>RR</td>\n",
       "      <td>72</td>\n",
       "      <td>2156-01-18 13:11:00</td>\n",
       "      <td>2156-01-18 13:40:00</td>\n",
       "      <td>HISTORY:  Preoperative.\\n\\nFINDINGS:  In compa...</td>\n",
       "      <td>HISTORYPreoperativeFINDINGSIncomparisonwiththe...</td>\n",
       "      <td>13649383</td>\n",
       "      <td>53860038</td>\n",
       "      <td>WET READ: ___ ___ 12:30 AM\\n  No acute cardio...</td>\n",
       "    </tr>\n",
       "    <tr>\n",
       "      <th>1</th>\n",
       "      <td>10683716-RR-88</td>\n",
       "      <td>10683716</td>\n",
       "      <td>NaN</td>\n",
       "      <td>RR</td>\n",
       "      <td>88</td>\n",
       "      <td>2128-03-03 12:52:00</td>\n",
       "      <td>2128-03-03 14:49:00</td>\n",
       "      <td>HISTORY:  Preoperative.\\n\\nFINDINGS:  In compa...</td>\n",
       "      <td>HISTORYPreoperativeFINDINGSIncomparisonwiththe...</td>\n",
       "      <td>13649383</td>\n",
       "      <td>53860038</td>\n",
       "      <td>WET READ: ___ ___ 12:30 AM\\n  No acute cardio...</td>\n",
       "    </tr>\n",
       "    <tr>\n",
       "      <th>2</th>\n",
       "      <td>14302303-RR-73</td>\n",
       "      <td>14302303</td>\n",
       "      <td>NaN</td>\n",
       "      <td>RR</td>\n",
       "      <td>73</td>\n",
       "      <td>2163-08-19 09:33:00</td>\n",
       "      <td>2163-08-19 10:18:00</td>\n",
       "      <td>HISTORY:  Preoperative.\\n\\nFINDINGS:  In compa...</td>\n",
       "      <td>HISTORYPreoperativeFINDINGSIncomparisonwiththe...</td>\n",
       "      <td>13649383</td>\n",
       "      <td>53860038</td>\n",
       "      <td>WET READ: ___ ___ 12:30 AM\\n  No acute cardio...</td>\n",
       "    </tr>\n",
       "    <tr>\n",
       "      <th>3</th>\n",
       "      <td>17474458-RR-22</td>\n",
       "      <td>17474458</td>\n",
       "      <td>NaN</td>\n",
       "      <td>RR</td>\n",
       "      <td>22</td>\n",
       "      <td>2169-01-16 08:58:00</td>\n",
       "      <td>2169-01-16 10:10:00</td>\n",
       "      <td>HISTORY:  Preoperative.\\n\\nFINDINGS:  In compa...</td>\n",
       "      <td>HISTORYPreoperativeFINDINGSIncomparisonwiththe...</td>\n",
       "      <td>13649383</td>\n",
       "      <td>53860038</td>\n",
       "      <td>WET READ: ___ ___ 12:30 AM\\n  No acute cardio...</td>\n",
       "    </tr>\n",
       "    <tr>\n",
       "      <th>4</th>\n",
       "      <td>17705128-RR-29</td>\n",
       "      <td>17705128</td>\n",
       "      <td>NaN</td>\n",
       "      <td>RR</td>\n",
       "      <td>29</td>\n",
       "      <td>2158-12-27 11:08:00</td>\n",
       "      <td>2158-12-27 11:42:00</td>\n",
       "      <td>HISTORY:  Preoperative.\\n\\nFINDINGS:  In compa...</td>\n",
       "      <td>HISTORYPreoperativeFINDINGSIncomparisonwiththe...</td>\n",
       "      <td>13649383</td>\n",
       "      <td>53860038</td>\n",
       "      <td>WET READ: ___ ___ 12:30 AM\\n  No acute cardio...</td>\n",
       "    </tr>\n",
       "    <tr>\n",
       "      <th>...</th>\n",
       "      <td>...</td>\n",
       "      <td>...</td>\n",
       "      <td>...</td>\n",
       "      <td>...</td>\n",
       "      <td>...</td>\n",
       "      <td>...</td>\n",
       "      <td>...</td>\n",
       "      <td>...</td>\n",
       "      <td>...</td>\n",
       "      <td>...</td>\n",
       "      <td>...</td>\n",
       "      <td>...</td>\n",
       "    </tr>\n",
       "    <tr>\n",
       "      <th>517</th>\n",
       "      <td>19687331-RR-30</td>\n",
       "      <td>19687331</td>\n",
       "      <td>NaN</td>\n",
       "      <td>RR</td>\n",
       "      <td>30</td>\n",
       "      <td>2137-11-25 17:42:00</td>\n",
       "      <td>2137-11-25 18:05:00</td>\n",
       "      <td>CHEST RADIOGRAPHS\\n\\nHISTORY:  Chest pain.\\n\\n...</td>\n",
       "      <td>CHESTRADIOGRAPHSHISTORYChestpainCOMPARISONSTEC...</td>\n",
       "      <td>19345406</td>\n",
       "      <td>51915597</td>\n",
       "      <td>FINAL REPORT\\...</td>\n",
       "    </tr>\n",
       "    <tr>\n",
       "      <th>518</th>\n",
       "      <td>19782796-RR-15</td>\n",
       "      <td>19782796</td>\n",
       "      <td>NaN</td>\n",
       "      <td>RR</td>\n",
       "      <td>15</td>\n",
       "      <td>2135-01-14 11:33:00</td>\n",
       "      <td>2135-01-14 11:42:00</td>\n",
       "      <td>EXAMINATION:  CHEST (PA AND LAT)\\n\\nINDICATION...</td>\n",
       "      <td>EXAMINATIONCHEST(PAANDLAT)INDICATIONHistorywit...</td>\n",
       "      <td>15303898</td>\n",
       "      <td>50642475</td>\n",
       "      <td>FINAL REPORT\\...</td>\n",
       "    </tr>\n",
       "    <tr>\n",
       "      <th>519</th>\n",
       "      <td>19828656-RR-9</td>\n",
       "      <td>19828656</td>\n",
       "      <td>NaN</td>\n",
       "      <td>RR</td>\n",
       "      <td>9</td>\n",
       "      <td>2117-11-29 22:28:00</td>\n",
       "      <td>2117-11-29 22:43:00</td>\n",
       "      <td>EXAMINATION:\\nChest:  Frontal and lateral view...</td>\n",
       "      <td>EXAMINATIONChestFrontalandlateralviewsINDICATI...</td>\n",
       "      <td>10882911</td>\n",
       "      <td>54188933</td>\n",
       "      <td>FINAL REPORT\\...</td>\n",
       "    </tr>\n",
       "    <tr>\n",
       "      <th>520</th>\n",
       "      <td>19849776-RR-23</td>\n",
       "      <td>19849776</td>\n",
       "      <td>NaN</td>\n",
       "      <td>RR</td>\n",
       "      <td>23</td>\n",
       "      <td>2170-03-08 17:02:00</td>\n",
       "      <td>2170-03-08 17:14:00</td>\n",
       "      <td>EXAMINATION:  CHEST (PA AND LAT)\\n\\nINDICATION...</td>\n",
       "      <td>EXAMINATIONCHEST(PAANDLAT)INDICATIONwithchestp...</td>\n",
       "      <td>13769676</td>\n",
       "      <td>55310897</td>\n",
       "      <td>FINAL REPORT\\...</td>\n",
       "    </tr>\n",
       "    <tr>\n",
       "      <th>521</th>\n",
       "      <td>19906901-RR-12</td>\n",
       "      <td>19906901</td>\n",
       "      <td>27030252.0</td>\n",
       "      <td>RR</td>\n",
       "      <td>12</td>\n",
       "      <td>2149-08-22 21:34:00</td>\n",
       "      <td>2149-08-22 21:47:00</td>\n",
       "      <td>EXAMINATION:  CHEST (PA AND LAT)\\n\\nINDICATION...</td>\n",
       "      <td>EXAMINATIONCHEST(PAANDLAT)INDICATIONwithpancre...</td>\n",
       "      <td>14203011</td>\n",
       "      <td>51021163</td>\n",
       "      <td>FINAL REPORT\\...</td>\n",
       "    </tr>\n",
       "  </tbody>\n",
       "</table>\n",
       "<p>522 rows × 12 columns</p>\n",
       "</div>"
      ],
      "text/plain": [
       "            note_id  subject_id_mimic     hadm_id note_type  note_seq  \\\n",
       "0    10033312-RR-72          10033312         NaN        RR        72   \n",
       "1    10683716-RR-88          10683716         NaN        RR        88   \n",
       "2    14302303-RR-73          14302303         NaN        RR        73   \n",
       "3    17474458-RR-22          17474458         NaN        RR        22   \n",
       "4    17705128-RR-29          17705128         NaN        RR        29   \n",
       "..              ...               ...         ...       ...       ...   \n",
       "517  19687331-RR-30          19687331         NaN        RR        30   \n",
       "518  19782796-RR-15          19782796         NaN        RR        15   \n",
       "519   19828656-RR-9          19828656         NaN        RR         9   \n",
       "520  19849776-RR-23          19849776         NaN        RR        23   \n",
       "521  19906901-RR-12          19906901  27030252.0        RR        12   \n",
       "\n",
       "               charttime            storetime  \\\n",
       "0    2156-01-18 13:11:00  2156-01-18 13:40:00   \n",
       "1    2128-03-03 12:52:00  2128-03-03 14:49:00   \n",
       "2    2163-08-19 09:33:00  2163-08-19 10:18:00   \n",
       "3    2169-01-16 08:58:00  2169-01-16 10:10:00   \n",
       "4    2158-12-27 11:08:00  2158-12-27 11:42:00   \n",
       "..                   ...                  ...   \n",
       "517  2137-11-25 17:42:00  2137-11-25 18:05:00   \n",
       "518  2135-01-14 11:33:00  2135-01-14 11:42:00   \n",
       "519  2117-11-29 22:28:00  2117-11-29 22:43:00   \n",
       "520  2170-03-08 17:02:00  2170-03-08 17:14:00   \n",
       "521  2149-08-22 21:34:00  2149-08-22 21:47:00   \n",
       "\n",
       "                                                  text  \\\n",
       "0    HISTORY:  Preoperative.\\n\\nFINDINGS:  In compa...   \n",
       "1    HISTORY:  Preoperative.\\n\\nFINDINGS:  In compa...   \n",
       "2    HISTORY:  Preoperative.\\n\\nFINDINGS:  In compa...   \n",
       "3    HISTORY:  Preoperative.\\n\\nFINDINGS:  In compa...   \n",
       "4    HISTORY:  Preoperative.\\n\\nFINDINGS:  In compa...   \n",
       "..                                                 ...   \n",
       "517  CHEST RADIOGRAPHS\\n\\nHISTORY:  Chest pain.\\n\\n...   \n",
       "518  EXAMINATION:  CHEST (PA AND LAT)\\n\\nINDICATION...   \n",
       "519  EXAMINATION:\\nChest:  Frontal and lateral view...   \n",
       "520  EXAMINATION:  CHEST (PA AND LAT)\\n\\nINDICATION...   \n",
       "521  EXAMINATION:  CHEST (PA AND LAT)\\n\\nINDICATION...   \n",
       "\n",
       "                                        processed_text  subject_id_cxr  \\\n",
       "0    HISTORYPreoperativeFINDINGSIncomparisonwiththe...        13649383   \n",
       "1    HISTORYPreoperativeFINDINGSIncomparisonwiththe...        13649383   \n",
       "2    HISTORYPreoperativeFINDINGSIncomparisonwiththe...        13649383   \n",
       "3    HISTORYPreoperativeFINDINGSIncomparisonwiththe...        13649383   \n",
       "4    HISTORYPreoperativeFINDINGSIncomparisonwiththe...        13649383   \n",
       "..                                                 ...             ...   \n",
       "517  CHESTRADIOGRAPHSHISTORYChestpainCOMPARISONSTEC...        19345406   \n",
       "518  EXAMINATIONCHEST(PAANDLAT)INDICATIONHistorywit...        15303898   \n",
       "519  EXAMINATIONChestFrontalandlateralviewsINDICATI...        10882911   \n",
       "520  EXAMINATIONCHEST(PAANDLAT)INDICATIONwithchestp...        13769676   \n",
       "521  EXAMINATIONCHEST(PAANDLAT)INDICATIONwithpancre...        14203011   \n",
       "\n",
       "     study_id                                    cxr_report_text  \n",
       "0    53860038   WET READ: ___ ___ 12:30 AM\\n  No acute cardio...  \n",
       "1    53860038   WET READ: ___ ___ 12:30 AM\\n  No acute cardio...  \n",
       "2    53860038   WET READ: ___ ___ 12:30 AM\\n  No acute cardio...  \n",
       "3    53860038   WET READ: ___ ___ 12:30 AM\\n  No acute cardio...  \n",
       "4    53860038   WET READ: ___ ___ 12:30 AM\\n  No acute cardio...  \n",
       "..        ...                                                ...  \n",
       "517  51915597                                   FINAL REPORT\\...  \n",
       "518  50642475                                   FINAL REPORT\\...  \n",
       "519  54188933                                   FINAL REPORT\\...  \n",
       "520  55310897                                   FINAL REPORT\\...  \n",
       "521  51021163                                   FINAL REPORT\\...  \n",
       "\n",
       "[522 rows x 12 columns]"
      ]
     },
     "execution_count": 27,
     "metadata": {},
     "output_type": "execute_result"
    }
   ],
   "source": [
    "# Perform an inner join on processed_text to get all matching records from both tables\n",
    "merged_df = mimic_only_notes.merge(cxr_reports, on='processed_text', suffixes=('_mimic', '_cxr'))\n",
    "\n",
    "# Display the count of matches and the merged DataFrame\n",
    "print(\"Number of matched rows based on processed_text:\", len(merged_df))\n",
    "merged_df\n"
   ]
  },
  {
   "cell_type": "code",
   "execution_count": 32,
   "id": "d0b8a7cb-91d2-4859-97e5-7dffcfe606c8",
   "metadata": {},
   "outputs": [
    {
     "name": "stdout",
     "output_type": "stream",
     "text": [
      "MIMIC Note: HISTORY:  Preoperative.\n",
      "\n",
      "FINDINGS:  In comparison with the study of ___, there is little change and\n",
      "no evidence of acute cardiopulmonary disease.  No pneumonia, vascular\n",
      "congestion, or pleural effusion.\n",
      "\n",
      "MIMIC-CXR:  WET READ: ___ ___ 12:30 AM\n",
      "  No acute cardiopulmonary process. Known T-spine fracture not well seen on this\n",
      "  single frontal view.  ___ p___WET READ VERSION #1 \n",
      " ______________________________________________________________________________\n",
      "                                 FINAL REPORT\n",
      " HISTORY:  Preoperative.\n",
      " \n",
      " FINDINGS:  In comparison with the study of ___, there is little change and\n",
      " no evidence of acute cardiopulmonary disease.  No pneumonia, vascular\n",
      " congestion, or pleural effusion.\n",
      "\n"
     ]
    }
   ],
   "source": [
    "print('MIMIC Note:',merged_df.iloc[0].text)\n",
    "print('MIMIC-CXR:',merged_df.iloc[0].cxr_report_text)"
   ]
  },
  {
   "cell_type": "code",
   "execution_count": 33,
   "id": "81683759-d93c-4acf-8680-45adf30d6023",
   "metadata": {},
   "outputs": [
    {
     "name": "stdout",
     "output_type": "stream",
     "text": [
      "MIMIC Note: HISTORY:  Preoperative.\n",
      "\n",
      "FINDINGS:  In comparison with the study of ___, there is little change and\n",
      "no evidence of acute cardiopulmonary disease.  No pneumonia, vascular\n",
      "congestion, or pleural effusion.\n",
      "\n",
      "MIMIC-CXR:  WET READ: ___ ___ 12:30 AM\n",
      "  No acute cardiopulmonary process. Known T-spine fracture not well seen on this\n",
      "  single frontal view.  ___ p___WET READ VERSION #1 \n",
      " ______________________________________________________________________________\n",
      "                                 FINAL REPORT\n",
      " HISTORY:  Preoperative.\n",
      " \n",
      " FINDINGS:  In comparison with the study of ___, there is little change and\n",
      " no evidence of acute cardiopulmonary disease.  No pneumonia, vascular\n",
      " congestion, or pleural effusion.\n",
      "\n"
     ]
    }
   ],
   "source": [
    "print('MIMIC Note:',merged_df.iloc[1].text)\n",
    "print('MIMIC-CXR:',merged_df.iloc[1].cxr_report_text)"
   ]
  },
  {
   "cell_type": "code",
   "execution_count": 38,
   "id": "1b829157-eb7b-4abc-ba66-0b8fc7141bea",
   "metadata": {},
   "outputs": [
    {
     "name": "stdout",
     "output_type": "stream",
     "text": [
      "MIMIC Note: CHEST RADIOGRAPHS\n",
      "\n",
      "HISTORY:  Chest pain.\n",
      "\n",
      "COMPARISONS:  ___.\n",
      "\n",
      "TECHNIQUE:  Chest, PA and lateral.\n",
      "\n",
      "FINDINGS:\n",
      "\n",
      "The heart is normal in size.  The mediastinal and hilar contours appear within\n",
      "normal limits.  There is no pleural effusion or pneumothorax.  The lungs\n",
      "appear clear.\n",
      "\n",
      "IMPRESSION:  No evidence of acute cardiopulmonary disease.\n",
      "\n",
      "MIMIC-CXR:                                  FINAL REPORT\n",
      " CHEST RADIOGRAPHS\n",
      " \n",
      " HISTORY:  Chest pain.\n",
      " \n",
      " COMPARISONS:  ___.\n",
      " \n",
      " TECHNIQUE:  Chest, PA and lateral.\n",
      " \n",
      " FINDINGS:    The heart is normal in size.  The mediastinal and hilar contours\n",
      " appear within normal limits.  There is no pleural effusion or pneumothorax. \n",
      " The lungs appear clear. \n",
      " \n",
      " IMPRESSION:  No evidence of acute cardiopulmonary disease.\n",
      "\n"
     ]
    }
   ],
   "source": [
    "print('MIMIC Note:',merged_df.iloc[517].text)\n",
    "print('MIMIC-CXR:',merged_df.iloc[517].cxr_report_text)"
   ]
  },
  {
   "cell_type": "code",
   "execution_count": 30,
   "id": "9d82cb9b-9884-428b-b6b4-2bfaf1c850a3",
   "metadata": {},
   "outputs": [
    {
     "data": {
      "text/plain": [
       "' WET READ: ___ ___ 12:30 AM\\n  No acute cardiopulmonary process. Known T-spine fracture not well seen on this\\n  single frontal view.  ___ p___WET READ VERSION #1 \\n ______________________________________________________________________________\\n                                 FINAL REPORT\\n HISTORY:  Preoperative.\\n \\n FINDINGS:  In comparison with the study of ___, there is little change and\\n no evidence of acute cardiopulmonary disease.  No pneumonia, vascular\\n congestion, or pleural effusion.\\n'"
      ]
     },
     "execution_count": 30,
     "metadata": {},
     "output_type": "execute_result"
    }
   ],
   "source": [
    "merged_df.iloc[0].cxr_report_text"
   ]
  },
  {
   "cell_type": "code",
   "execution_count": 10,
   "id": "884753c3-92fc-41a2-b877-879602e7c90b",
   "metadata": {},
   "outputs": [
    {
     "data": {
      "text/plain": [
       "1097916"
      ]
     },
     "execution_count": 10,
     "metadata": {},
     "output_type": "execute_result"
    }
   ],
   "source": [
    "common_subject_mimic_notes = mimic_notes[~mimic_notes['subject_id'].isin(mimic_only_subject_ids)]\n",
    "len(common_subject_mimic_notes)"
   ]
  },
  {
   "cell_type": "code",
   "execution_count": 11,
   "id": "e480b00f-6b0a-4681-a329-0f87479e64e0",
   "metadata": {},
   "outputs": [
    {
     "name": "stdout",
     "output_type": "stream",
     "text": [
      "True\n"
     ]
    }
   ],
   "source": [
    "print(len(common_subject_mimic_notes)+len(mimic_only_notes)==len(mimic_notes))"
   ]
  },
  {
   "cell_type": "code",
   "execution_count": 12,
   "id": "c22cc8ad-2212-4577-84e2-d60b4928c0fc",
   "metadata": {},
   "outputs": [
    {
     "data": {
      "text/plain": [
       "1223439"
      ]
     },
     "execution_count": 12,
     "metadata": {},
     "output_type": "execute_result"
    }
   ],
   "source": [
    "len(mimic_only_notes)"
   ]
  },
  {
   "cell_type": "code",
   "execution_count": 13,
   "id": "f3bbb4a1-113e-4778-99c4-e00513f24cd1",
   "metadata": {},
   "outputs": [
    {
     "name": "stderr",
     "output_type": "stream",
     "text": [
      "100%|██████████| 1097916/1097916 [04:44<00:00, 3853.74it/s]\n",
      "/scratch/baj321/conda-envs/medfuse_py37/lib/python3.7/site-packages/ipykernel_launcher.py:1: SettingWithCopyWarning: \n",
      "A value is trying to be set on a copy of a slice from a DataFrame.\n",
      "Try using .loc[row_indexer,col_indexer] = value instead\n",
      "\n",
      "See the caveats in the documentation: https://pandas.pydata.org/pandas-docs/stable/user_guide/indexing.html#returning-a-view-versus-a-copy\n",
      "  \"\"\"Entry point for launching an IPython kernel.\n"
     ]
    }
   ],
   "source": [
    "common_subject_mimic_notes['processed_text'] = common_subject_mimic_notes['text'].progress_apply(preprocess_mimic_notes)"
   ]
  },
  {
   "cell_type": "code",
   "execution_count": 14,
   "id": "9fad1919-0cdf-4f94-bd1c-f775423876d3",
   "metadata": {},
   "outputs": [
    {
     "data": {
      "text/plain": [
       "215822"
      ]
     },
     "execution_count": 14,
     "metadata": {},
     "output_type": "execute_result"
    }
   ],
   "source": [
    "common_subject_cxr_reports = cxr_reports[~cxr_reports['subject_id'].isin(cxr_only_subject_ids)]\n",
    "len(common_subject_cxr_reports)"
   ]
  },
  {
   "cell_type": "code",
   "execution_count": 15,
   "id": "f11418ca-4a44-4426-b8d4-88eea297cbf4",
   "metadata": {},
   "outputs": [
    {
     "name": "stderr",
     "output_type": "stream",
     "text": [
      "100%|██████████| 215822/215822 [00:29<00:00, 7288.36it/s]\n",
      "/scratch/baj321/conda-envs/medfuse_py37/lib/python3.7/site-packages/ipykernel_launcher.py:1: SettingWithCopyWarning: \n",
      "A value is trying to be set on a copy of a slice from a DataFrame.\n",
      "Try using .loc[row_indexer,col_indexer] = value instead\n",
      "\n",
      "See the caveats in the documentation: https://pandas.pydata.org/pandas-docs/stable/user_guide/indexing.html#returning-a-view-versus-a-copy\n",
      "  \"\"\"Entry point for launching an IPython kernel.\n"
     ]
    }
   ],
   "source": [
    "common_subject_cxr_reports['processed_text'] = common_subject_cxr_reports['cxr_report_text'].progress_apply(preprocess)"
   ]
  },
  {
   "cell_type": "code",
   "execution_count": 16,
   "id": "1e3d95a0-3270-4cda-93d1-456a4bf63f3d",
   "metadata": {},
   "outputs": [
    {
     "name": "stderr",
     "output_type": "stream",
     "text": [
      "Filtering by Subject ID: 100%|██████████| 61717/61717 [24:23<00:00, 42.17it/s]  \n"
     ]
    }
   ],
   "source": [
    "import pandas as pd\n",
    "from tqdm import tqdm\n",
    "from multiprocessing import Pool, cpu_count\n",
    "\n",
    "# Merge the two dataframes on 'subject_id'\n",
    "merged_common_df = common_subject_mimic_notes.merge(common_subject_cxr_reports, on='subject_id', suffixes=('_mimic', '_cxr'))\n",
    "# Filter to retain rows where processed texts are different\n",
    "#merged_common_df = merged_common_df[merged_common_df['processed_text_mimic'] != merged_common_df['processed_text_cxr']]\n",
    "\n",
    "# Define a function to calculate Jaccard similarity between two sets of text\n",
    "def jaccard_similarity(text1, text2):\n",
    "    set1 = set(text1.split())\n",
    "    set2 = set(text2.split())\n",
    "    intersection = len(set1.intersection(set2))\n",
    "    union = len(set1.union(set2))\n",
    "    return intersection / union if union != 0 else 0\n",
    "\n",
    "# Define a function that processes a single subject_id group\n",
    "def process_subject_group(group):\n",
    "    mimic_entries = group['text'].unique()\n",
    "    cxr_entries = group['cxr_report_text'].unique()\n",
    "    \n",
    "    keep_rows = []\n",
    "\n",
    "    for idx, row in group.iterrows():\n",
    "        mimic_text = row['text']\n",
    "        cxr_text = row['cxr_report_text']\n",
    "        \n",
    "        # Check for similarity only between mimic_text and cxr_text entries\n",
    "        mimic_similar = any(jaccard_similarity(mimic_text, cxr) > 0.9 for cxr in cxr_entries)\n",
    "        cxr_similar = any(jaccard_similarity(cxr_text, mimic) > 0.9 for mimic in mimic_entries)\n",
    "        \n",
    "        # Keep the row only if mimic_text is not too similar to any cxr_text, and vice versa\n",
    "        if not mimic_similar and not cxr_similar:\n",
    "            keep_rows.append(row)\n",
    "\n",
    "    # Return the filtered rows for this group\n",
    "    return pd.DataFrame(keep_rows)\n",
    "\n",
    "\n",
    "# Split the DataFrame by subject_id\n",
    "grouped = list(merged_common_df.groupby('subject_id'))\n",
    "\n",
    "# Use the number of available CPUs or a set number if desired\n",
    "num_cores = min(cpu_count(), 28)\n",
    "\n",
    "with Pool(num_cores) as pool:\n",
    "    # Process each group in parallel and combine the results\n",
    "    results = list(tqdm(pool.imap(process_subject_group, [group for _, group in grouped]), total=len(grouped), desc=\"Filtering by Subject ID\"))\n",
    "    \n",
    "# Concatenate the filtered results into a single DataFrame\n",
    "filtered_df = pd.concat(results, ignore_index=True)\n",
    "    \n",
    "# `filtered_df` now contains the filtered data, ensuring mimic_texts are only compared to cxr_texts and vice versa\n"
   ]
  },
  {
   "cell_type": "code",
   "execution_count": 17,
   "id": "c1089fc3-f64a-4971-b477-8bba7a7be33c",
   "metadata": {},
   "outputs": [
    {
     "data": {
      "text/plain": [
       "560536"
      ]
     },
     "execution_count": 17,
     "metadata": {},
     "output_type": "execute_result"
    }
   ],
   "source": [
    "len(filtered_df)"
   ]
  },
  {
   "cell_type": "code",
   "execution_count": 18,
   "id": "92ce183a-3518-4538-8d0c-dfd73c2cc48d",
   "metadata": {},
   "outputs": [
    {
     "data": {
      "text/plain": [
       "Index(['note_id', 'subject_id', 'hadm_id', 'note_type', 'note_seq',\n",
       "       'charttime', 'storetime', 'text', 'processed_text_mimic', 'study_id',\n",
       "       'cxr_report_text', 'processed_text_cxr'],\n",
       "      dtype='object')"
      ]
     },
     "execution_count": 18,
     "metadata": {},
     "output_type": "execute_result"
    }
   ],
   "source": [
    "filtered_df.columns"
   ]
  },
  {
   "cell_type": "code",
   "execution_count": 19,
   "id": "28a0218a-c7ac-4bf9-86b6-230c403e3ffa",
   "metadata": {},
   "outputs": [],
   "source": [
    "# Columns related to cxr\n",
    "cxr_columns = ['subject_id','study_id', 'cxr_report_text', 'processed_text_cxr']\n",
    "\n",
    "# Columns related to mimic\n",
    "mimic_columns = ['note_id', 'subject_id', 'hadm_id', 'note_type', 'note_seq', 'charttime', 'storetime', 'text', 'processed_text_mimic' ]\n",
    "\n",
    "# Creating two new DataFrames\n",
    "cxr_df = filtered_df[cxr_columns].drop_duplicates()\n",
    "mimic_df = filtered_df[mimic_columns].drop_duplicates()\n"
   ]
  },
  {
   "cell_type": "code",
   "execution_count": 26,
   "id": "61664e70-cfb5-41d0-aacd-6b1aeb96f1cf",
   "metadata": {},
   "outputs": [
    {
     "data": {
      "text/plain": [
       "36717"
      ]
     },
     "execution_count": 26,
     "metadata": {},
     "output_type": "execute_result"
    }
   ],
   "source": [
    "len(cxr_df)"
   ]
  },
  {
   "cell_type": "code",
   "execution_count": 27,
   "id": "c9e569ef-39ab-40fe-b9ab-eb762a376a2d",
   "metadata": {},
   "outputs": [
    {
     "data": {
      "text/plain": [
       "470964"
      ]
     },
     "execution_count": 27,
     "metadata": {},
     "output_type": "execute_result"
    }
   ],
   "source": [
    "len(mimic_df)"
   ]
  },
  {
   "cell_type": "code",
   "execution_count": 24,
   "id": "484d0dc2-3e9b-4441-9d5d-84e4ab6b4ae1",
   "metadata": {},
   "outputs": [
    {
     "data": {
      "text/plain": [
       "Index(['note_id', 'subject_id', 'hadm_id', 'note_type', 'note_seq',\n",
       "       'charttime', 'storetime', 'text'],\n",
       "      dtype='object')"
      ]
     },
     "execution_count": 24,
     "metadata": {},
     "output_type": "execute_result"
    }
   ],
   "source": [
    "mimic_notes.columns"
   ]
  },
  {
   "cell_type": "code",
   "execution_count": 28,
   "id": "2aab799c-810c-4489-b431-515f8f7029c8",
   "metadata": {},
   "outputs": [
    {
     "data": {
      "text/html": [
       "<div>\n",
       "<style scoped>\n",
       "    .dataframe tbody tr th:only-of-type {\n",
       "        vertical-align: middle;\n",
       "    }\n",
       "\n",
       "    .dataframe tbody tr th {\n",
       "        vertical-align: top;\n",
       "    }\n",
       "\n",
       "    .dataframe thead th {\n",
       "        text-align: right;\n",
       "    }\n",
       "</style>\n",
       "<table border=\"1\" class=\"dataframe\">\n",
       "  <thead>\n",
       "    <tr style=\"text-align: right;\">\n",
       "      <th></th>\n",
       "      <th>note_id</th>\n",
       "      <th>subject_id</th>\n",
       "      <th>hadm_id</th>\n",
       "      <th>note_type</th>\n",
       "      <th>note_seq</th>\n",
       "      <th>charttime</th>\n",
       "      <th>storetime</th>\n",
       "      <th>text</th>\n",
       "      <th>processed_text_mimic</th>\n",
       "      <th>study_id</th>\n",
       "      <th>cxr_report_text</th>\n",
       "      <th>processed_text_cxr</th>\n",
       "    </tr>\n",
       "  </thead>\n",
       "  <tbody>\n",
       "    <tr>\n",
       "      <th>0</th>\n",
       "      <td>10000980-RR-52</td>\n",
       "      <td>10000980</td>\n",
       "      <td>NaN</td>\n",
       "      <td>RR</td>\n",
       "      <td>52</td>\n",
       "      <td>2185-06-27 14:21:00</td>\n",
       "      <td>2185-06-28 12:16:00</td>\n",
       "      <td>HISTORY:  Screening.\\n\\nDIGITAL SCREENING MAMM...</td>\n",
       "      <td>HISTORYScreeningDIGITALSCREENINGMAMMOGRAPHYINT...</td>\n",
       "      <td>58206436</td>\n",
       "      <td>WET READ: ___ ___ ___ 6:47 AM\\n  1. New mild ...</td>\n",
       "      <td>EXAMINATIONChestradiographINDICATIONwithwheezi...</td>\n",
       "    </tr>\n",
       "    <tr>\n",
       "      <th>1</th>\n",
       "      <td>10000980-RR-55</td>\n",
       "      <td>10000980</td>\n",
       "      <td>NaN</td>\n",
       "      <td>RR</td>\n",
       "      <td>55</td>\n",
       "      <td>2187-01-10 09:16:00</td>\n",
       "      <td>2187-01-13 16:47:00</td>\n",
       "      <td>INDICATION:  Screening. \\n\\nDIGITAL SCREENING ...</td>\n",
       "      <td>INDICATIONScreeningDIGITALSCREENINGMAMMOGRAMWI...</td>\n",
       "      <td>58206436</td>\n",
       "      <td>WET READ: ___ ___ ___ 6:47 AM\\n  1. New mild ...</td>\n",
       "      <td>EXAMINATIONChestradiographINDICATIONwithwheezi...</td>\n",
       "    </tr>\n",
       "    <tr>\n",
       "      <th>2</th>\n",
       "      <td>10000980-RR-56</td>\n",
       "      <td>10000980</td>\n",
       "      <td>NaN</td>\n",
       "      <td>RR</td>\n",
       "      <td>56</td>\n",
       "      <td>2187-02-21 04:11:00</td>\n",
       "      <td>2187-02-21 06:01:00</td>\n",
       "      <td>HISTORY:  ___ female with near syncopal episod...</td>\n",
       "      <td>HISTORYfemalewithnearsyncopalepisodeSTUDYPAand...</td>\n",
       "      <td>58206436</td>\n",
       "      <td>WET READ: ___ ___ ___ 6:47 AM\\n  1. New mild ...</td>\n",
       "      <td>EXAMINATIONChestradiographINDICATIONwithwheezi...</td>\n",
       "    </tr>\n",
       "    <tr>\n",
       "      <th>3</th>\n",
       "      <td>10000980-RR-57</td>\n",
       "      <td>10000980</td>\n",
       "      <td>NaN</td>\n",
       "      <td>RR</td>\n",
       "      <td>57</td>\n",
       "      <td>2187-02-21 06:38:00</td>\n",
       "      <td>2187-02-21 07:34:00</td>\n",
       "      <td>HISTORY:  ___ female with prior CVA, now prese...</td>\n",
       "      <td>HISTORYfemalewithpriorCVAnowpresentingwithTIAs...</td>\n",
       "      <td>58206436</td>\n",
       "      <td>WET READ: ___ ___ ___ 6:47 AM\\n  1. New mild ...</td>\n",
       "      <td>EXAMINATIONChestradiographINDICATIONwithwheezi...</td>\n",
       "    </tr>\n",
       "    <tr>\n",
       "      <th>4</th>\n",
       "      <td>10000980-RR-60</td>\n",
       "      <td>10000980</td>\n",
       "      <td>NaN</td>\n",
       "      <td>RR</td>\n",
       "      <td>60</td>\n",
       "      <td>2189-01-26 10:32:00</td>\n",
       "      <td>2189-02-01 12:45:00</td>\n",
       "      <td>HISTORY:  Screening.  \\n\\nDIGITAL HOLOGIC SCRE...</td>\n",
       "      <td>HISTORYScreeningDIGITALHOLOGICSCREENINGMAMMOGR...</td>\n",
       "      <td>58206436</td>\n",
       "      <td>WET READ: ___ ___ ___ 6:47 AM\\n  1. New mild ...</td>\n",
       "      <td>EXAMINATIONChestradiographINDICATIONwithwheezi...</td>\n",
       "    </tr>\n",
       "  </tbody>\n",
       "</table>\n",
       "</div>"
      ],
      "text/plain": [
       "          note_id  subject_id  hadm_id note_type  note_seq  \\\n",
       "0  10000980-RR-52    10000980      NaN        RR        52   \n",
       "1  10000980-RR-55    10000980      NaN        RR        55   \n",
       "2  10000980-RR-56    10000980      NaN        RR        56   \n",
       "3  10000980-RR-57    10000980      NaN        RR        57   \n",
       "4  10000980-RR-60    10000980      NaN        RR        60   \n",
       "\n",
       "             charttime            storetime  \\\n",
       "0  2185-06-27 14:21:00  2185-06-28 12:16:00   \n",
       "1  2187-01-10 09:16:00  2187-01-13 16:47:00   \n",
       "2  2187-02-21 04:11:00  2187-02-21 06:01:00   \n",
       "3  2187-02-21 06:38:00  2187-02-21 07:34:00   \n",
       "4  2189-01-26 10:32:00  2189-02-01 12:45:00   \n",
       "\n",
       "                                                text  \\\n",
       "0  HISTORY:  Screening.\\n\\nDIGITAL SCREENING MAMM...   \n",
       "1  INDICATION:  Screening. \\n\\nDIGITAL SCREENING ...   \n",
       "2  HISTORY:  ___ female with near syncopal episod...   \n",
       "3  HISTORY:  ___ female with prior CVA, now prese...   \n",
       "4  HISTORY:  Screening.  \\n\\nDIGITAL HOLOGIC SCRE...   \n",
       "\n",
       "                                processed_text_mimic  study_id  \\\n",
       "0  HISTORYScreeningDIGITALSCREENINGMAMMOGRAPHYINT...  58206436   \n",
       "1  INDICATIONScreeningDIGITALSCREENINGMAMMOGRAMWI...  58206436   \n",
       "2  HISTORYfemalewithnearsyncopalepisodeSTUDYPAand...  58206436   \n",
       "3  HISTORYfemalewithpriorCVAnowpresentingwithTIAs...  58206436   \n",
       "4  HISTORYScreeningDIGITALHOLOGICSCREENINGMAMMOGR...  58206436   \n",
       "\n",
       "                                     cxr_report_text  \\\n",
       "0   WET READ: ___ ___ ___ 6:47 AM\\n  1. New mild ...   \n",
       "1   WET READ: ___ ___ ___ 6:47 AM\\n  1. New mild ...   \n",
       "2   WET READ: ___ ___ ___ 6:47 AM\\n  1. New mild ...   \n",
       "3   WET READ: ___ ___ ___ 6:47 AM\\n  1. New mild ...   \n",
       "4   WET READ: ___ ___ ___ 6:47 AM\\n  1. New mild ...   \n",
       "\n",
       "                                  processed_text_cxr  \n",
       "0  EXAMINATIONChestradiographINDICATIONwithwheezi...  \n",
       "1  EXAMINATIONChestradiographINDICATIONwithwheezi...  \n",
       "2  EXAMINATIONChestradiographINDICATIONwithwheezi...  \n",
       "3  EXAMINATIONChestradiographINDICATIONwithwheezi...  \n",
       "4  EXAMINATIONChestradiographINDICATIONwithwheezi...  "
      ]
     },
     "execution_count": 28,
     "metadata": {},
     "output_type": "execute_result"
    }
   ],
   "source": [
    "filtered_df.head()"
   ]
  },
  {
   "cell_type": "code",
   "execution_count": null,
   "id": "f81c606e-979b-4c7c-80b0-21df5960f934",
   "metadata": {},
   "outputs": [],
   "source": [
    "from tqdm import tqdm\n",
    "\n",
    "# Initialize tqdm for progress tracking\n",
    "tqdm.pandas()\n",
    "\n",
    "# Filter `common_subject_mimic_notes` to keep rows where there's no match in `common_subject_cxr_reports`\n",
    "filtered_mimic_notes = common_subject_mimic_notes[\n",
    "    ~common_subject_mimic_notes.progress_apply(\n",
    "        lambda row: ((common_subject_cxr_reports['subject_id'] == row['subject_id']) &\n",
    "                     (common_subject_cxr_reports['processed_text'] == row['processed_text'])).any(),\n",
    "        axis=1\n",
    "    )\n",
    "]\n",
    "\n",
    "# Filter `common_subject_cxr_reports` to keep rows where there's no match in `common_subject_mimic_notes`\n",
    "filtered_cxr_reports = common_subject_cxr_reports[\n",
    "    ~common_subject_cxr_reports.progress_apply(\n",
    "        lambda row: ((common_subject_mimic_notes['subject_id'] == row['subject_id']) &\n",
    "                     (common_subject_mimic_notes['processed_text'] == row['processed_text'])).any(),\n",
    "        axis=1\n",
    "    )\n",
    "]\n"
   ]
  },
  {
   "cell_type": "code",
   "execution_count": null,
   "id": "94252836-9b17-4d58-9f2f-117fe675c8dd",
   "metadata": {},
   "outputs": [],
   "source": []
  }
 ],
 "metadata": {
  "kernelspec": {
   "display_name": "medfuse_py37",
   "language": "python",
   "name": "medfuse_py37"
  },
  "language_info": {
   "codemirror_mode": {
    "name": "ipython",
    "version": 3
   },
   "file_extension": ".py",
   "mimetype": "text/x-python",
   "name": "python",
   "nbconvert_exporter": "python",
   "pygments_lexer": "ipython3",
   "version": "3.7.12"
  }
 },
 "nbformat": 4,
 "nbformat_minor": 5
}
